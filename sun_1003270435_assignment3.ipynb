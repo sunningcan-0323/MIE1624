{
 "cells": [
  {
   "cell_type": "markdown",
   "id": "941346f9",
   "metadata": {
    "id": "941346f9"
   },
   "source": [
    "### 1.Data cleaning (10 marks):\n",
    "The tweets, as given, are not in a form amenable to analysis – there is too much ‘noise’. Therefore, the first step is to “clean” the data. Design a procedure that prepares the Twitter data for analysis by satisfying the requirements below. Remember to use the same pipeline for both datasets.\n",
    "\n",
    "• All html tags and attributes (i.e., /<[^>]+>/) are removed.\n",
    "\n",
    "• Html character codes (i.e., &...;) are replaced with an ASCII equivalent.\n",
    "\n",
    "• All URLs are removed.\n",
    "\n",
    "• All characters in the text are in lowercase.\n",
    "\n",
    "• All stop words are removed. Be clear in what you consider as a stop word.\n",
    "\n",
    "• If a tweet is empty after pre-processing, it should be preserved as such."
   ]
  },
  {
   "cell_type": "code",
   "execution_count": 1,
   "id": "def8878d",
   "metadata": {
    "id": "def8878d"
   },
   "outputs": [],
   "source": [
    "#!pip install xgboost"
   ]
  },
  {
   "cell_type": "code",
   "execution_count": 2,
   "id": "07db8f1a",
   "metadata": {
    "id": "07db8f1a"
   },
   "outputs": [],
   "source": [
    "#conda install py-xgboost"
   ]
  },
  {
   "cell_type": "code",
   "execution_count": 3,
   "id": "c8b37b67",
   "metadata": {
    "colab": {
     "base_uri": "https://localhost:8080/"
    },
    "id": "c8b37b67",
    "outputId": "06139158-382a-4cd8-d795-099d5bce081d"
   },
   "outputs": [
    {
     "name": "stderr",
     "output_type": "stream",
     "text": [
      "/var/folders/k8/5mxt7tx502x182rpcwd55p080000gn/T/ipykernel_43198/3545649700.py:3: UserWarning: DelftStack\n",
      "  warnings.warn('DelftStack')\n"
     ]
    }
   ],
   "source": [
    "import warnings\n",
    "warnings.filterwarnings('ignore', '.*do not.*', )\n",
    "warnings.warn('DelftStack')\n",
    "warnings.warn('Do not show this message')\n",
    "import pandas as pd\n",
    "import numpy as np\n",
    "import matplotlib.pyplot as plt\n",
    "import re\n",
    "import html\n",
    "from nltk.corpus import stopwords\n",
    "from nltk.tokenize import word_tokenize\n",
    "from bs4 import BeautifulSoup\n",
    "import nltk\n",
    "from pylab import rcParams\n",
    "from sklearn.feature_extraction.text import CountVectorizer, TfidfVectorizer\n",
    "from sklearn.model_selection import train_test_split, KFold, GridSearchCV\n",
    "from sklearn.linear_model import LogisticRegression\n",
    "from sklearn.metrics import accuracy_score\n",
    "from sklearn.neighbors import KNeighborsClassifier\n",
    "from sklearn.naive_bayes import MultinomialNB\n",
    "from sklearn.svm import LinearSVC\n",
    "from sklearn.ensemble import RandomForestClassifier\n",
    "from xgboost import XGBClassifier\n",
    "from sklearn.tree import DecisionTreeClassifier\n",
    "from sklearn.preprocessing import LabelEncoder\n",
    "from sklearn.metrics import f1_score\n",
    "from sklearn.metrics import precision_score\n",
    "from sklearn import preprocessing as prep\n",
    "import seaborn as sns\n",
    "from sklearn.metrics import confusion_matrix \n",
    "from sklearn.preprocessing import StandardScaler\n",
    "from sklearn.model_selection import RepeatedStratifiedKFold"
   ]
  },
  {
   "cell_type": "code",
   "execution_count": 4,
   "id": "a9642853",
   "metadata": {
    "colab": {
     "base_uri": "https://localhost:8080/",
     "height": 188
    },
    "id": "a9642853",
    "outputId": "fc8ebd4d-547f-4ec7-f87d-37e495ad3d8e"
   },
   "outputs": [],
   "source": [
    "# import data\n",
    "sentiment = pd.read_csv('sentiment_analysis.csv')\n",
    "election=  pd.read_csv('Canadian_elections_2021.csv')"
   ]
  },
  {
   "cell_type": "markdown",
   "id": "704a3be6",
   "metadata": {
    "id": "704a3be6"
   },
   "source": [
    "#### 1.1 All html tags and attributes (i.e., /<[^>]+>/) are removed."
   ]
  },
  {
   "cell_type": "code",
   "execution_count": 5,
   "id": "81f6ad97",
   "metadata": {
    "id": "81f6ad97"
   },
   "outputs": [],
   "source": [
    "# Remove all html tags and attributes, use the beautiful soup\n",
    "def html_tags_attributes(df):\n",
    "    text=BeautifulSoup(df,'html.parser')\n",
    "    return text.get_text()"
   ]
  },
  {
   "cell_type": "code",
   "execution_count": 6,
   "id": "309fced7",
   "metadata": {
    "id": "309fced7"
   },
   "outputs": [],
   "source": [
    "# Apply in the def function that I create html_tags_attributes for both dataframe\n",
    "sentiment['text'] = sentiment[\"text\"].apply(html_tags_attributes)\n",
    "election['text'] = election[\"text\"].apply(html_tags_attributes)"
   ]
  },
  {
   "cell_type": "code",
   "execution_count": 7,
   "id": "91a243db",
   "metadata": {
    "colab": {
     "base_uri": "https://localhost:8080/",
     "height": 206
    },
    "id": "91a243db",
    "outputId": "6b8c8b81-77bc-4277-f68e-850d88f89b4c"
   },
   "outputs": [
    {
     "data": {
      "text/html": [
       "<div>\n",
       "<style scoped>\n",
       "    .dataframe tbody tr th:only-of-type {\n",
       "        vertical-align: middle;\n",
       "    }\n",
       "\n",
       "    .dataframe tbody tr th {\n",
       "        vertical-align: top;\n",
       "    }\n",
       "\n",
       "    .dataframe thead th {\n",
       "        text-align: right;\n",
       "    }\n",
       "</style>\n",
       "<table border=\"1\" class=\"dataframe\">\n",
       "  <thead>\n",
       "    <tr style=\"text-align: right;\">\n",
       "      <th></th>\n",
       "      <th>text</th>\n",
       "      <th>sentiment</th>\n",
       "      <th>negative_reason</th>\n",
       "    </tr>\n",
       "  </thead>\n",
       "  <tbody>\n",
       "    <tr>\n",
       "      <th>0</th>\n",
       "      <td>The Canadian election is a power grab by PM Tr...</td>\n",
       "      <td>negative</td>\n",
       "      <td>calling election early</td>\n",
       "    </tr>\n",
       "    <tr>\n",
       "      <th>1</th>\n",
       "      <td>I do hope Trudeau loses the Canadian election ...</td>\n",
       "      <td>negative</td>\n",
       "      <td>covid</td>\n",
       "    </tr>\n",
       "    <tr>\n",
       "      <th>2</th>\n",
       "      <td>Dear Canadians, This election is a test of how...</td>\n",
       "      <td>positive</td>\n",
       "      <td>NaN</td>\n",
       "    </tr>\n",
       "    <tr>\n",
       "      <th>3</th>\n",
       "      <td>Canadian friends: Never forget that Trudeau ha...</td>\n",
       "      <td>negative</td>\n",
       "      <td>calling election early</td>\n",
       "    </tr>\n",
       "    <tr>\n",
       "      <th>4</th>\n",
       "      <td>Sorry @theJagmeetSingh I have voted #NDP all m...</td>\n",
       "      <td>positive</td>\n",
       "      <td>NaN</td>\n",
       "    </tr>\n",
       "  </tbody>\n",
       "</table>\n",
       "</div>"
      ],
      "text/plain": [
       "                                                text sentiment  \\\n",
       "0  The Canadian election is a power grab by PM Tr...  negative   \n",
       "1  I do hope Trudeau loses the Canadian election ...  negative   \n",
       "2  Dear Canadians, This election is a test of how...  positive   \n",
       "3  Canadian friends: Never forget that Trudeau ha...  negative   \n",
       "4  Sorry @theJagmeetSingh I have voted #NDP all m...  positive   \n",
       "\n",
       "          negative_reason  \n",
       "0  calling election early  \n",
       "1                  covid   \n",
       "2                     NaN  \n",
       "3  calling election early  \n",
       "4                     NaN  "
      ]
     },
     "execution_count": 7,
     "metadata": {},
     "output_type": "execute_result"
    }
   ],
   "source": [
    "election.head()"
   ]
  },
  {
   "cell_type": "code",
   "execution_count": 8,
   "id": "e2fdf22f",
   "metadata": {
    "colab": {
     "base_uri": "https://localhost:8080/",
     "height": 206
    },
    "id": "e2fdf22f",
    "outputId": "09c31518-85b4-41ea-8307-3570ff13a49d"
   },
   "outputs": [
    {
     "data": {
      "text/html": [
       "<div>\n",
       "<style scoped>\n",
       "    .dataframe tbody tr th:only-of-type {\n",
       "        vertical-align: middle;\n",
       "    }\n",
       "\n",
       "    .dataframe tbody tr th {\n",
       "        vertical-align: top;\n",
       "    }\n",
       "\n",
       "    .dataframe thead th {\n",
       "        text-align: right;\n",
       "    }\n",
       "</style>\n",
       "<table border=\"1\" class=\"dataframe\">\n",
       "  <thead>\n",
       "    <tr style=\"text-align: right;\">\n",
       "      <th></th>\n",
       "      <th>ID</th>\n",
       "      <th>text</th>\n",
       "      <th>label</th>\n",
       "    </tr>\n",
       "  </thead>\n",
       "  <tbody>\n",
       "    <tr>\n",
       "      <th>0</th>\n",
       "      <td>7.680980e+17</td>\n",
       "      <td>Josh Jenkins is looking forward to TAB Breeder...</td>\n",
       "      <td>1</td>\n",
       "    </tr>\n",
       "    <tr>\n",
       "      <th>1</th>\n",
       "      <td>7.680980e+17</td>\n",
       "      <td>RT @MianUsmanJaved: Congratulations Pakistan o...</td>\n",
       "      <td>1</td>\n",
       "    </tr>\n",
       "    <tr>\n",
       "      <th>2</th>\n",
       "      <td>7.680980e+17</td>\n",
       "      <td>RT @PEPalerts: This September, @YESmag is taki...</td>\n",
       "      <td>1</td>\n",
       "    </tr>\n",
       "    <tr>\n",
       "      <th>3</th>\n",
       "      <td>7.680980e+17</td>\n",
       "      <td>RT @david_gaibis: Newly painted walls, thanks ...</td>\n",
       "      <td>1</td>\n",
       "    </tr>\n",
       "    <tr>\n",
       "      <th>4</th>\n",
       "      <td>7.680980e+17</td>\n",
       "      <td>RT @CedricFeschotte: Excited to announce: as o...</td>\n",
       "      <td>1</td>\n",
       "    </tr>\n",
       "  </tbody>\n",
       "</table>\n",
       "</div>"
      ],
      "text/plain": [
       "             ID                                               text  label\n",
       "0  7.680980e+17  Josh Jenkins is looking forward to TAB Breeder...      1\n",
       "1  7.680980e+17  RT @MianUsmanJaved: Congratulations Pakistan o...      1\n",
       "2  7.680980e+17  RT @PEPalerts: This September, @YESmag is taki...      1\n",
       "3  7.680980e+17  RT @david_gaibis: Newly painted walls, thanks ...      1\n",
       "4  7.680980e+17  RT @CedricFeschotte: Excited to announce: as o...      1"
      ]
     },
     "execution_count": 8,
     "metadata": {},
     "output_type": "execute_result"
    }
   ],
   "source": [
    "sentiment.head()"
   ]
  },
  {
   "cell_type": "markdown",
   "id": "63b22083",
   "metadata": {
    "id": "63b22083"
   },
   "source": [
    "#### 1.2 Html character codes (i.e., &...;) are replaced with an ASCII equivalent."
   ]
  },
  {
   "cell_type": "code",
   "execution_count": 9,
   "id": "4b10a900",
   "metadata": {
    "id": "4b10a900"
   },
   "outputs": [],
   "source": [
    "# Html character codes (i.e., &...;) are replaced with an ASCII equivalent, the def function is html_ASCII\n",
    "def html_ASCII(df):\n",
    "    text_remove = html.unescape(df)\n",
    "    return text_remove"
   ]
  },
  {
   "cell_type": "code",
   "execution_count": 10,
   "id": "25d67323",
   "metadata": {
    "id": "25d67323"
   },
   "outputs": [],
   "source": [
    "# Apply in the def function that I create html_ASCII for both dataframe\n",
    "sentiment['text'] = sentiment[\"text\"].apply(html_ASCII)\n",
    "election['text'] = election[\"text\"].apply(html_ASCII)"
   ]
  },
  {
   "cell_type": "code",
   "execution_count": 11,
   "id": "7416a4c2",
   "metadata": {
    "colab": {
     "base_uri": "https://localhost:8080/",
     "height": 206
    },
    "id": "7416a4c2",
    "outputId": "1b573725-29ea-496e-f399-133b7ab2b3b0"
   },
   "outputs": [
    {
     "data": {
      "text/html": [
       "<div>\n",
       "<style scoped>\n",
       "    .dataframe tbody tr th:only-of-type {\n",
       "        vertical-align: middle;\n",
       "    }\n",
       "\n",
       "    .dataframe tbody tr th {\n",
       "        vertical-align: top;\n",
       "    }\n",
       "\n",
       "    .dataframe thead th {\n",
       "        text-align: right;\n",
       "    }\n",
       "</style>\n",
       "<table border=\"1\" class=\"dataframe\">\n",
       "  <thead>\n",
       "    <tr style=\"text-align: right;\">\n",
       "      <th></th>\n",
       "      <th>text</th>\n",
       "      <th>sentiment</th>\n",
       "      <th>negative_reason</th>\n",
       "    </tr>\n",
       "  </thead>\n",
       "  <tbody>\n",
       "    <tr>\n",
       "      <th>0</th>\n",
       "      <td>The Canadian election is a power grab by PM Tr...</td>\n",
       "      <td>negative</td>\n",
       "      <td>calling election early</td>\n",
       "    </tr>\n",
       "    <tr>\n",
       "      <th>1</th>\n",
       "      <td>I do hope Trudeau loses the Canadian election ...</td>\n",
       "      <td>negative</td>\n",
       "      <td>covid</td>\n",
       "    </tr>\n",
       "    <tr>\n",
       "      <th>2</th>\n",
       "      <td>Dear Canadians, This election is a test of how...</td>\n",
       "      <td>positive</td>\n",
       "      <td>NaN</td>\n",
       "    </tr>\n",
       "    <tr>\n",
       "      <th>3</th>\n",
       "      <td>Canadian friends: Never forget that Trudeau ha...</td>\n",
       "      <td>negative</td>\n",
       "      <td>calling election early</td>\n",
       "    </tr>\n",
       "    <tr>\n",
       "      <th>4</th>\n",
       "      <td>Sorry @theJagmeetSingh I have voted #NDP all m...</td>\n",
       "      <td>positive</td>\n",
       "      <td>NaN</td>\n",
       "    </tr>\n",
       "  </tbody>\n",
       "</table>\n",
       "</div>"
      ],
      "text/plain": [
       "                                                text sentiment  \\\n",
       "0  The Canadian election is a power grab by PM Tr...  negative   \n",
       "1  I do hope Trudeau loses the Canadian election ...  negative   \n",
       "2  Dear Canadians, This election is a test of how...  positive   \n",
       "3  Canadian friends: Never forget that Trudeau ha...  negative   \n",
       "4  Sorry @theJagmeetSingh I have voted #NDP all m...  positive   \n",
       "\n",
       "          negative_reason  \n",
       "0  calling election early  \n",
       "1                  covid   \n",
       "2                     NaN  \n",
       "3  calling election early  \n",
       "4                     NaN  "
      ]
     },
     "execution_count": 11,
     "metadata": {},
     "output_type": "execute_result"
    }
   ],
   "source": [
    "election.head()"
   ]
  },
  {
   "cell_type": "code",
   "execution_count": 12,
   "id": "90464bf7",
   "metadata": {
    "colab": {
     "base_uri": "https://localhost:8080/",
     "height": 206
    },
    "id": "90464bf7",
    "outputId": "5bd6d475-e23b-4928-b9f6-68ec4b11cb45"
   },
   "outputs": [
    {
     "data": {
      "text/html": [
       "<div>\n",
       "<style scoped>\n",
       "    .dataframe tbody tr th:only-of-type {\n",
       "        vertical-align: middle;\n",
       "    }\n",
       "\n",
       "    .dataframe tbody tr th {\n",
       "        vertical-align: top;\n",
       "    }\n",
       "\n",
       "    .dataframe thead th {\n",
       "        text-align: right;\n",
       "    }\n",
       "</style>\n",
       "<table border=\"1\" class=\"dataframe\">\n",
       "  <thead>\n",
       "    <tr style=\"text-align: right;\">\n",
       "      <th></th>\n",
       "      <th>ID</th>\n",
       "      <th>text</th>\n",
       "      <th>label</th>\n",
       "    </tr>\n",
       "  </thead>\n",
       "  <tbody>\n",
       "    <tr>\n",
       "      <th>0</th>\n",
       "      <td>7.680980e+17</td>\n",
       "      <td>Josh Jenkins is looking forward to TAB Breeder...</td>\n",
       "      <td>1</td>\n",
       "    </tr>\n",
       "    <tr>\n",
       "      <th>1</th>\n",
       "      <td>7.680980e+17</td>\n",
       "      <td>RT @MianUsmanJaved: Congratulations Pakistan o...</td>\n",
       "      <td>1</td>\n",
       "    </tr>\n",
       "    <tr>\n",
       "      <th>2</th>\n",
       "      <td>7.680980e+17</td>\n",
       "      <td>RT @PEPalerts: This September, @YESmag is taki...</td>\n",
       "      <td>1</td>\n",
       "    </tr>\n",
       "    <tr>\n",
       "      <th>3</th>\n",
       "      <td>7.680980e+17</td>\n",
       "      <td>RT @david_gaibis: Newly painted walls, thanks ...</td>\n",
       "      <td>1</td>\n",
       "    </tr>\n",
       "    <tr>\n",
       "      <th>4</th>\n",
       "      <td>7.680980e+17</td>\n",
       "      <td>RT @CedricFeschotte: Excited to announce: as o...</td>\n",
       "      <td>1</td>\n",
       "    </tr>\n",
       "  </tbody>\n",
       "</table>\n",
       "</div>"
      ],
      "text/plain": [
       "             ID                                               text  label\n",
       "0  7.680980e+17  Josh Jenkins is looking forward to TAB Breeder...      1\n",
       "1  7.680980e+17  RT @MianUsmanJaved: Congratulations Pakistan o...      1\n",
       "2  7.680980e+17  RT @PEPalerts: This September, @YESmag is taki...      1\n",
       "3  7.680980e+17  RT @david_gaibis: Newly painted walls, thanks ...      1\n",
       "4  7.680980e+17  RT @CedricFeschotte: Excited to announce: as o...      1"
      ]
     },
     "execution_count": 12,
     "metadata": {},
     "output_type": "execute_result"
    }
   ],
   "source": [
    "sentiment.head()"
   ]
  },
  {
   "cell_type": "markdown",
   "id": "1cab51ac",
   "metadata": {
    "id": "1cab51ac"
   },
   "source": [
    "#### 1.3 All URLs are removed.\n"
   ]
  },
  {
   "cell_type": "code",
   "execution_count": 13,
   "id": "c5ee491e",
   "metadata": {
    "id": "c5ee491e"
   },
   "outputs": [],
   "source": [
    "# All URLs are removed, the define function is urls. Use the 're.sub' to replace the urls to blank (remove them).\n",
    "# First search the 'http', then replace them into ''.\n",
    "def urls(df):\n",
    "    df=re.sub(r\"http\\S+\",'', df)\n",
    "    return df"
   ]
  },
  {
   "cell_type": "code",
   "execution_count": 14,
   "id": "48d4f228",
   "metadata": {
    "id": "48d4f228"
   },
   "outputs": [],
   "source": [
    "# Apply in the def function that I create urls for both dataframe\n",
    "sentiment['text'] = sentiment[\"text\"].apply(urls)\n",
    "election['text'] = election[\"text\"].apply(urls)"
   ]
  },
  {
   "cell_type": "code",
   "execution_count": 15,
   "id": "777b2fdb",
   "metadata": {
    "colab": {
     "base_uri": "https://localhost:8080/",
     "height": 434
    },
    "id": "777b2fdb",
    "outputId": "b149f22a-ecef-44af-f29c-d21721d5345b"
   },
   "outputs": [
    {
     "name": "stderr",
     "output_type": "stream",
     "text": [
      "/var/folders/k8/5mxt7tx502x182rpcwd55p080000gn/T/ipykernel_43198/2619124504.py:1: FutureWarning: Passing a negative integer is deprecated in version 1.0 and will not be supported in future version. Instead, use None to not limit the column width.\n",
      "  pd.set_option('display.max_colwidth', -1)\n"
     ]
    },
    {
     "data": {
      "text/html": [
       "<div>\n",
       "<style scoped>\n",
       "    .dataframe tbody tr th:only-of-type {\n",
       "        vertical-align: middle;\n",
       "    }\n",
       "\n",
       "    .dataframe tbody tr th {\n",
       "        vertical-align: top;\n",
       "    }\n",
       "\n",
       "    .dataframe thead th {\n",
       "        text-align: right;\n",
       "    }\n",
       "</style>\n",
       "<table border=\"1\" class=\"dataframe\">\n",
       "  <thead>\n",
       "    <tr style=\"text-align: right;\">\n",
       "      <th></th>\n",
       "      <th>text</th>\n",
       "      <th>sentiment</th>\n",
       "      <th>negative_reason</th>\n",
       "    </tr>\n",
       "  </thead>\n",
       "  <tbody>\n",
       "    <tr>\n",
       "      <th>0</th>\n",
       "      <td>The Canadian election is a power grab by PM Trudeau, yes -- to take it away from the opposition leaders who have chosen obstruction (20 non-confidence motions) and disinformation in the middle of a worldwide pandemic. Yes, no one wanted a vote; the opposition antics forced it.</td>\n",
       "      <td>negative</td>\n",
       "      <td>calling election early</td>\n",
       "    </tr>\n",
       "    <tr>\n",
       "      <th>1</th>\n",
       "      <td>I do hope Trudeau loses the Canadian election tomorrow , called a snap one thinking he’d romp it.. Seems the people there don’t like a Black face hypocrite, super wokist &amp; COVID restriction groupie..  Let’s hope the polls are right, might make our Government think again.</td>\n",
       "      <td>negative</td>\n",
       "      <td>covid</td>\n",
       "    </tr>\n",
       "    <tr>\n",
       "      <th>2</th>\n",
       "      <td>Dear Canadians, This election is a test of how progressive we are. Whether we stand by science, women’s and BIPOC rights, equality, public healthcare &amp; education, the environment. Whether we stand up against hate. We have so much to lose. Don’t let us fall back. #cdnpoli #elxn44</td>\n",
       "      <td>positive</td>\n",
       "      <td>NaN</td>\n",
       "    </tr>\n",
       "    <tr>\n",
       "      <th>3</th>\n",
       "      <td>Canadian friends: Never forget that Trudeau had 2 more years on his mandate + called a completely unnecessary election right when vaccine mandates were being rolled out - a moment of extreme political volatility. He gambled the country all so he could be less accountable. #Elxn44</td>\n",
       "      <td>negative</td>\n",
       "      <td>calling election early</td>\n",
       "    </tr>\n",
       "    <tr>\n",
       "      <th>4</th>\n",
       "      <td>Sorry @theJagmeetSingh I have voted #NDP all my life but in this election I am fighting for my freedoms as a Canadian. I voted last Saturday for @MaxineBernier of the @peoplespca #ppc #VotePPC2021 #VoteForHumanRights #voteforfreedom #maximebernier #PurpleReign #freedom 🇨🇦💜🇨🇦💜🇨🇦</td>\n",
       "      <td>positive</td>\n",
       "      <td>NaN</td>\n",
       "    </tr>\n",
       "  </tbody>\n",
       "</table>\n",
       "</div>"
      ],
      "text/plain": [
       "                                                                                                                                                                                                                                                                                       text  \\\n",
       "0  The Canadian election is a power grab by PM Trudeau, yes -- to take it away from the opposition leaders who have chosen obstruction (20 non-confidence motions) and disinformation in the middle of a worldwide pandemic. Yes, no one wanted a vote; the opposition antics forced it.      \n",
       "1  I do hope Trudeau loses the Canadian election tomorrow , called a snap one thinking he’d romp it.. Seems the people there don’t like a Black face hypocrite, super wokist & COVID restriction groupie..  Let’s hope the polls are right, might make our Government think again.            \n",
       "2  Dear Canadians, This election is a test of how progressive we are. Whether we stand by science, women’s and BIPOC rights, equality, public healthcare & education, the environment. Whether we stand up against hate. We have so much to lose. Don’t let us fall back. #cdnpoli #elxn44    \n",
       "3  Canadian friends: Never forget that Trudeau had 2 more years on his mandate + called a completely unnecessary election right when vaccine mandates were being rolled out - a moment of extreme political volatility. He gambled the country all so he could be less accountable. #Elxn44   \n",
       "4  Sorry @theJagmeetSingh I have voted #NDP all my life but in this election I am fighting for my freedoms as a Canadian. I voted last Saturday for @MaxineBernier of the @peoplespca #ppc #VotePPC2021 #VoteForHumanRights #voteforfreedom #maximebernier #PurpleReign #freedom 🇨🇦💜🇨🇦💜🇨🇦     \n",
       "\n",
       "  sentiment         negative_reason  \n",
       "0  negative  calling election early  \n",
       "1  negative  covid                   \n",
       "2  positive  NaN                     \n",
       "3  negative  calling election early  \n",
       "4  positive  NaN                     "
      ]
     },
     "execution_count": 15,
     "metadata": {},
     "output_type": "execute_result"
    }
   ],
   "source": [
    "# In order to see the whole row, so I use the 'pd.set_option'\n",
    "pd.set_option('display.max_colwidth', -1)\n",
    "election.head()"
   ]
  },
  {
   "cell_type": "code",
   "execution_count": 16,
   "id": "ff578094",
   "metadata": {
    "colab": {
     "base_uri": "https://localhost:8080/"
    },
    "id": "ff578094",
    "outputId": "66cc9c5d-e591-48f2-a49d-8f1683ca89e6"
   },
   "outputs": [
    {
     "name": "stderr",
     "output_type": "stream",
     "text": [
      "/var/folders/k8/5mxt7tx502x182rpcwd55p080000gn/T/ipykernel_43198/4267008308.py:1: FutureWarning: Passing a negative integer is deprecated in version 1.0 and will not be supported in future version. Instead, use None to not limit the column width.\n",
      "  pd.set_option('display.max_colwidth', -1)\n"
     ]
    },
    {
     "data": {
      "text/plain": [
       "0    Josh Jenkins is looking forward to TAB Breeders Crown Super Sunday                                                           \n",
       "1    RT @MianUsmanJaved: Congratulations Pakistan on becoming #No1TestTeam in the world against all odds! #JI_PakZindabadRallies  \n",
       "2    RT @PEPalerts: This September, @YESmag is taking you to Maine Mendoza’s surprise thanksgiving party she threw for her fans!  \n",
       "3    RT @david_gaibis: Newly painted walls, thanks a million to our custodial painters this summer.  Great job ladies!!!#EC_proud \n",
       "4    RT @CedricFeschotte: Excited to announce: as of July 2017 Feschotte lab will be relocating to @Cornell MBG                   \n",
       "Name: text, dtype: object"
      ]
     },
     "execution_count": 16,
     "metadata": {},
     "output_type": "execute_result"
    }
   ],
   "source": [
    "pd.set_option('display.max_colwidth', -1)\n",
    "\n",
    "sentiment['text'].head()"
   ]
  },
  {
   "cell_type": "code",
   "execution_count": 17,
   "id": "c2108e30",
   "metadata": {
    "colab": {
     "base_uri": "https://localhost:8080/",
     "height": 241
    },
    "id": "c2108e30",
    "outputId": "0193794e-2b7d-4dbd-beba-205268ebcbbc"
   },
   "outputs": [
    {
     "data": {
      "text/html": [
       "<div>\n",
       "<style scoped>\n",
       "    .dataframe tbody tr th:only-of-type {\n",
       "        vertical-align: middle;\n",
       "    }\n",
       "\n",
       "    .dataframe tbody tr th {\n",
       "        vertical-align: top;\n",
       "    }\n",
       "\n",
       "    .dataframe thead th {\n",
       "        text-align: right;\n",
       "    }\n",
       "</style>\n",
       "<table border=\"1\" class=\"dataframe\">\n",
       "  <thead>\n",
       "    <tr style=\"text-align: right;\">\n",
       "      <th></th>\n",
       "      <th>ID</th>\n",
       "      <th>text</th>\n",
       "      <th>label</th>\n",
       "    </tr>\n",
       "  </thead>\n",
       "  <tbody>\n",
       "    <tr>\n",
       "      <th>0</th>\n",
       "      <td>7.680980e+17</td>\n",
       "      <td>Josh Jenkins is looking forward to TAB Breeders Crown Super Sunday</td>\n",
       "      <td>1</td>\n",
       "    </tr>\n",
       "    <tr>\n",
       "      <th>1</th>\n",
       "      <td>7.680980e+17</td>\n",
       "      <td>RT @MianUsmanJaved: Congratulations Pakistan on becoming #No1TestTeam in the world against all odds! #JI_PakZindabadRallies</td>\n",
       "      <td>1</td>\n",
       "    </tr>\n",
       "    <tr>\n",
       "      <th>2</th>\n",
       "      <td>7.680980e+17</td>\n",
       "      <td>RT @PEPalerts: This September, @YESmag is taking you to Maine Mendoza’s surprise thanksgiving party she threw for her fans!</td>\n",
       "      <td>1</td>\n",
       "    </tr>\n",
       "    <tr>\n",
       "      <th>3</th>\n",
       "      <td>7.680980e+17</td>\n",
       "      <td>RT @david_gaibis: Newly painted walls, thanks a million to our custodial painters this summer.  Great job ladies!!!#EC_proud</td>\n",
       "      <td>1</td>\n",
       "    </tr>\n",
       "    <tr>\n",
       "      <th>4</th>\n",
       "      <td>7.680980e+17</td>\n",
       "      <td>RT @CedricFeschotte: Excited to announce: as of July 2017 Feschotte lab will be relocating to @Cornell MBG</td>\n",
       "      <td>1</td>\n",
       "    </tr>\n",
       "  </tbody>\n",
       "</table>\n",
       "</div>"
      ],
      "text/plain": [
       "             ID  \\\n",
       "0  7.680980e+17   \n",
       "1  7.680980e+17   \n",
       "2  7.680980e+17   \n",
       "3  7.680980e+17   \n",
       "4  7.680980e+17   \n",
       "\n",
       "                                                                                                                            text  \\\n",
       "0  Josh Jenkins is looking forward to TAB Breeders Crown Super Sunday                                                              \n",
       "1  RT @MianUsmanJaved: Congratulations Pakistan on becoming #No1TestTeam in the world against all odds! #JI_PakZindabadRallies     \n",
       "2  RT @PEPalerts: This September, @YESmag is taking you to Maine Mendoza’s surprise thanksgiving party she threw for her fans!     \n",
       "3  RT @david_gaibis: Newly painted walls, thanks a million to our custodial painters this summer.  Great job ladies!!!#EC_proud    \n",
       "4  RT @CedricFeschotte: Excited to announce: as of July 2017 Feschotte lab will be relocating to @Cornell MBG                      \n",
       "\n",
       "   label  \n",
       "0  1      \n",
       "1  1      \n",
       "2  1      \n",
       "3  1      \n",
       "4  1      "
      ]
     },
     "execution_count": 17,
     "metadata": {},
     "output_type": "execute_result"
    }
   ],
   "source": [
    "sentiment.head()"
   ]
  },
  {
   "cell_type": "markdown",
   "id": "31360c3a",
   "metadata": {
    "id": "31360c3a"
   },
   "source": [
    "#### 1.4 All characters in the text are in lowercase."
   ]
  },
  {
   "cell_type": "code",
   "execution_count": 18,
   "id": "cc2a0f0e",
   "metadata": {
    "id": "cc2a0f0e"
   },
   "outputs": [],
   "source": [
    "# Make the text become in lowercase\n",
    "def lower_case(df):\n",
    "    df = df.lower()\n",
    "    return df"
   ]
  },
  {
   "cell_type": "code",
   "execution_count": 19,
   "id": "3897c32e",
   "metadata": {
    "id": "3897c32e"
   },
   "outputs": [],
   "source": [
    "# Apply in the def function that I create lower_case for both dataframe\n",
    "election['text'] = election['text'].apply(lower_case)\n",
    "sentiment['text'] = sentiment[\"text\"].apply(lower_case)"
   ]
  },
  {
   "cell_type": "code",
   "execution_count": 20,
   "id": "3dbd206b",
   "metadata": {
    "colab": {
     "base_uri": "https://localhost:8080/",
     "height": 241
    },
    "id": "3dbd206b",
    "outputId": "4a79d002-1e8b-43b4-ba0a-43ce81fec9b5"
   },
   "outputs": [
    {
     "data": {
      "text/html": [
       "<div>\n",
       "<style scoped>\n",
       "    .dataframe tbody tr th:only-of-type {\n",
       "        vertical-align: middle;\n",
       "    }\n",
       "\n",
       "    .dataframe tbody tr th {\n",
       "        vertical-align: top;\n",
       "    }\n",
       "\n",
       "    .dataframe thead th {\n",
       "        text-align: right;\n",
       "    }\n",
       "</style>\n",
       "<table border=\"1\" class=\"dataframe\">\n",
       "  <thead>\n",
       "    <tr style=\"text-align: right;\">\n",
       "      <th></th>\n",
       "      <th>ID</th>\n",
       "      <th>text</th>\n",
       "      <th>label</th>\n",
       "    </tr>\n",
       "  </thead>\n",
       "  <tbody>\n",
       "    <tr>\n",
       "      <th>0</th>\n",
       "      <td>7.680980e+17</td>\n",
       "      <td>josh jenkins is looking forward to tab breeders crown super sunday</td>\n",
       "      <td>1</td>\n",
       "    </tr>\n",
       "    <tr>\n",
       "      <th>1</th>\n",
       "      <td>7.680980e+17</td>\n",
       "      <td>rt @mianusmanjaved: congratulations pakistan on becoming #no1testteam in the world against all odds! #ji_pakzindabadrallies</td>\n",
       "      <td>1</td>\n",
       "    </tr>\n",
       "    <tr>\n",
       "      <th>2</th>\n",
       "      <td>7.680980e+17</td>\n",
       "      <td>rt @pepalerts: this september, @yesmag is taking you to maine mendoza’s surprise thanksgiving party she threw for her fans!</td>\n",
       "      <td>1</td>\n",
       "    </tr>\n",
       "    <tr>\n",
       "      <th>3</th>\n",
       "      <td>7.680980e+17</td>\n",
       "      <td>rt @david_gaibis: newly painted walls, thanks a million to our custodial painters this summer.  great job ladies!!!#ec_proud</td>\n",
       "      <td>1</td>\n",
       "    </tr>\n",
       "    <tr>\n",
       "      <th>4</th>\n",
       "      <td>7.680980e+17</td>\n",
       "      <td>rt @cedricfeschotte: excited to announce: as of july 2017 feschotte lab will be relocating to @cornell mbg</td>\n",
       "      <td>1</td>\n",
       "    </tr>\n",
       "  </tbody>\n",
       "</table>\n",
       "</div>"
      ],
      "text/plain": [
       "             ID  \\\n",
       "0  7.680980e+17   \n",
       "1  7.680980e+17   \n",
       "2  7.680980e+17   \n",
       "3  7.680980e+17   \n",
       "4  7.680980e+17   \n",
       "\n",
       "                                                                                                                            text  \\\n",
       "0  josh jenkins is looking forward to tab breeders crown super sunday                                                              \n",
       "1  rt @mianusmanjaved: congratulations pakistan on becoming #no1testteam in the world against all odds! #ji_pakzindabadrallies     \n",
       "2  rt @pepalerts: this september, @yesmag is taking you to maine mendoza’s surprise thanksgiving party she threw for her fans!     \n",
       "3  rt @david_gaibis: newly painted walls, thanks a million to our custodial painters this summer.  great job ladies!!!#ec_proud    \n",
       "4  rt @cedricfeschotte: excited to announce: as of july 2017 feschotte lab will be relocating to @cornell mbg                      \n",
       "\n",
       "   label  \n",
       "0  1      \n",
       "1  1      \n",
       "2  1      \n",
       "3  1      \n",
       "4  1      "
      ]
     },
     "execution_count": 20,
     "metadata": {},
     "output_type": "execute_result"
    }
   ],
   "source": [
    "election.head()\n",
    "sentiment.head()"
   ]
  },
  {
   "cell_type": "markdown",
   "id": "c9476d15",
   "metadata": {
    "id": "c9476d15"
   },
   "source": [
    "#### 1.5 All stop words are removed. Be clear in what you consider as a stop word."
   ]
  },
  {
   "cell_type": "code",
   "execution_count": 21,
   "id": "d0111a72",
   "metadata": {
    "colab": {
     "base_uri": "https://localhost:8080/"
    },
    "id": "d0111a72",
    "outputId": "8ccb5b8d-0de9-490f-e427-3749d36e6cf4"
   },
   "outputs": [
    {
     "name": "stderr",
     "output_type": "stream",
     "text": [
      "[nltk_data] Downloading package stopwords to\n",
      "[nltk_data]     /Users/ningcansun/nltk_data...\n",
      "[nltk_data]   Package stopwords is already up-to-date!\n"
     ]
    }
   ],
   "source": [
    "# A stop word is a commonly word, such that 'the, an, a', which is useless information\n",
    "# First we download the English stop words\n",
    "nltk.download('stopwords')\n",
    "\n",
    "from nltk.corpus import stopwords\n",
    "stop_words=stopwords.words('english')\n",
    "#stop_words"
   ]
  },
  {
   "cell_type": "code",
   "execution_count": 22,
   "id": "35e1c2ac",
   "metadata": {
    "id": "35e1c2ac"
   },
   "outputs": [],
   "source": [
    "# Use lambda funtion to remove the stop words\n",
    "election['text']= election['text'].apply(lambda x: ' '.join([i for i in x.split() if i not in (stop_words)]))\n",
    "sentiment['text']= sentiment['text'].apply(lambda x: ' '.join([i for i in x.split() if i not in (stop_words)]))"
   ]
  },
  {
   "cell_type": "code",
   "execution_count": 23,
   "id": "8478a3db",
   "metadata": {
    "colab": {
     "base_uri": "https://localhost:8080/"
    },
    "id": "8478a3db",
    "outputId": "d0850844-a50d-4940-da98-2e8df832770f"
   },
   "outputs": [
    {
     "data": {
      "text/plain": [
       "0    canadian election power grab pm trudeau, yes -- take away opposition leaders chosen obstruction (20 non-confidence motions) disinformation middle worldwide pandemic. yes, one wanted vote; opposition antics forced it.                   \n",
       "1    hope trudeau loses canadian election tomorrow , called snap one thinking he’d romp it.. seems people don’t like black face hypocrite, super wokist & covid restriction groupie.. let’s hope polls right, might make government think again.\n",
       "2    dear canadians, election test progressive are. whether stand science, women’s bipoc rights, equality, public healthcare & education, environment. whether stand hate. much lose. don’t let us fall back. #cdnpoli #elxn44                  \n",
       "3    canadian friends: never forget trudeau 2 years mandate + called completely unnecessary election right vaccine mandates rolled - moment extreme political volatility. gambled country could less accountable. #elxn44                       \n",
       "4    sorry @thejagmeetsingh voted #ndp life election fighting freedoms canadian. voted last saturday @maxinebernier @peoplespca #ppc #voteppc2021 #voteforhumanrights #voteforfreedom #maximebernier #purplereign #freedom 🇨🇦💜🇨🇦💜🇨🇦             \n",
       "Name: text, dtype: object"
      ]
     },
     "execution_count": 23,
     "metadata": {},
     "output_type": "execute_result"
    }
   ],
   "source": [
    "election['text'].head()"
   ]
  },
  {
   "cell_type": "code",
   "execution_count": 24,
   "id": "b9550fc1",
   "metadata": {
    "colab": {
     "base_uri": "https://localhost:8080/"
    },
    "id": "b9550fc1",
    "outputId": "0340a436-566c-4bda-f86d-35d06e5bc246"
   },
   "outputs": [
    {
     "data": {
      "text/plain": [
       "0    josh jenkins looking forward tab breeders crown super sunday                                                 \n",
       "1    rt @mianusmanjaved: congratulations pakistan becoming #no1testteam world odds! #ji_pakzindabadrallies        \n",
       "2    rt @pepalerts: september, @yesmag taking maine mendoza’s surprise thanksgiving party threw fans!             \n",
       "3    rt @david_gaibis: newly painted walls, thanks million custodial painters summer. great job ladies!!!#ec_proud\n",
       "4    rt @cedricfeschotte: excited announce: july 2017 feschotte lab relocating @cornell mbg                       \n",
       "Name: text, dtype: object"
      ]
     },
     "execution_count": 24,
     "metadata": {},
     "output_type": "execute_result"
    }
   ],
   "source": [
    "sentiment['text'].head()"
   ]
  },
  {
   "cell_type": "markdown",
   "id": "b9cc9d88",
   "metadata": {
    "id": "b9cc9d88"
   },
   "source": [
    "#### 1.6 Other data clean step"
   ]
  },
  {
   "cell_type": "code",
   "execution_count": 25,
   "id": "db3c2cd1",
   "metadata": {
    "id": "db3c2cd1"
   },
   "outputs": [],
   "source": [
    "# I noticed there are lots of emojis, it will influence the text.\n",
    "# Remove emoji\n",
    "def emoji(df):\n",
    "    moji=re.compile( \"[\"\n",
    "        u\"\\U0001F300-\\U0001F5FF\"  # symbols\n",
    "        u\"\\U0001F600-\\U0001F64F\"  # face emotion\n",
    "        u\"\\U0001F1E0-\\U0001F1FF\"  # flags (because it is elections, so there must lots of people use canada's flag)\n",
    "        u\"\\U0001F680-\\U0001F6FF\"  # map\n",
    "         \"]+\",re.UNICODE)\n",
    "    return re.sub(moji,'',df)"
   ]
  },
  {
   "cell_type": "code",
   "execution_count": 26,
   "id": "eb00747a",
   "metadata": {
    "id": "eb00747a"
   },
   "outputs": [],
   "source": [
    "# Apply in the def function that I create ‘emoji’ for both dataframe\n",
    "election['text'] = election['text'].apply(emoji)\n",
    "sentiment['text'] = sentiment[\"text\"].apply(emoji)"
   ]
  },
  {
   "cell_type": "code",
   "execution_count": 27,
   "id": "1487f06a",
   "metadata": {
    "colab": {
     "base_uri": "https://localhost:8080/"
    },
    "id": "1487f06a",
    "outputId": "04c25096-2823-4d2c-f722-032241e7886c"
   },
   "outputs": [
    {
     "data": {
      "text/plain": [
       "0    canadian election power grab pm trudeau, yes -- take away opposition leaders chosen obstruction (20 non-confidence motions) disinformation middle worldwide pandemic. yes, one wanted vote; opposition antics forced it.                   \n",
       "1    hope trudeau loses canadian election tomorrow , called snap one thinking he’d romp it.. seems people don’t like black face hypocrite, super wokist & covid restriction groupie.. let’s hope polls right, might make government think again.\n",
       "2    dear canadians, election test progressive are. whether stand science, women’s bipoc rights, equality, public healthcare & education, environment. whether stand hate. much lose. don’t let us fall back. #cdnpoli #elxn44                  \n",
       "3    canadian friends: never forget trudeau 2 years mandate + called completely unnecessary election right vaccine mandates rolled - moment extreme political volatility. gambled country could less accountable. #elxn44                       \n",
       "4    sorry @thejagmeetsingh voted #ndp life election fighting freedoms canadian. voted last saturday @maxinebernier @peoplespca #ppc #voteppc2021 #voteforhumanrights #voteforfreedom #maximebernier #purplereign #freedom                      \n",
       "Name: text, dtype: object"
      ]
     },
     "execution_count": 27,
     "metadata": {},
     "output_type": "execute_result"
    }
   ],
   "source": [
    "election['text'].head()"
   ]
  },
  {
   "cell_type": "code",
   "execution_count": 28,
   "id": "5642021c",
   "metadata": {
    "colab": {
     "base_uri": "https://localhost:8080/"
    },
    "id": "5642021c",
    "outputId": "486ac697-a582-419c-c904-d1628193d24b"
   },
   "outputs": [
    {
     "data": {
      "text/plain": [
       "0    josh jenkins looking forward tab breeders crown super sunday                                                 \n",
       "1    rt @mianusmanjaved: congratulations pakistan becoming #no1testteam world odds! #ji_pakzindabadrallies        \n",
       "2    rt @pepalerts: september, @yesmag taking maine mendoza’s surprise thanksgiving party threw fans!             \n",
       "3    rt @david_gaibis: newly painted walls, thanks million custodial painters summer. great job ladies!!!#ec_proud\n",
       "4    rt @cedricfeschotte: excited announce: july 2017 feschotte lab relocating @cornell mbg                       \n",
       "Name: text, dtype: object"
      ]
     },
     "execution_count": 28,
     "metadata": {},
     "output_type": "execute_result"
    }
   ],
   "source": [
    "sentiment['text'].head()"
   ]
  },
  {
   "cell_type": "code",
   "execution_count": 29,
   "id": "70a15492",
   "metadata": {
    "colab": {
     "base_uri": "https://localhost:8080/"
    },
    "id": "70a15492",
    "outputId": "156cc91c-b9d8-40b2-ab63-e158b4e468c9"
   },
   "outputs": [
    {
     "data": {
      "text/plain": [
       "text               0  \n",
       "sentiment          0  \n",
       "negative_reason    615\n",
       "dtype: int64"
      ]
     },
     "execution_count": 29,
     "metadata": {},
     "output_type": "execute_result"
    }
   ],
   "source": [
    "election.isna().sum()"
   ]
  },
  {
   "cell_type": "code",
   "execution_count": 30,
   "id": "090ceb96",
   "metadata": {
    "colab": {
     "base_uri": "https://localhost:8080/",
     "height": 310
    },
    "id": "090ceb96",
    "outputId": "907b94b1-f753-4823-b1bd-4e5cd83d9c13"
   },
   "outputs": [
    {
     "data": {
      "text/html": [
       "<div>\n",
       "<style scoped>\n",
       "    .dataframe tbody tr th:only-of-type {\n",
       "        vertical-align: middle;\n",
       "    }\n",
       "\n",
       "    .dataframe tbody tr th {\n",
       "        vertical-align: top;\n",
       "    }\n",
       "\n",
       "    .dataframe thead th {\n",
       "        text-align: right;\n",
       "    }\n",
       "</style>\n",
       "<table border=\"1\" class=\"dataframe\">\n",
       "  <thead>\n",
       "    <tr style=\"text-align: right;\">\n",
       "      <th></th>\n",
       "      <th>text</th>\n",
       "      <th>sentiment</th>\n",
       "      <th>negative_reason</th>\n",
       "    </tr>\n",
       "  </thead>\n",
       "  <tbody>\n",
       "    <tr>\n",
       "      <th>0</th>\n",
       "      <td>canadian election power grab pm trudeau, yes -- take away opposition leaders chosen obstruction (20 non-confidence motions) disinformation middle worldwide pandemic. yes, one wanted vote; opposition antics forced it.</td>\n",
       "      <td>negative</td>\n",
       "      <td>calling election early</td>\n",
       "    </tr>\n",
       "    <tr>\n",
       "      <th>1</th>\n",
       "      <td>hope trudeau loses canadian election tomorrow , called snap one thinking he’d romp it.. seems people don’t like black face hypocrite, super wokist &amp; covid restriction groupie.. let’s hope polls right, might make government think again.</td>\n",
       "      <td>negative</td>\n",
       "      <td>covid</td>\n",
       "    </tr>\n",
       "    <tr>\n",
       "      <th>2</th>\n",
       "      <td>dear canadians, election test progressive are. whether stand science, women’s bipoc rights, equality, public healthcare &amp; education, environment. whether stand hate. much lose. don’t let us fall back. #cdnpoli #elxn44</td>\n",
       "      <td>positive</td>\n",
       "      <td>NaN</td>\n",
       "    </tr>\n",
       "    <tr>\n",
       "      <th>3</th>\n",
       "      <td>canadian friends: never forget trudeau 2 years mandate + called completely unnecessary election right vaccine mandates rolled - moment extreme political volatility. gambled country could less accountable. #elxn44</td>\n",
       "      <td>negative</td>\n",
       "      <td>calling election early</td>\n",
       "    </tr>\n",
       "    <tr>\n",
       "      <th>4</th>\n",
       "      <td>sorry @thejagmeetsingh voted #ndp life election fighting freedoms canadian. voted last saturday @maxinebernier @peoplespca #ppc #voteppc2021 #voteforhumanrights #voteforfreedom #maximebernier #purplereign #freedom</td>\n",
       "      <td>positive</td>\n",
       "      <td>NaN</td>\n",
       "    </tr>\n",
       "  </tbody>\n",
       "</table>\n",
       "</div>"
      ],
      "text/plain": [
       "                                                                                                                                                                                                                                          text  \\\n",
       "0  canadian election power grab pm trudeau, yes -- take away opposition leaders chosen obstruction (20 non-confidence motions) disinformation middle worldwide pandemic. yes, one wanted vote; opposition antics forced it.                      \n",
       "1  hope trudeau loses canadian election tomorrow , called snap one thinking he’d romp it.. seems people don’t like black face hypocrite, super wokist & covid restriction groupie.. let’s hope polls right, might make government think again.   \n",
       "2  dear canadians, election test progressive are. whether stand science, women’s bipoc rights, equality, public healthcare & education, environment. whether stand hate. much lose. don’t let us fall back. #cdnpoli #elxn44                     \n",
       "3  canadian friends: never forget trudeau 2 years mandate + called completely unnecessary election right vaccine mandates rolled - moment extreme political volatility. gambled country could less accountable. #elxn44                          \n",
       "4  sorry @thejagmeetsingh voted #ndp life election fighting freedoms canadian. voted last saturday @maxinebernier @peoplespca #ppc #voteppc2021 #voteforhumanrights #voteforfreedom #maximebernier #purplereign #freedom                         \n",
       "\n",
       "  sentiment         negative_reason  \n",
       "0  negative  calling election early  \n",
       "1  negative  covid                   \n",
       "2  positive  NaN                     \n",
       "3  negative  calling election early  \n",
       "4  positive  NaN                     "
      ]
     },
     "execution_count": 30,
     "metadata": {},
     "output_type": "execute_result"
    }
   ],
   "source": [
    "election.head()"
   ]
  },
  {
   "cell_type": "markdown",
   "id": "9340e309",
   "metadata": {},
   "source": [
    "#### <div style='color:Blue'> For each step what they are doing, I already put in the cells commment. I will also mention in the report."
   ]
  },
  {
   "cell_type": "markdown",
   "id": "e10e2a7c",
   "metadata": {},
   "source": [
    "#### <div style='color:blue'> - Data Cleaning: What it is doing?\n",
    "    \n",
    "<div style='color: Tomato'> The Data cleaning step is remove urls, emojis, keep data standard."
   ]
  },
  {
   "cell_type": "markdown",
   "id": "59d8852a",
   "metadata": {},
   "source": [
    "#### <div style='color:blue'> - Data Cleaning : In over all data clean it is important? \n",
    "    \n",
    "<div style='color: Tomato'> The Data cleaning step is really important, because this data include lots of text, when I see the raw data, I found there are lots of urls, emojis, some words are lower case some words have capital letter, which is really difficult for me to explortory the data and model the data, there are too many noises, it will influence the analysis answer."
   ]
  },
  {
   "cell_type": "markdown",
   "id": "6fa96bfb",
   "metadata": {
    "id": "6fa96bfb"
   },
   "source": [
    "### 2. Exploratory analysis (15 marks):\n",
    "\n",
    "1. Design a simple procedure that determines the political party (Liberal, Conservative, New Democratic Party (NDP), The People's Party of Canada (PPC)) of a given tweet and apply this procedure to all the tweets in the Canadian Elections dataset. A suggestion would be to look at relevant words and hashtags in the tweets that identify to certain political parties or candidates. What can you say about the distribution of the political affiliations of the tweets?\n",
    "\n",
    "\n",
    "2. Present a graphical figure (e.g. chart, graph, histogram, boxplot, word cloud, etc.) that visualizes some aspect of the generic tweets in sentiment_analysis.csv and another figure for the 2021 Canadian Elections tweets. All graphs and plots should be readable and have all axes that are appropriately labelled. Discuss your findings.\n"
   ]
  },
  {
   "cell_type": "markdown",
   "id": "2a7be4e2",
   "metadata": {
    "id": "2a7be4e2"
   },
   "source": [
    "###  2.1 Determines the political party"
   ]
  },
  {
   "cell_type": "code",
   "execution_count": 31,
   "id": "04c520a3",
   "metadata": {
    "id": "04c520a3"
   },
   "outputs": [],
   "source": [
    "# I want to set some key words to represent the political parties\n",
    "# Use the for loop to find the whether each tweet text include the following keywords.\n",
    "# If it include in the keywords, then, append them in that party.\n",
    "def political_party(tweet_text):\n",
    "    final_party=[]\n",
    "    liberal_party=['justin','trudeau','liberal','liberalism','istandwithtrudeau','voteliberal']\n",
    "    conservative_party=['erin','toole','voteconservative','blue','cpc','conservative']\n",
    "    new_democratic_party=['ndp','ndp2021','ndpoverhaul','jagmeet','singh','jagmeetsingh','newdemocratic']\n",
    "    people_party=['ppc','voteppc','voteppc2021','maxime','bernier','maximebernier','people']\n",
    "    \n",
    "    # I have already set the blank list, which is'final_party', next to add in the blank list\n",
    "    for i in tweet_text:\n",
    "        if i in liberal_party:\n",
    "            final_party.append('liberal party')\n",
    "            ### print(\"detected\")\n",
    "        if i in conservative_party:\n",
    "            final_party.append('conservative party')\n",
    "        if i in new_democratic_party:\n",
    "            final_party.append('new democratic party')\n",
    "        if i in people_party:\n",
    "            final_party.append('ppc party')\n",
    "    # However, it may have one tweet mention more than one party groups. Then I need to select the first party\n",
    "    # The reason I choose the first mention party because the political that people more care about, the people will mention first\n",
    "    if len(final_party)>=1:\n",
    "        final_result=final_party[0]\n",
    "    # if there is no key word match to parties, then, return the 'not sure'  \n",
    "    if len(final_party)==0:\n",
    "        final_result = 'not sure'\n",
    "    \n",
    "    return final_result\n"
   ]
  },
  {
   "cell_type": "code",
   "execution_count": 32,
   "id": "1b217a34",
   "metadata": {
    "id": "1b217a34"
   },
   "outputs": [],
   "source": [
    "# Seperate the text, use the split function\n",
    "election_temp=election.copy()\n",
    "election_temp['text'] = election_temp['text'].str.split(' ') "
   ]
  },
  {
   "cell_type": "code",
   "execution_count": 33,
   "id": "2995d03f",
   "metadata": {
    "colab": {
     "base_uri": "https://localhost:8080/",
     "height": 35
    },
    "id": "2995d03f",
    "outputId": "74b34b43-ac8e-4b18-c40a-96b963414f57"
   },
   "outputs": [
    {
     "data": {
      "text/plain": [
       "'not sure'"
      ]
     },
     "execution_count": 33,
     "metadata": {},
     "output_type": "execute_result"
    }
   ],
   "source": [
    "# test the first row's political party\n",
    "political_party(election_temp['text'][0])"
   ]
  },
  {
   "cell_type": "code",
   "execution_count": 34,
   "id": "85f898b7",
   "metadata": {
    "id": "85f898b7"
   },
   "outputs": [],
   "source": [
    "# Creat a new column, called political party\n",
    "election_temp['political_party'] = ''\n",
    "for i in range(election_temp['text'].shape[0]):\n",
    "    election_temp['political_party'][i] = political_party(election_temp['text'][i])"
   ]
  },
  {
   "cell_type": "code",
   "execution_count": 35,
   "id": "25776583",
   "metadata": {
    "colab": {
     "base_uri": "https://localhost:8080/",
     "height": 380
    },
    "id": "25776583",
    "outputId": "cb21ee50-ccef-4fad-baf9-4f94a05ce614"
   },
   "outputs": [
    {
     "data": {
      "text/html": [
       "<div>\n",
       "<style scoped>\n",
       "    .dataframe tbody tr th:only-of-type {\n",
       "        vertical-align: middle;\n",
       "    }\n",
       "\n",
       "    .dataframe tbody tr th {\n",
       "        vertical-align: top;\n",
       "    }\n",
       "\n",
       "    .dataframe thead th {\n",
       "        text-align: right;\n",
       "    }\n",
       "</style>\n",
       "<table border=\"1\" class=\"dataframe\">\n",
       "  <thead>\n",
       "    <tr style=\"text-align: right;\">\n",
       "      <th></th>\n",
       "      <th>text</th>\n",
       "      <th>sentiment</th>\n",
       "      <th>negative_reason</th>\n",
       "      <th>political_party</th>\n",
       "    </tr>\n",
       "  </thead>\n",
       "  <tbody>\n",
       "    <tr>\n",
       "      <th>0</th>\n",
       "      <td>[canadian, election, power, grab, pm, trudeau,, yes, --, take, away, opposition, leaders, chosen, obstruction, (20, non-confidence, motions), disinformation, middle, worldwide, pandemic., yes,, one, wanted, vote;, opposition, antics, forced, it.]</td>\n",
       "      <td>negative</td>\n",
       "      <td>calling election early</td>\n",
       "      <td>not sure</td>\n",
       "    </tr>\n",
       "    <tr>\n",
       "      <th>1</th>\n",
       "      <td>[hope, trudeau, loses, canadian, election, tomorrow, ,, called, snap, one, thinking, he’d, romp, it.., seems, people, don’t, like, black, face, hypocrite,, super, wokist, &amp;, covid, restriction, groupie.., let’s, hope, polls, right,, might, make, government, think, again.]</td>\n",
       "      <td>negative</td>\n",
       "      <td>covid</td>\n",
       "      <td>liberal party</td>\n",
       "    </tr>\n",
       "    <tr>\n",
       "      <th>2</th>\n",
       "      <td>[dear, canadians,, election, test, progressive, are., whether, stand, science,, women’s, bipoc, rights,, equality,, public, healthcare, &amp;, education,, environment., whether, stand, hate., much, lose., don’t, let, us, fall, back., #cdnpoli, #elxn44]</td>\n",
       "      <td>positive</td>\n",
       "      <td>NaN</td>\n",
       "      <td>not sure</td>\n",
       "    </tr>\n",
       "    <tr>\n",
       "      <th>3</th>\n",
       "      <td>[canadian, friends:, never, forget, trudeau, 2, years, mandate, +, called, completely, unnecessary, election, right, vaccine, mandates, rolled, -, moment, extreme, political, volatility., gambled, country, could, less, accountable., #elxn44]</td>\n",
       "      <td>negative</td>\n",
       "      <td>calling election early</td>\n",
       "      <td>liberal party</td>\n",
       "    </tr>\n",
       "    <tr>\n",
       "      <th>4</th>\n",
       "      <td>[sorry, @thejagmeetsingh, voted, #ndp, life, election, fighting, freedoms, canadian., voted, last, saturday, @maxinebernier, @peoplespca, #ppc, #voteppc2021, #voteforhumanrights, #voteforfreedom, #maximebernier, #purplereign, #freedom, ]</td>\n",
       "      <td>positive</td>\n",
       "      <td>NaN</td>\n",
       "      <td>not sure</td>\n",
       "    </tr>\n",
       "  </tbody>\n",
       "</table>\n",
       "</div>"
      ],
      "text/plain": [
       "                                                                                                                                                                                                                                                                               text  \\\n",
       "0  [canadian, election, power, grab, pm, trudeau,, yes, --, take, away, opposition, leaders, chosen, obstruction, (20, non-confidence, motions), disinformation, middle, worldwide, pandemic., yes,, one, wanted, vote;, opposition, antics, forced, it.]                             \n",
       "1  [hope, trudeau, loses, canadian, election, tomorrow, ,, called, snap, one, thinking, he’d, romp, it.., seems, people, don’t, like, black, face, hypocrite,, super, wokist, &, covid, restriction, groupie.., let’s, hope, polls, right,, might, make, government, think, again.]   \n",
       "2  [dear, canadians,, election, test, progressive, are., whether, stand, science,, women’s, bipoc, rights,, equality,, public, healthcare, &, education,, environment., whether, stand, hate., much, lose., don’t, let, us, fall, back., #cdnpoli, #elxn44]                           \n",
       "3  [canadian, friends:, never, forget, trudeau, 2, years, mandate, +, called, completely, unnecessary, election, right, vaccine, mandates, rolled, -, moment, extreme, political, volatility., gambled, country, could, less, accountable., #elxn44]                                  \n",
       "4  [sorry, @thejagmeetsingh, voted, #ndp, life, election, fighting, freedoms, canadian., voted, last, saturday, @maxinebernier, @peoplespca, #ppc, #voteppc2021, #voteforhumanrights, #voteforfreedom, #maximebernier, #purplereign, #freedom, ]                                      \n",
       "\n",
       "  sentiment         negative_reason political_party  \n",
       "0  negative  calling election early  not sure        \n",
       "1  negative  covid                   liberal party   \n",
       "2  positive  NaN                     not sure        \n",
       "3  negative  calling election early  liberal party   \n",
       "4  positive  NaN                     not sure        "
      ]
     },
     "execution_count": 35,
     "metadata": {},
     "output_type": "execute_result"
    }
   ],
   "source": [
    "election_temp.head()"
   ]
  },
  {
   "cell_type": "code",
   "execution_count": 36,
   "id": "4a33b04e",
   "metadata": {
    "colab": {
     "base_uri": "https://localhost:8080/",
     "height": 206
    },
    "id": "4a33b04e",
    "outputId": "dc0f65cc-550a-4c73-bda1-5e059fd50ded"
   },
   "outputs": [
    {
     "data": {
      "text/html": [
       "<div>\n",
       "<style scoped>\n",
       "    .dataframe tbody tr th:only-of-type {\n",
       "        vertical-align: middle;\n",
       "    }\n",
       "\n",
       "    .dataframe tbody tr th {\n",
       "        vertical-align: top;\n",
       "    }\n",
       "\n",
       "    .dataframe thead th {\n",
       "        text-align: right;\n",
       "    }\n",
       "</style>\n",
       "<table border=\"1\" class=\"dataframe\">\n",
       "  <thead>\n",
       "    <tr style=\"text-align: right;\">\n",
       "      <th></th>\n",
       "      <th>political_party</th>\n",
       "    </tr>\n",
       "  </thead>\n",
       "  <tbody>\n",
       "    <tr>\n",
       "      <th>not sure</th>\n",
       "      <td>595</td>\n",
       "    </tr>\n",
       "    <tr>\n",
       "      <th>liberal party</th>\n",
       "      <td>252</td>\n",
       "    </tr>\n",
       "    <tr>\n",
       "      <th>conservative party</th>\n",
       "      <td>69</td>\n",
       "    </tr>\n",
       "    <tr>\n",
       "      <th>ppc party</th>\n",
       "      <td>60</td>\n",
       "    </tr>\n",
       "    <tr>\n",
       "      <th>new democratic party</th>\n",
       "      <td>26</td>\n",
       "    </tr>\n",
       "  </tbody>\n",
       "</table>\n",
       "</div>"
      ],
      "text/plain": [
       "                      political_party\n",
       "not sure              595            \n",
       "liberal party         252            \n",
       "conservative party    69             \n",
       "ppc party             60             \n",
       "new democratic party  26             "
      ]
     },
     "execution_count": 36,
     "metadata": {},
     "output_type": "execute_result"
    }
   ],
   "source": [
    "# Check how many tweets belonging to these four political parties\n",
    "counts_political=election_temp['political_party'].value_counts()\n",
    "counts_political=pd.DataFrame(counts_political)\n",
    "counts_political.head()"
   ]
  },
  {
   "cell_type": "code",
   "execution_count": 37,
   "id": "c083fe84",
   "metadata": {
    "colab": {
     "base_uri": "https://localhost:8080/"
    },
    "id": "c083fe84",
    "outputId": "e12530a4-bfd0-40c9-c618-bec941d94e1a"
   },
   "outputs": [
    {
     "data": {
      "text/plain": [
       "pandas.core.series.Series"
      ]
     },
     "execution_count": 37,
     "metadata": {},
     "output_type": "execute_result"
    }
   ],
   "source": [
    "type(counts_political.political_party)"
   ]
  },
  {
   "cell_type": "code",
   "execution_count": 262,
   "id": "9918fc8a",
   "metadata": {
    "colab": {
     "base_uri": "https://localhost:8080/",
     "height": 265
    },
    "id": "9918fc8a",
    "outputId": "3b59a3ee-3a38-4a74-fd5d-6ba982e3970e"
   },
   "outputs": [
    {
     "data": {
      "text/plain": [
       "Text(0, 0.5, 'Number of the hashtags')"
      ]
     },
     "execution_count": 262,
     "metadata": {},
     "output_type": "execute_result"
    },
    {
     "data": {
      "image/png": "[encoded data removed]",
      "text/plain": [
       "<Figure size 2160x720 with 1 Axes>"
      ]
     },
     "metadata": {
      "needs_background": "light"
     },
     "output_type": "display_data"
    }
   ],
   "source": [
    "# Draw the bar plot for the number of tweets belonging to the policatal party's\n",
    "\n",
    "plt.bar(counts_political.index,counts_political.political_party, color=['pink', 'purple', 'orange', 'gray', 'green'])\n",
    "rcParams['figure.figsize'] = (10, 15)\n",
    "\n",
    "plt.xlabel(\"political party\")\n",
    "plt.ylabel(\"Number of the hashtags\")"
   ]
  },
  {
   "cell_type": "markdown",
   "id": "a0caa8fb",
   "metadata": {},
   "source": [
    "#### <div style='color:blue'> - Exploratory analysis :What can you say about the distribution of the political affiliations of the tweets? \n",
    "    \n",
    "<div style='color: Tomato'> I noticed that most of people are still liberal party, and the conservative & PPC party are almost the same, the democratic party have less people to suppot, the reason may be that liberal party alreay control goverment for many years in power, the people have become accustomed to them."
   ]
  },
  {
   "cell_type": "markdown",
   "id": "826f31c2",
   "metadata": {
    "id": "826f31c2"
   },
   "source": [
    "### <div style='color:black'> 2.2 Present a graphical figure\n",
    "#### <div style='color:blue'> 2.2.1 Use hashtags to find information - sentiment_analysis dataframe"
   ]
  },
  {
   "cell_type": "code",
   "execution_count": 39,
   "id": "46391a01",
   "metadata": {
    "colab": {
     "base_uri": "https://localhost:8080/"
    },
    "id": "46391a01",
    "outputId": "8e529668-ae82-47b8-dde8-1fb901bd8fca"
   },
   "outputs": [
    {
     "name": "stderr",
     "output_type": "stream",
     "text": [
      "/var/folders/k8/5mxt7tx502x182rpcwd55p080000gn/T/ipykernel_43198/2833447879.py:2: FutureWarning: Passing a negative integer is deprecated in version 1.0 and will not be supported in future version. Instead, use None to not limit the column width.\n",
      "  pd.set_option('display.max_colwidth', -1)\n"
     ]
    }
   ],
   "source": [
    "# hashtag for sentiment df.\n",
    "pd.set_option('display.max_colwidth', -1)\n",
    "\n",
    "# The method to find the hashtage is I split the text use \"#\"\n",
    "# The text before the '#' is just the normal sentence, but the text behind the # is the hashtage\n",
    "temp_111=sentiment['text']\n",
    "temp_list = temp_111.str.split('#') \n",
    "temp_list.head()\n",
    "temp_l = []\n",
    "for i in temp_list.keys():\n",
    "    temp_l += temp_list[i][1:]\n",
    "    \n",
    "temp_list_liberal = pd.Series(temp_l)\n",
    "# To calculate which hashtags exist most, use the value_counts\n",
    "all_hashtag_sentiment=temp_list_liberal.value_counts()\n"
   ]
  },
  {
   "cell_type": "code",
   "execution_count": 40,
   "id": "7c704fa3",
   "metadata": {
    "colab": {
     "base_uri": "https://localhost:8080/",
     "height": 363
    },
    "id": "7c704fa3",
    "outputId": "5492cebd-71b3-4bc8-f3e5-d17cda27b9c3"
   },
   "outputs": [
    {
     "data": {
      "text/html": [
       "<div>\n",
       "<style scoped>\n",
       "    .dataframe tbody tr th:only-of-type {\n",
       "        vertical-align: middle;\n",
       "    }\n",
       "\n",
       "    .dataframe tbody tr th {\n",
       "        vertical-align: top;\n",
       "    }\n",
       "\n",
       "    .dataframe thead th {\n",
       "        text-align: right;\n",
       "    }\n",
       "</style>\n",
       "<table border=\"1\" class=\"dataframe\">\n",
       "  <thead>\n",
       "    <tr style=\"text-align: right;\">\n",
       "      <th></th>\n",
       "      <th>0</th>\n",
       "    </tr>\n",
       "  </thead>\n",
       "  <tbody>\n",
       "    <tr>\n",
       "      <th>trecru</th>\n",
       "      <td>14184</td>\n",
       "    </tr>\n",
       "    <tr>\n",
       "      <th>pushawardskathniels</th>\n",
       "      <td>950</td>\n",
       "    </tr>\n",
       "    <tr>\n",
       "      <th>pjnet</th>\n",
       "      <td>773</td>\n",
       "    </tr>\n",
       "    <tr>\n",
       "      <th>hiring</th>\n",
       "      <td>667</td>\n",
       "    </tr>\n",
       "    <tr>\n",
       "      <th>quote</th>\n",
       "      <td>623</td>\n",
       "    </tr>\n",
       "    <tr>\n",
       "      <th>love</th>\n",
       "      <td>578</td>\n",
       "    </tr>\n",
       "    <tr>\n",
       "      <th>funny</th>\n",
       "      <td>505</td>\n",
       "    </tr>\n",
       "    <tr>\n",
       "      <th>job</th>\n",
       "      <td>486</td>\n",
       "    </tr>\n",
       "    <tr>\n",
       "      <th>sex</th>\n",
       "      <td>485</td>\n",
       "    </tr>\n",
       "    <tr>\n",
       "      <th>600daysofkillingyemenis</th>\n",
       "      <td>441</td>\n",
       "    </tr>\n",
       "  </tbody>\n",
       "</table>\n",
       "</div>"
      ],
      "text/plain": [
       "                             0\n",
       "trecru                   14184\n",
       "pushawardskathniels      950  \n",
       "pjnet                    773  \n",
       "hiring                   667  \n",
       "quote                    623  \n",
       "love                     578  \n",
       "funny                    505  \n",
       "job                      486  \n",
       "sex                      485  \n",
       "600daysofkillingyemenis  441  "
      ]
     },
     "execution_count": 40,
     "metadata": {},
     "output_type": "execute_result"
    }
   ],
   "source": [
    "# Show in the dataframe, which hashtage exist the most\n",
    "hash_top10_sentiment=pd.DataFrame(all_hashtag_sentiment).head(10)\n",
    "hash_top10_sentiment"
   ]
  },
  {
   "cell_type": "code",
   "execution_count": 260,
   "id": "4dfc0bbc",
   "metadata": {
    "colab": {
     "base_uri": "https://localhost:8080/",
     "height": 863
    },
    "id": "4dfc0bbc",
    "outputId": "2dfb0b41-36c1-49b1-c0e1-82dbd948b045"
   },
   "outputs": [
    {
     "data": {
      "text/plain": [
       "Text(0, 0.5, 'Number of the hashtags')"
      ]
     },
     "execution_count": 260,
     "metadata": {},
     "output_type": "execute_result"
    },
    {
     "data": {
      "image/png": "[encoded data removed]",
      "text/plain": [
       "<Figure size 2160x720 with 1 Axes>"
      ]
     },
     "metadata": {
      "needs_background": "light"
     },
     "output_type": "display_data"
    }
   ],
   "source": [
    "# Draw the bar plot for the first 10 hashtags in sentiment df\n",
    "plt.bar(hash_top10_sentiment.index,hash_top10_sentiment[0])\n",
    "rcParams['figure.figsize'] = (30, 10)\n",
    "plt.xlabel(\"Hashtags\")\n",
    "plt.ylabel(\"Number of the hashtags\")"
   ]
  },
  {
   "cell_type": "code",
   "execution_count": 42,
   "id": "81ada623",
   "metadata": {
    "colab": {
     "base_uri": "https://localhost:8080/"
    },
    "id": "81ada623",
    "outputId": "1176f24c-8db0-4cad-a527-ebbd4e6300a6"
   },
   "outputs": [
    {
     "data": {
      "text/plain": [
       "pandas.core.frame.DataFrame"
      ]
     },
     "execution_count": 42,
     "metadata": {},
     "output_type": "execute_result"
    }
   ],
   "source": [
    "type(hash_top10_sentiment)"
   ]
  },
  {
   "cell_type": "markdown",
   "id": "73018692",
   "metadata": {
    "id": "73018692"
   },
   "source": [
    "#### <div style='color:blue'> 2.2.2 Use hashtags to find information - Canadian_elections_2021 dataframe\n",
    "    "
   ]
  },
  {
   "cell_type": "code",
   "execution_count": 43,
   "id": "a46d6e51",
   "metadata": {
    "colab": {
     "base_uri": "https://localhost:8080/"
    },
    "id": "a46d6e51",
    "outputId": "cde5c3ef-1ad0-43f2-b04c-f3910326f2e2"
   },
   "outputs": [
    {
     "name": "stderr",
     "output_type": "stream",
     "text": [
      "/var/folders/k8/5mxt7tx502x182rpcwd55p080000gn/T/ipykernel_43198/3225901958.py:1: FutureWarning: Passing a negative integer is deprecated in version 1.0 and will not be supported in future version. Instead, use None to not limit the column width.\n",
      "  pd.set_option('display.max_colwidth', -1)\n"
     ]
    },
    {
     "data": {
      "text/plain": [
       "cdnpoli                                                                                                                                                                58\n",
       "elxn44                                                                                                                                                                 55\n",
       "elxn44                                                                                                                                                                 53\n",
       "cdnpoli                                                                                                                                                                26\n",
       "                                                                                                                                                                       24\n",
       "                                                                                                                                                                       ..\n",
       "vaccinepassports win election major parties support vaccine passports.                                                                                                 1 \n",
       "canada’s conservatives announce                                                                                                                                        1 \n",
       "canada: canada’s conservatives announce vaccine passports win election. everyone know that. major parties support vaccine passports. question many people passport?    1 \n",
       "listening npr coverage canadian election canadian pretty fascinating, like listening 5th grader's book report precision nuance                                         1 \n",
       "@justintrudeau stop lies, stop manipulation, stop suffering created, stop belligerence, stop hate. lost election, quick trying destroy canadians                       1 \n",
       "Length: 1426, dtype: int64"
      ]
     },
     "execution_count": 43,
     "metadata": {},
     "output_type": "execute_result"
    }
   ],
   "source": [
    "# Hashtags for the Canadian election dataframe\n",
    "pd.set_option('display.max_colwidth', -1)\n",
    "\n",
    "# The method to find the hashtage is I split the text use \"#\"\n",
    "# The text before the '#' is just the normal sentence, but the text behind the # is the hashtage\n",
    "temp_election=election['text']\n",
    "temp_list_election = temp_election.str.split('#') \n",
    "temp_election_l = []\n",
    "for i in temp_list_election.keys():\n",
    "    temp_election_l += temp_list_election[i]\n",
    "\n",
    "temp_list_election= pd.Series(temp_election_l)\n",
    "temp_list_election.value_counts()"
   ]
  },
  {
   "cell_type": "code",
   "execution_count": 261,
   "id": "966d376a",
   "metadata": {
    "colab": {
     "base_uri": "https://localhost:8080/",
     "height": 359
    },
    "id": "966d376a",
    "outputId": "f81925a4-28c9-49a5-a121-dad1be263468"
   },
   "outputs": [
    {
     "data": {
      "text/plain": [
       "Text(0, 0.5, 'Number of the hashtags')"
      ]
     },
     "execution_count": 261,
     "metadata": {},
     "output_type": "execute_result"
    },
    {
     "data": {
      "image/png": "[encoded data removed]",
      "text/plain": [
       "<Figure size 2160x720 with 1 Axes>"
      ]
     },
     "metadata": {
      "needs_background": "light"
     },
     "output_type": "display_data"
    }
   ],
   "source": [
    "# Draw the bar plot for the first 10 hashtags in Canadian election dataframe\n",
    "hashtag_top_10_election=temp_list_election.value_counts().head(10)\n",
    "hashtag_top_10_election=pd.DataFrame(hashtag_top_10_election)\n",
    "plt.bar(hashtag_top_10_election.index,hashtag_top_10_election[0])\n",
    "\n",
    "\n",
    "rcParams['figure.figsize'] = (30, 10)\n",
    "plt.xlabel(\"Hashtags\")\n",
    "plt.ylabel(\"Number of the hashtags\")"
   ]
  },
  {
   "cell_type": "markdown",
   "id": "3f3e9cd3",
   "metadata": {
    "id": "3f3e9cd3"
   },
   "source": [
    "#### <div style='color:blue'> 2.2.3 Find each party's hashtags to find information \n",
    "##### <div style='color:blue'>    - Liberal Party"
   ]
  },
  {
   "cell_type": "code",
   "execution_count": 45,
   "id": "0d194387",
   "metadata": {
    "colab": {
     "base_uri": "https://localhost:8080/",
     "height": 382
    },
    "id": "0d194387",
    "outputId": "aeaf051c-3b0a-4c96-c9fe-06952bf075a2"
   },
   "outputs": [
    {
     "name": "stderr",
     "output_type": "stream",
     "text": [
      "/var/folders/k8/5mxt7tx502x182rpcwd55p080000gn/T/ipykernel_43198/485518215.py:1: FutureWarning: Passing a negative integer is deprecated in version 1.0 and will not be supported in future version. Instead, use None to not limit the column width.\n",
      "  pd.set_option('display.max_colwidth', -1)\n"
     ]
    },
    {
     "data": {
      "text/html": [
       "<div>\n",
       "<style scoped>\n",
       "    .dataframe tbody tr th:only-of-type {\n",
       "        vertical-align: middle;\n",
       "    }\n",
       "\n",
       "    .dataframe tbody tr th {\n",
       "        vertical-align: top;\n",
       "    }\n",
       "\n",
       "    .dataframe thead th {\n",
       "        text-align: right;\n",
       "    }\n",
       "</style>\n",
       "<table border=\"1\" class=\"dataframe\">\n",
       "  <thead>\n",
       "    <tr style=\"text-align: right;\">\n",
       "      <th></th>\n",
       "      <th>text</th>\n",
       "      <th>sentiment</th>\n",
       "      <th>negative_reason</th>\n",
       "    </tr>\n",
       "  </thead>\n",
       "  <tbody>\n",
       "    <tr>\n",
       "      <th>0</th>\n",
       "      <td>canadian election power grab pm trudeau, yes -- take away opposition leaders chosen obstruction (20 non-confidence motions) disinformation middle worldwide pandemic. yes, one wanted vote; opposition antics forced it.</td>\n",
       "      <td>negative</td>\n",
       "      <td>calling election early</td>\n",
       "    </tr>\n",
       "    <tr>\n",
       "      <th>1</th>\n",
       "      <td>hope trudeau loses canadian election tomorrow , called snap one thinking he’d romp it.. seems people don’t like black face hypocrite, super wokist &amp; covid restriction groupie.. let’s hope polls right, might make government think again.</td>\n",
       "      <td>negative</td>\n",
       "      <td>covid</td>\n",
       "    </tr>\n",
       "    <tr>\n",
       "      <th>3</th>\n",
       "      <td>canadian friends: never forget trudeau 2 years mandate + called completely unnecessary election right vaccine mandates rolled - moment extreme political volatility. gambled country could less accountable. #elxn44</td>\n",
       "      <td>negative</td>\n",
       "      <td>calling election early</td>\n",
       "    </tr>\n",
       "    <tr>\n",
       "      <th>9</th>\n",
       "      <td>justin trudeau literally rocks thrown yet continued showing &amp; answered questions election campaign. erin o’toole? hiding media day election doesn’t want answer legitimate concerns canadians have. #elxn44</td>\n",
       "      <td>positive</td>\n",
       "      <td>NaN</td>\n",
       "    </tr>\n",
       "    <tr>\n",
       "      <th>20</th>\n",
       "      <td>canadian election getting interesting. looks like @justintrudeau screwed timing. neck neck race unknown opposition. i'm playing going long #canadian $ &amp; @cafreeland great #canadian economy want long!</td>\n",
       "      <td>positive</td>\n",
       "      <td>NaN</td>\n",
       "    </tr>\n",
       "  </tbody>\n",
       "</table>\n",
       "</div>"
      ],
      "text/plain": [
       "                                                                                                                                                                                                                                           text  \\\n",
       "0   canadian election power grab pm trudeau, yes -- take away opposition leaders chosen obstruction (20 non-confidence motions) disinformation middle worldwide pandemic. yes, one wanted vote; opposition antics forced it.                      \n",
       "1   hope trudeau loses canadian election tomorrow , called snap one thinking he’d romp it.. seems people don’t like black face hypocrite, super wokist & covid restriction groupie.. let’s hope polls right, might make government think again.   \n",
       "3   canadian friends: never forget trudeau 2 years mandate + called completely unnecessary election right vaccine mandates rolled - moment extreme political volatility. gambled country could less accountable. #elxn44                          \n",
       "9   justin trudeau literally rocks thrown yet continued showing & answered questions election campaign. erin o’toole? hiding media day election doesn’t want answer legitimate concerns canadians have. #elxn44                                   \n",
       "20  canadian election getting interesting. looks like @justintrudeau screwed timing. neck neck race unknown opposition. i'm playing going long #canadian $ & @cafreeland great #canadian economy want long!                                       \n",
       "\n",
       "   sentiment         negative_reason  \n",
       "0   negative  calling election early  \n",
       "1   negative  covid                   \n",
       "3   negative  calling election early  \n",
       "9   positive  NaN                     \n",
       "20  positive  NaN                     "
      ]
     },
     "execution_count": 45,
     "metadata": {},
     "output_type": "execute_result"
    }
   ],
   "source": [
    "# To find the hashtags about liberal party in canadian election dataframe\n",
    "pd.set_option('display.max_colwidth', -1)\n",
    "\n",
    "# Select that the text include tredeau keywords\n",
    "temp_trudeau=election[election['text'].str.contains('trudeau')]\n",
    "temp_trudeau.head()\n"
   ]
  },
  {
   "cell_type": "code",
   "execution_count": 46,
   "id": "05791292",
   "metadata": {
    "colab": {
     "base_uri": "https://localhost:8080/"
    },
    "id": "05791292",
    "outputId": "65770082-c9b6-45f2-bf6d-ff2405ccafaa"
   },
   "outputs": [
    {
     "name": "stderr",
     "output_type": "stream",
     "text": [
      "/var/folders/k8/5mxt7tx502x182rpcwd55p080000gn/T/ipykernel_43198/3284871860.py:2: FutureWarning: Passing a negative integer is deprecated in version 1.0 and will not be supported in future version. Instead, use None to not limit the column width.\n",
      "  pd.set_option('display.max_colwidth', -1)\n"
     ]
    }
   ],
   "source": [
    "# Check the string include the 'trudeau'\n",
    "pd.set_option('display.max_colwidth', -1)\n",
    "\n",
    "# The method to find the hashtage is I split the text use \"#\"\n",
    "# The text before the '#' is just the normal sentence, but the text behind the # is the hashtage\n",
    "temp_liberal=election[election['text'].str.contains('trudeau')]\n",
    "temp_list = temp_liberal['text'].str.split('#') \n",
    "temp_l = []\n",
    "for i in temp_list.keys():\n",
    "    temp_l += temp_list[i][1:]\n",
    "\n",
    "temp_list_liberal = pd.Series(temp_l)"
   ]
  },
  {
   "cell_type": "code",
   "execution_count": 47,
   "id": "uGQtTIEvjgco",
   "metadata": {
    "colab": {
     "base_uri": "https://localhost:8080/"
    },
    "id": "uGQtTIEvjgco",
    "outputId": "fc38fe55-b6c0-4ac0-df91-1b0a336e3b53"
   },
   "outputs": [
    {
     "name": "stdout",
     "output_type": "stream",
     "text": [
      "elxn44                                                                                             21\n",
      "cdnpoli                                                                                            17\n",
      "elxn44                                                                                             16\n",
      "istandwithtrudeau                                                                                  11\n",
      "cdnpoli                                                                                            11\n",
      "                                                                                                   ..\n",
      "debate2021                                                                                         1 \n",
      "voteppc @maximebernier @tylerbeaucham20 @markfriesen08 help keep canada free, vote responsibly!    1 \n",
      "voteppc want freedoms. election day                                                                1 \n",
      "debatdeschef                                                                                       1 \n",
      "canada fake msm, fake trudeau, fake election....                                                   1 \n",
      "Length: 171, dtype: int64\n"
     ]
    }
   ],
   "source": [
    "print(temp_list_liberal.value_counts())"
   ]
  },
  {
   "cell_type": "code",
   "execution_count": 48,
   "id": "0ebb598b",
   "metadata": {
    "colab": {
     "base_uri": "https://localhost:8080/",
     "height": 363
    },
    "id": "0ebb598b",
    "outputId": "53eaaacf-6aa9-4044-8b34-3debd6b7230f"
   },
   "outputs": [
    {
     "data": {
      "text/html": [
       "<div>\n",
       "<style scoped>\n",
       "    .dataframe tbody tr th:only-of-type {\n",
       "        vertical-align: middle;\n",
       "    }\n",
       "\n",
       "    .dataframe tbody tr th {\n",
       "        vertical-align: top;\n",
       "    }\n",
       "\n",
       "    .dataframe thead th {\n",
       "        text-align: right;\n",
       "    }\n",
       "</style>\n",
       "<table border=\"1\" class=\"dataframe\">\n",
       "  <thead>\n",
       "    <tr style=\"text-align: right;\">\n",
       "      <th></th>\n",
       "      <th>0</th>\n",
       "    </tr>\n",
       "  </thead>\n",
       "  <tbody>\n",
       "    <tr>\n",
       "      <th>elxn44</th>\n",
       "      <td>21</td>\n",
       "    </tr>\n",
       "    <tr>\n",
       "      <th>cdnpoli</th>\n",
       "      <td>17</td>\n",
       "    </tr>\n",
       "    <tr>\n",
       "      <th>elxn44</th>\n",
       "      <td>16</td>\n",
       "    </tr>\n",
       "    <tr>\n",
       "      <th>istandwithtrudeau</th>\n",
       "      <td>11</td>\n",
       "    </tr>\n",
       "    <tr>\n",
       "      <th>cdnpoli</th>\n",
       "      <td>11</td>\n",
       "    </tr>\n",
       "    <tr>\n",
       "      <th>istandwithtrudeau</th>\n",
       "      <td>10</td>\n",
       "    </tr>\n",
       "    <tr>\n",
       "      <th>voteliberal</th>\n",
       "      <td>8</td>\n",
       "    </tr>\n",
       "    <tr>\n",
       "      <th>voteppc</th>\n",
       "      <td>5</td>\n",
       "    </tr>\n",
       "    <tr>\n",
       "      <th>votetrudeauout</th>\n",
       "      <td>4</td>\n",
       "    </tr>\n",
       "    <tr>\n",
       "      <th>voteliberal</th>\n",
       "      <td>3</td>\n",
       "    </tr>\n",
       "  </tbody>\n",
       "</table>\n",
       "</div>"
      ],
      "text/plain": [
       "                     0\n",
       "elxn44              21\n",
       "cdnpoli             17\n",
       "elxn44              16\n",
       "istandwithtrudeau   11\n",
       "cdnpoli             11\n",
       "istandwithtrudeau   10\n",
       "voteliberal         8 \n",
       "voteppc             5 \n",
       "votetrudeauout      4 \n",
       "voteliberal         3 "
      ]
     },
     "execution_count": 48,
     "metadata": {},
     "output_type": "execute_result"
    }
   ],
   "source": [
    "pd.DataFrame(temp_list_liberal.value_counts()).head(10)"
   ]
  },
  {
   "cell_type": "markdown",
   "id": "DoE3UgHKxWY8",
   "metadata": {
    "id": "DoE3UgHKxWY8"
   },
   "source": [
    "#### So we can notice that the ‘voteliberal’，‘liberalmajority’ can be represent the hashtage for the liberal party\n"
   ]
  },
  {
   "cell_type": "markdown",
   "id": "598e6aa4",
   "metadata": {
    "id": "598e6aa4"
   },
   "source": [
    "- **Liberal**:\n",
    "    \n",
    "    Leader: Justin Trudeau\n",
    "\n",
    "    President: Suzanne Cowan\n",
    "\n",
    "    Relavant words: real change\n",
    "\n",
    "    Hashtage: ‘#voteliberal’，‘#liberalmajority’\n",
    "\n",
    "\n",
    "\n"
   ]
  },
  {
   "cell_type": "markdown",
   "id": "28652c24",
   "metadata": {
    "id": "28652c24"
   },
   "source": [
    "##### <div style='color:blue'> - Conservative Party"
   ]
  },
  {
   "cell_type": "code",
   "execution_count": 49,
   "id": "3ae74d09",
   "metadata": {
    "colab": {
     "base_uri": "https://localhost:8080/"
    },
    "id": "3ae74d09",
    "outputId": "81b5777b-601f-4c81-e222-cfc3fee94c1d"
   },
   "outputs": [
    {
     "name": "stderr",
     "output_type": "stream",
     "text": [
      "/var/folders/k8/5mxt7tx502x182rpcwd55p080000gn/T/ipykernel_43198/1723348437.py:2: FutureWarning: Passing a negative integer is deprecated in version 1.0 and will not be supported in future version. Instead, use None to not limit the column width.\n",
      "  pd.set_option('display.max_colwidth', -1)\n"
     ]
    }
   ],
   "source": [
    "# Check the string include the 'conservative'\n",
    "pd.set_option('display.max_colwidth', -1)\n",
    "\n",
    "# The method to find the hashtage is I split the text use \"#\"\n",
    "# The text before the '#' is just the normal sentence, but the text behind the # is the hashtage\n",
    "temp_conservative=election[election['text'].str.contains('conservative')]\n",
    "temp_list = temp_conservative['text'].str.split('#') \n",
    "temp_2 = []\n",
    "for i in temp_list.keys():\n",
    "    temp_2 += temp_list[i][1:]\n",
    "\n",
    "temp_list_conservative = pd.Series(temp_2)"
   ]
  },
  {
   "cell_type": "code",
   "execution_count": 50,
   "id": "57c5a338",
   "metadata": {
    "colab": {
     "base_uri": "https://localhost:8080/"
    },
    "id": "57c5a338",
    "outputId": "c2b0f792-cf06-4452-dd9b-8853106dc53b"
   },
   "outputs": [
    {
     "name": "stdout",
     "output_type": "stream",
     "text": [
      "nevervoteconservative                                                                22\n",
      "elxn44                                                                               21\n",
      "nevervoteconservative                                                                20\n",
      "cdnpoli                                                                              17\n",
      "elxn44                                                                               12\n",
      "                                                                                     ..\n",
      "maximebernier                                                                        1 \n",
      "canada                                                                               1 \n",
      "canadaelection                                                                       1 \n",
      "canadavotes                                                                          1 \n",
      "anythingbutconservative alberta! give anyone else seat! hit cons hurts edmonton!     1 \n",
      "Length: 139, dtype: int64\n"
     ]
    }
   ],
   "source": [
    "print(temp_list_conservative.value_counts())"
   ]
  },
  {
   "cell_type": "code",
   "execution_count": 51,
   "id": "b53f3352",
   "metadata": {
    "colab": {
     "base_uri": "https://localhost:8080/",
     "height": 677
    },
    "id": "b53f3352",
    "outputId": "a3a33354-32ca-49f5-89b7-8b0c245d1752"
   },
   "outputs": [
    {
     "data": {
      "text/html": [
       "<div>\n",
       "<style scoped>\n",
       "    .dataframe tbody tr th:only-of-type {\n",
       "        vertical-align: middle;\n",
       "    }\n",
       "\n",
       "    .dataframe tbody tr th {\n",
       "        vertical-align: top;\n",
       "    }\n",
       "\n",
       "    .dataframe thead th {\n",
       "        text-align: right;\n",
       "    }\n",
       "</style>\n",
       "<table border=\"1\" class=\"dataframe\">\n",
       "  <thead>\n",
       "    <tr style=\"text-align: right;\">\n",
       "      <th></th>\n",
       "      <th>0</th>\n",
       "    </tr>\n",
       "  </thead>\n",
       "  <tbody>\n",
       "    <tr>\n",
       "      <th>nevervoteconservative</th>\n",
       "      <td>22</td>\n",
       "    </tr>\n",
       "    <tr>\n",
       "      <th>elxn44</th>\n",
       "      <td>21</td>\n",
       "    </tr>\n",
       "    <tr>\n",
       "      <th>nevervoteconservative</th>\n",
       "      <td>20</td>\n",
       "    </tr>\n",
       "    <tr>\n",
       "      <th>cdnpoli</th>\n",
       "      <td>17</td>\n",
       "    </tr>\n",
       "    <tr>\n",
       "      <th>elxn44</th>\n",
       "      <td>12</td>\n",
       "    </tr>\n",
       "    <tr>\n",
       "      <th>voteliberal</th>\n",
       "      <td>5</td>\n",
       "    </tr>\n",
       "    <tr>\n",
       "      <th>nevervotecpc</th>\n",
       "      <td>4</td>\n",
       "    </tr>\n",
       "    <tr>\n",
       "      <th>voteconservative</th>\n",
       "      <td>3</td>\n",
       "    </tr>\n",
       "    <tr>\n",
       "      <th>forwardforeveryone</th>\n",
       "      <td>3</td>\n",
       "    </tr>\n",
       "    <tr>\n",
       "      <th>voteppc</th>\n",
       "      <td>3</td>\n",
       "    </tr>\n",
       "    <tr>\n",
       "      <th>istandwithtrudeau</th>\n",
       "      <td>3</td>\n",
       "    </tr>\n",
       "    <tr>\n",
       "      <th>voteliberal</th>\n",
       "      <td>3</td>\n",
       "    </tr>\n",
       "    <tr>\n",
       "      <th>cdnpoli</th>\n",
       "      <td>3</td>\n",
       "    </tr>\n",
       "    <tr>\n",
       "      <th>otoole</th>\n",
       "      <td>3</td>\n",
       "    </tr>\n",
       "    <tr>\n",
       "      <th>liberalmajority</th>\n",
       "      <td>3</td>\n",
       "    </tr>\n",
       "    <tr>\n",
       "      <th>leadersdebate</th>\n",
       "      <td>3</td>\n",
       "    </tr>\n",
       "    <tr>\n",
       "      <th>conservative</th>\n",
       "      <td>2</td>\n",
       "    </tr>\n",
       "    <tr>\n",
       "      <th>otooleforpm</th>\n",
       "      <td>2</td>\n",
       "    </tr>\n",
       "    <tr>\n",
       "      <th>flipflopotoole</th>\n",
       "      <td>2</td>\n",
       "    </tr>\n",
       "    <tr>\n",
       "      <th>2tierotoole</th>\n",
       "      <td>2</td>\n",
       "    </tr>\n",
       "  </tbody>\n",
       "</table>\n",
       "</div>"
      ],
      "text/plain": [
       "                         0\n",
       "nevervoteconservative   22\n",
       "elxn44                  21\n",
       "nevervoteconservative   20\n",
       "cdnpoli                 17\n",
       "elxn44                  12\n",
       "voteliberal             5 \n",
       "nevervotecpc            4 \n",
       "voteconservative        3 \n",
       "forwardforeveryone      3 \n",
       "voteppc                 3 \n",
       "istandwithtrudeau       3 \n",
       "voteliberal             3 \n",
       "cdnpoli                 3 \n",
       "otoole                  3 \n",
       "liberalmajority         3 \n",
       "leadersdebate           3 \n",
       "conservative            2 \n",
       "otooleforpm             2 \n",
       "flipflopotoole          2 \n",
       "2tierotoole             2 "
      ]
     },
     "execution_count": 51,
     "metadata": {},
     "output_type": "execute_result"
    }
   ],
   "source": [
    "pd.DataFrame(temp_list_conservative.value_counts()).head(20)"
   ]
  },
  {
   "cell_type": "markdown",
   "id": "rCmHGC8nzXig",
   "metadata": {
    "id": "rCmHGC8nzXig"
   },
   "source": [
    "- **Conservative**\n",
    "\n",
    "    Leader: \tErin O'Toole\n",
    "\n",
    "    President: \tRobert Batherson\n",
    "\n",
    "    Relavant words: \"one nation, one flag, one leader\"\n",
    "\n",
    "    Hashtage: '#voteconservative'\n",
    "\n",
    "    Keywords: PCC, CPC"
   ]
  },
  {
   "cell_type": "markdown",
   "id": "c801c0f6",
   "metadata": {
    "id": "c801c0f6"
   },
   "source": [
    "##### <div style='color:blue'> - New Democratic Party (NDP)\n"
   ]
  },
  {
   "cell_type": "code",
   "execution_count": 52,
   "id": "50a60710",
   "metadata": {
    "colab": {
     "base_uri": "https://localhost:8080/"
    },
    "id": "50a60710",
    "outputId": "2a620045-3b60-4d39-c8c3-0b53625a6a27"
   },
   "outputs": [
    {
     "name": "stderr",
     "output_type": "stream",
     "text": [
      "/var/folders/k8/5mxt7tx502x182rpcwd55p080000gn/T/ipykernel_43198/3004488695.py:2: FutureWarning: Passing a negative integer is deprecated in version 1.0 and will not be supported in future version. Instead, use None to not limit the column width.\n",
      "  pd.set_option('display.max_colwidth', -1)\n"
     ]
    }
   ],
   "source": [
    "# Check the string include the 'ndp'\n",
    "pd.set_option('display.max_colwidth', -1)\n",
    "\n",
    "# The method to find the hashtage is I split the text use \"#\"\n",
    "# The text before the '#' is just the normal sentence, but the text behind the # is the hashtage\n",
    "temp_NDP=election[election['text'].str.contains('ndp')]\n",
    "temp_list = temp_NDP['text'].str.split('#') \n",
    "temp_3 = []\n",
    "for i in temp_list.keys():\n",
    "    temp_3 += temp_list[i][1:]\n",
    "\n",
    "temp_list_NDP = pd.Series(temp_3)"
   ]
  },
  {
   "cell_type": "code",
   "execution_count": 53,
   "id": "96a458b3",
   "metadata": {
    "colab": {
     "base_uri": "https://localhost:8080/"
    },
    "id": "96a458b3",
    "outputId": "a554a470-cf55-4656-a0c0-59b231e1a87d"
   },
   "outputs": [
    {
     "name": "stdout",
     "output_type": "stream",
     "text": [
      "elxn44                     5\n",
      "cdnpoli                    4\n",
      "ndp                        3\n",
      "cdnpoli                    3\n",
      "elxn44                     3\n",
      "                          ..\n",
      "lpc                        1\n",
      "cpc                        1\n",
      "fed2021                    1\n",
      "time                       1\n",
      "anythingbutconservative    1\n",
      "Length: 87, dtype: int64\n"
     ]
    }
   ],
   "source": [
    "print(temp_list_NDP.value_counts())"
   ]
  },
  {
   "cell_type": "code",
   "execution_count": 54,
   "id": "9114ede9",
   "metadata": {
    "colab": {
     "base_uri": "https://localhost:8080/",
     "height": 677
    },
    "id": "9114ede9",
    "outputId": "358cbb1f-ae1b-4953-aa12-b3cfc03b4370"
   },
   "outputs": [
    {
     "data": {
      "text/html": [
       "<div>\n",
       "<style scoped>\n",
       "    .dataframe tbody tr th:only-of-type {\n",
       "        vertical-align: middle;\n",
       "    }\n",
       "\n",
       "    .dataframe tbody tr th {\n",
       "        vertical-align: top;\n",
       "    }\n",
       "\n",
       "    .dataframe thead th {\n",
       "        text-align: right;\n",
       "    }\n",
       "</style>\n",
       "<table border=\"1\" class=\"dataframe\">\n",
       "  <thead>\n",
       "    <tr style=\"text-align: right;\">\n",
       "      <th></th>\n",
       "      <th>0</th>\n",
       "    </tr>\n",
       "  </thead>\n",
       "  <tbody>\n",
       "    <tr>\n",
       "      <th>elxn44</th>\n",
       "      <td>5</td>\n",
       "    </tr>\n",
       "    <tr>\n",
       "      <th>cdnpoli</th>\n",
       "      <td>4</td>\n",
       "    </tr>\n",
       "    <tr>\n",
       "      <th>ndp</th>\n",
       "      <td>3</td>\n",
       "    </tr>\n",
       "    <tr>\n",
       "      <th>cdnpoli</th>\n",
       "      <td>3</td>\n",
       "    </tr>\n",
       "    <tr>\n",
       "      <th>elxn44</th>\n",
       "      <td>3</td>\n",
       "    </tr>\n",
       "    <tr>\n",
       "      <th>ndp2021</th>\n",
       "      <td>3</td>\n",
       "    </tr>\n",
       "    <tr>\n",
       "      <th>canada</th>\n",
       "      <td>2</td>\n",
       "    </tr>\n",
       "    <tr>\n",
       "      <th>itsourvote</th>\n",
       "      <td>2</td>\n",
       "    </tr>\n",
       "    <tr>\n",
       "      <th>ndp life election fighting freedoms canadian. voted last saturday @maxinebernier @peoplespca</th>\n",
       "      <td>1</td>\n",
       "    </tr>\n",
       "    <tr>\n",
       "      <th>election</th>\n",
       "      <td>1</td>\n",
       "    </tr>\n",
       "    <tr>\n",
       "      <th>federalelection</th>\n",
       "      <td>1</td>\n",
       "    </tr>\n",
       "    <tr>\n",
       "      <th>ableg government seriously. great plan. kenney tore apart. say trudeau didn’t enough fair. say didn’t take challenge seriously not.</th>\n",
       "      <td>1</td>\n",
       "    </tr>\n",
       "    <tr>\n",
       "      <th>change</th>\n",
       "      <td>1</td>\n",
       "    </tr>\n",
       "    <tr>\n",
       "      <th>teamjagmeet</th>\n",
       "      <td>1</td>\n",
       "    </tr>\n",
       "    <tr>\n",
       "      <th>vote</th>\n",
       "      <td>1</td>\n",
       "    </tr>\n",
       "    <tr>\n",
       "      <th>bluejays making american league playoffs canadian victories i'm hoping coming weeks! :-)</th>\n",
       "      <td>1</td>\n",
       "    </tr>\n",
       "    <tr>\n",
       "      <th>morethantwoparties</th>\n",
       "      <td>1</td>\n",
       "    </tr>\n",
       "    <tr>\n",
       "      <th>ndp</th>\n",
       "      <td>1</td>\n",
       "    </tr>\n",
       "    <tr>\n",
       "      <th>ndpoverhaul</th>\n",
       "      <td>1</td>\n",
       "    </tr>\n",
       "    <tr>\n",
       "      <th>votecpc restore honesty integrity election system</th>\n",
       "      <td>1</td>\n",
       "    </tr>\n",
       "  </tbody>\n",
       "</table>\n",
       "</div>"
      ],
      "text/plain": [
       "                                                                                                                                     0\n",
       "elxn44                                                                                                                               5\n",
       "cdnpoli                                                                                                                              4\n",
       "ndp                                                                                                                                  3\n",
       "cdnpoli                                                                                                                              3\n",
       "elxn44                                                                                                                               3\n",
       "ndp2021                                                                                                                              3\n",
       "canada                                                                                                                               2\n",
       "itsourvote                                                                                                                           2\n",
       "ndp life election fighting freedoms canadian. voted last saturday @maxinebernier @peoplespca                                         1\n",
       "election                                                                                                                             1\n",
       "federalelection                                                                                                                      1\n",
       "ableg government seriously. great plan. kenney tore apart. say trudeau didn’t enough fair. say didn’t take challenge seriously not.  1\n",
       "change                                                                                                                               1\n",
       "teamjagmeet                                                                                                                          1\n",
       "vote                                                                                                                                 1\n",
       "bluejays making american league playoffs canadian victories i'm hoping coming weeks! :-)                                             1\n",
       "morethantwoparties                                                                                                                   1\n",
       "ndp                                                                                                                                  1\n",
       "ndpoverhaul                                                                                                                          1\n",
       "votecpc restore honesty integrity election system                                                                                    1"
      ]
     },
     "execution_count": 54,
     "metadata": {},
     "output_type": "execute_result"
    }
   ],
   "source": [
    "pd.DataFrame(temp_list_NDP.value_counts()).head(20)"
   ]
  },
  {
   "cell_type": "markdown",
   "id": "cde4d983",
   "metadata": {
    "id": "cde4d983"
   },
   "source": [
    "- **New Democratic Party (NDP)**\n",
    "\n",
    "    Leader: Jagmeet Singh\n",
    "\n",
    "    President: Dhananjai Kohli\n",
    "\n",
    "    Relavant words: 'in it for you'\n",
    "\n",
    "    Hashtage: '#ndp'\n",
    "\n",
    "    Keywords: ndp, Jagmeet"
   ]
  },
  {
   "cell_type": "markdown",
   "id": "dec5711c",
   "metadata": {
    "id": "dec5711c"
   },
   "source": [
    "##### <div style='color:blue'> -The People's Party of Canada (PPC)"
   ]
  },
  {
   "cell_type": "code",
   "execution_count": 55,
   "id": "9c7ae2c7",
   "metadata": {
    "colab": {
     "base_uri": "https://localhost:8080/"
    },
    "id": "9c7ae2c7",
    "outputId": "6f205b7b-e065-42fa-8a2c-86022930abde"
   },
   "outputs": [
    {
     "name": "stderr",
     "output_type": "stream",
     "text": [
      "/var/folders/k8/5mxt7tx502x182rpcwd55p080000gn/T/ipykernel_43198/3484898923.py:2: FutureWarning: Passing a negative integer is deprecated in version 1.0 and will not be supported in future version. Instead, use None to not limit the column width.\n",
      "  pd.set_option('display.max_colwidth', -1)\n"
     ]
    }
   ],
   "source": [
    "# Check the string include the 'ndp'\n",
    "pd.set_option('display.max_colwidth', -1)\n",
    "\n",
    "# The method to find the hashtage is I split the text use \"#\"\n",
    "# The text before the '#' is just the normal sentence, but the text behind the # is the hashtage\n",
    "temp_PPC=election[election['text'].str.contains('ppc')]\n",
    "temp_list = temp_PPC['text'].str.split('#') \n",
    "temp_4 = []\n",
    "for i in temp_list.keys():\n",
    "    temp_4 += temp_list[i][1:]\n",
    "\n",
    "temp_list_PPC = pd.Series(temp_4)"
   ]
  },
  {
   "cell_type": "code",
   "execution_count": 56,
   "id": "d4408bdb",
   "metadata": {
    "colab": {
     "base_uri": "https://localhost:8080/"
    },
    "id": "d4408bdb",
    "outputId": "da3da597-dc70-4848-ebe5-f1132db84c8f"
   },
   "outputs": [
    {
     "name": "stdout",
     "output_type": "stream",
     "text": [
      "voteppc                                                      17\n",
      "voteppc                                                      13\n",
      "ppc                                                          7 \n",
      "voteppc2021                                                  5 \n",
      "cdnpoli                                                      4 \n",
      "                                                            .. \n",
      "voteppc freedom. unless like tyranny. vote justin otoole!    1 \n",
      "darrylmackie                                                 1 \n",
      "oshawa                                                       1 \n",
      "voteppc2021 great canadian comeback rally via @youtube       1 \n",
      "voteppc canada!                                              1 \n",
      "Length: 103, dtype: int64\n"
     ]
    }
   ],
   "source": [
    "print(temp_list_PPC.value_counts())"
   ]
  },
  {
   "cell_type": "code",
   "execution_count": 57,
   "id": "0fbcb7e0",
   "metadata": {
    "colab": {
     "base_uri": "https://localhost:8080/",
     "height": 677
    },
    "id": "0fbcb7e0",
    "outputId": "49afa48f-bb35-467e-f2b2-da41535a4799"
   },
   "outputs": [
    {
     "data": {
      "text/html": [
       "<div>\n",
       "<style scoped>\n",
       "    .dataframe tbody tr th:only-of-type {\n",
       "        vertical-align: middle;\n",
       "    }\n",
       "\n",
       "    .dataframe tbody tr th {\n",
       "        vertical-align: top;\n",
       "    }\n",
       "\n",
       "    .dataframe thead th {\n",
       "        text-align: right;\n",
       "    }\n",
       "</style>\n",
       "<table border=\"1\" class=\"dataframe\">\n",
       "  <thead>\n",
       "    <tr style=\"text-align: right;\">\n",
       "      <th></th>\n",
       "      <th>0</th>\n",
       "    </tr>\n",
       "  </thead>\n",
       "  <tbody>\n",
       "    <tr>\n",
       "      <th>voteppc</th>\n",
       "      <td>17</td>\n",
       "    </tr>\n",
       "    <tr>\n",
       "      <th>voteppc</th>\n",
       "      <td>13</td>\n",
       "    </tr>\n",
       "    <tr>\n",
       "      <th>ppc</th>\n",
       "      <td>7</td>\n",
       "    </tr>\n",
       "    <tr>\n",
       "      <th>voteppc2021</th>\n",
       "      <td>5</td>\n",
       "    </tr>\n",
       "    <tr>\n",
       "      <th>cdnpoli</th>\n",
       "      <td>4</td>\n",
       "    </tr>\n",
       "    <tr>\n",
       "      <th>maximebernierforpm</th>\n",
       "      <td>3</td>\n",
       "    </tr>\n",
       "    <tr>\n",
       "      <th>maximebernier</th>\n",
       "      <td>3</td>\n",
       "    </tr>\n",
       "    <tr>\n",
       "      <th>elxn44</th>\n",
       "      <td>3</td>\n",
       "    </tr>\n",
       "    <tr>\n",
       "      <th>ppc</th>\n",
       "      <td>3</td>\n",
       "    </tr>\n",
       "    <tr>\n",
       "      <th>onpoli</th>\n",
       "      <td>2</td>\n",
       "    </tr>\n",
       "    <tr>\n",
       "      <th>makemaxourpm</th>\n",
       "      <td>2</td>\n",
       "    </tr>\n",
       "    <tr>\n",
       "      <th>votetrudeauout</th>\n",
       "      <td>2</td>\n",
       "    </tr>\n",
       "    <tr>\n",
       "      <th>canadianelection</th>\n",
       "      <td>2</td>\n",
       "    </tr>\n",
       "    <tr>\n",
       "      <th>voteppc2021</th>\n",
       "      <td>2</td>\n",
       "    </tr>\n",
       "    <tr>\n",
       "      <th>maximebernier</th>\n",
       "      <td>2</td>\n",
       "    </tr>\n",
       "    <tr>\n",
       "      <th>elxn44</th>\n",
       "      <td>2</td>\n",
       "    </tr>\n",
       "    <tr>\n",
       "      <th>freedom</th>\n",
       "      <td>2</td>\n",
       "    </tr>\n",
       "    <tr>\n",
       "      <th>voteppc vote freedoms back!</th>\n",
       "      <td>1</td>\n",
       "    </tr>\n",
       "    <tr>\n",
       "      <th>revolution</th>\n",
       "      <td>1</td>\n",
       "    </tr>\n",
       "    <tr>\n",
       "      <th>votetrudeauout. otoole come second.</th>\n",
       "      <td>1</td>\n",
       "    </tr>\n",
       "  </tbody>\n",
       "</table>\n",
       "</div>"
      ],
      "text/plain": [
       "                                      0\n",
       "voteppc                              17\n",
       "voteppc                              13\n",
       "ppc                                  7 \n",
       "voteppc2021                          5 \n",
       "cdnpoli                              4 \n",
       "maximebernierforpm                   3 \n",
       "maximebernier                        3 \n",
       "elxn44                               3 \n",
       "ppc                                  3 \n",
       "onpoli                               2 \n",
       "makemaxourpm                         2 \n",
       "votetrudeauout                       2 \n",
       "canadianelection                     2 \n",
       "voteppc2021                          2 \n",
       "maximebernier                        2 \n",
       "elxn44                               2 \n",
       "freedom                              2 \n",
       "voteppc vote freedoms back!          1 \n",
       "revolution                           1 \n",
       "votetrudeauout. otoole come second.  1 "
      ]
     },
     "execution_count": 57,
     "metadata": {},
     "output_type": "execute_result"
    }
   ],
   "source": [
    "# print out the top 20 hashtags\n",
    "pd.DataFrame(temp_list_PPC.value_counts()).head(20)"
   ]
  },
  {
   "cell_type": "markdown",
   "id": "25f54bd1",
   "metadata": {
    "id": "25f54bd1"
   },
   "source": [
    "- **New Democratic Party (PPC)**\n",
    "\n",
    "    Leader: Maxime Bernier\n",
    "\n",
    "    President: \tMaxime Bernier\n",
    "\n",
    "    Relavant words: canadian nationalism\n",
    "\n",
    "    Hashtage: '#voteppc', '#ppc','#voteppc2021'\n",
    "\n",
    "    Keywords: ppc, people's party of canada"
   ]
  },
  {
   "cell_type": "markdown",
   "id": "3c66921a",
   "metadata": {
    "id": "3c66921a"
   },
   "source": [
    "#### <div style='color:blue'> 2.2.4 Use positive or negative sentiment to find information"
   ]
  },
  {
   "cell_type": "code",
   "execution_count": 58,
   "id": "5470fe0c",
   "metadata": {
    "colab": {
     "base_uri": "https://localhost:8080/",
     "height": 112
    },
    "id": "5470fe0c",
    "outputId": "49cc5938-f333-4b3b-e4f4-314ee090ff3f"
   },
   "outputs": [
    {
     "data": {
      "text/html": [
       "<div>\n",
       "<style scoped>\n",
       "    .dataframe tbody tr th:only-of-type {\n",
       "        vertical-align: middle;\n",
       "    }\n",
       "\n",
       "    .dataframe tbody tr th {\n",
       "        vertical-align: top;\n",
       "    }\n",
       "\n",
       "    .dataframe thead th {\n",
       "        text-align: right;\n",
       "    }\n",
       "</style>\n",
       "<table border=\"1\" class=\"dataframe\">\n",
       "  <thead>\n",
       "    <tr style=\"text-align: right;\">\n",
       "      <th></th>\n",
       "      <th>sentiment</th>\n",
       "    </tr>\n",
       "  </thead>\n",
       "  <tbody>\n",
       "    <tr>\n",
       "      <th>positive</th>\n",
       "      <td>615</td>\n",
       "    </tr>\n",
       "    <tr>\n",
       "      <th>negative</th>\n",
       "      <td>387</td>\n",
       "    </tr>\n",
       "  </tbody>\n",
       "</table>\n",
       "</div>"
      ],
      "text/plain": [
       "          sentiment\n",
       "positive  615      \n",
       "negative  387      "
      ]
     },
     "execution_count": 58,
     "metadata": {},
     "output_type": "execute_result"
    }
   ],
   "source": [
    "positive_negative=pd.DataFrame(election['sentiment'].value_counts())\n",
    "positive_negative"
   ]
  },
  {
   "cell_type": "code",
   "execution_count": 59,
   "id": "b2123e4d",
   "metadata": {
    "colab": {
     "base_uri": "https://localhost:8080/",
     "height": 411
    },
    "id": "b2123e4d",
    "outputId": "f81d69af-08c5-499b-b298-2c48926d4127"
   },
   "outputs": [
    {
     "data": {
      "image/png": "[encoded data removed]",
      "text/plain": [
       "<Figure size 504x504 with 1 Axes>"
      ]
     },
     "metadata": {},
     "output_type": "display_data"
    }
   ],
   "source": [
    "# Find the number of the positive and negative sentiment\n",
    "labels = [\"Positive\", \"Negative\"]\n",
    "plt.pie(positive_negative['sentiment'],labels=labels)\n",
    "plt.legend()\n",
    "plt.gcf().set_size_inches(7,7)"
   ]
  },
  {
   "cell_type": "markdown",
   "id": "8fc67f5b",
   "metadata": {
    "id": "8fc67f5b"
   },
   "source": [
    "#### <div style='color:blue'> 2.2.5 Through the negative sentiment reasons to find information"
   ]
  },
  {
   "cell_type": "code",
   "execution_count": 60,
   "id": "d1e9752f",
   "metadata": {
    "colab": {
     "base_uri": "https://localhost:8080/",
     "height": 206
    },
    "id": "d1e9752f",
    "outputId": "ae9f9749-04b6-410e-f893-847b9b7e95f6"
   },
   "outputs": [
    {
     "data": {
      "text/html": [
       "<div>\n",
       "<style scoped>\n",
       "    .dataframe tbody tr th:only-of-type {\n",
       "        vertical-align: middle;\n",
       "    }\n",
       "\n",
       "    .dataframe tbody tr th {\n",
       "        vertical-align: top;\n",
       "    }\n",
       "\n",
       "    .dataframe thead th {\n",
       "        text-align: right;\n",
       "    }\n",
       "</style>\n",
       "<table border=\"1\" class=\"dataframe\">\n",
       "  <thead>\n",
       "    <tr style=\"text-align: right;\">\n",
       "      <th></th>\n",
       "      <th>negative_reason</th>\n",
       "    </tr>\n",
       "  </thead>\n",
       "  <tbody>\n",
       "    <tr>\n",
       "      <th>others</th>\n",
       "      <td>149</td>\n",
       "    </tr>\n",
       "    <tr>\n",
       "      <th>calling election early</th>\n",
       "      <td>73</td>\n",
       "    </tr>\n",
       "    <tr>\n",
       "      <th>tell lies</th>\n",
       "      <td>61</td>\n",
       "    </tr>\n",
       "    <tr>\n",
       "      <th>covid</th>\n",
       "      <td>25</td>\n",
       "    </tr>\n",
       "    <tr>\n",
       "      <th>economy</th>\n",
       "      <td>20</td>\n",
       "    </tr>\n",
       "  </tbody>\n",
       "</table>\n",
       "</div>"
      ],
      "text/plain": [
       "                        negative_reason\n",
       "others                  149            \n",
       "calling election early  73             \n",
       "tell lies               61             \n",
       "covid                   25             \n",
       "economy                 20             "
      ]
     },
     "execution_count": 60,
     "metadata": {},
     "output_type": "execute_result"
    }
   ],
   "source": [
    "# Get the negative reason\n",
    "negative_reason=election['negative_reason'].value_counts()\n",
    "negative_reason=pd.DataFrame(negative_reason)\n",
    "negative_reason.head()"
   ]
  },
  {
   "cell_type": "code",
   "execution_count": 265,
   "id": "5fb056f3",
   "metadata": {
    "colab": {
     "base_uri": "https://localhost:8080/",
     "height": 314
    },
    "id": "5fb056f3",
    "outputId": "99826c7e-b13b-4ec0-b06b-13cd7932ec4b"
   },
   "outputs": [
    {
     "data": {
      "text/plain": [
       "Text(0, 0.5, 'Negative reasons')"
      ]
     },
     "execution_count": 265,
     "metadata": {},
     "output_type": "execute_result"
    },
    {
     "data": {
      "image/png": "[encoded data removed]",
      "text/plain": [
       "<Figure size 2160x720 with 1 Axes>"
      ]
     },
     "metadata": {
      "needs_background": "light"
     },
     "output_type": "display_data"
    }
   ],
   "source": [
    "# Plot the negative reason\n",
    "plt.barh(negative_reason.index,negative_reason['negative_reason'])\n",
    "rcParams['figure.figsize'] = (30, 10)\n",
    "plt.xticks(fontsize=30)\n",
    "plt.yticks(fontsize=30)\n",
    "plt.title('Number of the Negative sentiment reason', fontsize=30)\n",
    "plt.xlabel(\"Number of the negative reasons\", fontsize=25)\n",
    "plt.ylabel(\"Negative reasons\",  fontsize=25)"
   ]
  },
  {
   "cell_type": "markdown",
   "id": "abe8dc3a",
   "metadata": {},
   "source": [
    "#### <div style='color:blue'> - Exploratory analysis : Graphical figure, discuss my finding\n",
    "<div style='color: Tomato'> I draw lots of graphs, First I use the sentiment dataframe to find the most frequency hashtags, I notice that #trecru has the highest frenquency, #hiring and #jobs also has a relatively high frequency. Which means that there might have some society problems related to the employment. Secondly, I draw the canadian election's dataframe, I notice that the #cdnpoli has the highest frequency. Next, I draw the pie chart to find the number of the positive and negative sentiment in the canadian electon's datafrme. I found that most of people have the positive sentiment, which means the people still very satisfied with the election results. Next I would like to know why the negative sentiment happened, so I graph for the negative sentiment reason, I find that most of the reason is the \"calling election early\",\"tell lies\", which means some of the electors are lie to the people and the election was too early, so the people have the negative sentiment."
   ]
  },
  {
   "cell_type": "markdown",
   "id": "f8a46dce",
   "metadata": {
    "id": "f8a46dce"
   },
   "source": [
    "### 3. Model preparation (10 marks):\n",
    "\n",
    "Split the generic tweets randomly into training data (70%) and test data (30%).\n",
    "\n",
    "Prepare the data to try seven classification algorithms – logistic regression, k-NN, Naive Bayes, SVM, decision trees, Random Forest and XGBoost, where each tweet is considered a single observation/example. In these models, the target variable is the sentiment value, which is either positive or negative. Try two different types of features, Bag of Words (word frequency) and TF-IDF on all 7 models. (Hint: Be careful about when to split the dataset into training and testing set.)"
   ]
  },
  {
   "cell_type": "code",
   "execution_count": 62,
   "id": "3d642cca",
   "metadata": {
    "colab": {
     "base_uri": "https://localhost:8080/",
     "height": 206
    },
    "id": "3d642cca",
    "outputId": "467f8ceb-dd44-4e87-f84d-3b833e8b1f90"
   },
   "outputs": [
    {
     "data": {
      "text/html": [
       "<div>\n",
       "<style scoped>\n",
       "    .dataframe tbody tr th:only-of-type {\n",
       "        vertical-align: middle;\n",
       "    }\n",
       "\n",
       "    .dataframe tbody tr th {\n",
       "        vertical-align: top;\n",
       "    }\n",
       "\n",
       "    .dataframe thead th {\n",
       "        text-align: right;\n",
       "    }\n",
       "</style>\n",
       "<table border=\"1\" class=\"dataframe\">\n",
       "  <thead>\n",
       "    <tr style=\"text-align: right;\">\n",
       "      <th></th>\n",
       "      <th>ID</th>\n",
       "      <th>text</th>\n",
       "      <th>label</th>\n",
       "    </tr>\n",
       "  </thead>\n",
       "  <tbody>\n",
       "    <tr>\n",
       "      <th>0</th>\n",
       "      <td>7.680980e+17</td>\n",
       "      <td>josh jenkins looking forward tab breeders crown super sunday</td>\n",
       "      <td>1</td>\n",
       "    </tr>\n",
       "    <tr>\n",
       "      <th>1</th>\n",
       "      <td>7.680980e+17</td>\n",
       "      <td>rt @mianusmanjaved: congratulations pakistan becoming #no1testteam world odds! #ji_pakzindabadrallies</td>\n",
       "      <td>1</td>\n",
       "    </tr>\n",
       "    <tr>\n",
       "      <th>2</th>\n",
       "      <td>7.680980e+17</td>\n",
       "      <td>rt @pepalerts: september, @yesmag taking maine mendoza’s surprise thanksgiving party threw fans!</td>\n",
       "      <td>1</td>\n",
       "    </tr>\n",
       "    <tr>\n",
       "      <th>3</th>\n",
       "      <td>7.680980e+17</td>\n",
       "      <td>rt @david_gaibis: newly painted walls, thanks million custodial painters summer. great job ladies!!!#ec_proud</td>\n",
       "      <td>1</td>\n",
       "    </tr>\n",
       "    <tr>\n",
       "      <th>4</th>\n",
       "      <td>7.680980e+17</td>\n",
       "      <td>rt @cedricfeschotte: excited announce: july 2017 feschotte lab relocating @cornell mbg</td>\n",
       "      <td>1</td>\n",
       "    </tr>\n",
       "  </tbody>\n",
       "</table>\n",
       "</div>"
      ],
      "text/plain": [
       "             ID  \\\n",
       "0  7.680980e+17   \n",
       "1  7.680980e+17   \n",
       "2  7.680980e+17   \n",
       "3  7.680980e+17   \n",
       "4  7.680980e+17   \n",
       "\n",
       "                                                                                                            text  \\\n",
       "0  josh jenkins looking forward tab breeders crown super sunday                                                    \n",
       "1  rt @mianusmanjaved: congratulations pakistan becoming #no1testteam world odds! #ji_pakzindabadrallies           \n",
       "2  rt @pepalerts: september, @yesmag taking maine mendoza’s surprise thanksgiving party threw fans!                \n",
       "3  rt @david_gaibis: newly painted walls, thanks million custodial painters summer. great job ladies!!!#ec_proud   \n",
       "4  rt @cedricfeschotte: excited announce: july 2017 feschotte lab relocating @cornell mbg                          \n",
       "\n",
       "   label  \n",
       "0  1      \n",
       "1  1      \n",
       "2  1      \n",
       "3  1      \n",
       "4  1      "
      ]
     },
     "execution_count": 62,
     "metadata": {},
     "output_type": "execute_result"
    }
   ],
   "source": [
    "sentiment.head()"
   ]
  },
  {
   "cell_type": "code",
   "execution_count": 63,
   "id": "76cef767",
   "metadata": {
    "id": "76cef767"
   },
   "outputs": [],
   "source": [
    "# Let x only include the columns 'text', which is the independent variable\n",
    "# Let y only include the target 'label', which is the sentiment of the people \n",
    "\n",
    "X = sentiment['text'].copy()\n",
    "y = sentiment['label'].copy()"
   ]
  },
  {
   "cell_type": "code",
   "execution_count": 64,
   "id": "01208755",
   "metadata": {
    "id": "01208755"
   },
   "outputs": [],
   "source": [
    "# Separate the data into 70% training data, 30% test data\n",
    "X_train, X_test, y_train, y_test = train_test_split(X, y,train_size=0.7,test_size=0.3)"
   ]
  },
  {
   "cell_type": "code",
   "execution_count": 65,
   "id": "d5407f53",
   "metadata": {
    "colab": {
     "base_uri": "https://localhost:8080/"
    },
    "id": "d5407f53",
    "outputId": "b7ac5d47-8bd3-4157-d67c-8a900ec14add"
   },
   "outputs": [
    {
     "data": {
      "text/plain": [
       "(385273,)"
      ]
     },
     "execution_count": 65,
     "metadata": {},
     "output_type": "execute_result"
    }
   ],
   "source": [
    "# Take a quick look for the number of row for X_train\n",
    "X_train.shape"
   ]
  },
  {
   "cell_type": "code",
   "execution_count": 66,
   "id": "ced092f6",
   "metadata": {
    "colab": {
     "base_uri": "https://localhost:8080/"
    },
    "id": "ced092f6",
    "outputId": "9877ff09-24c7-46c0-cf18-622f0c0435ed"
   },
   "outputs": [
    {
     "data": {
      "text/plain": [
       "(165118,)"
      ]
     },
     "execution_count": 66,
     "metadata": {},
     "output_type": "execute_result"
    }
   ],
   "source": [
    "# Take a quick look for the number of row for X_test\n",
    "X_test.shape"
   ]
  },
  {
   "cell_type": "markdown",
   "id": "58164522",
   "metadata": {
    "id": "58164522"
   },
   "source": [
    "### 3.1.1 Bag of Words Feature"
   ]
  },
  {
   "cell_type": "code",
   "execution_count": 67,
   "id": "275fb473",
   "metadata": {
    "id": "275fb473"
   },
   "outputs": [],
   "source": [
    "# Fit into bag of words \n",
    "bag_of_words = CountVectorizer()\n",
    "# Transform both X-train and X-test into bag of words\n",
    "X_train_word = bag_of_words.fit_transform(X_train)\n",
    "X_test_word = bag_of_words.transform(X_test)"
   ]
  },
  {
   "cell_type": "code",
   "execution_count": 68,
   "id": "674aecc4",
   "metadata": {
    "colab": {
     "base_uri": "https://localhost:8080/"
    },
    "id": "674aecc4",
    "outputId": "c7ed8c75-4e0f-4051-f006-a9972e8faba9"
   },
   "outputs": [
    {
     "data": {
      "text/plain": [
       "(385273, 282047)"
      ]
     },
     "execution_count": 68,
     "metadata": {},
     "output_type": "execute_result"
    }
   ],
   "source": [
    "X_train_word.shape"
   ]
  },
  {
   "cell_type": "code",
   "execution_count": 69,
   "id": "d80b80dd",
   "metadata": {
    "colab": {
     "base_uri": "https://localhost:8080/"
    },
    "id": "d80b80dd",
    "outputId": "2a96265c-7942-49d1-8519-04bd3a0c0518"
   },
   "outputs": [
    {
     "data": {
      "text/plain": [
       "(165118, 282047)"
      ]
     },
     "execution_count": 69,
     "metadata": {},
     "output_type": "execute_result"
    }
   ],
   "source": [
    "X_test_word.shape"
   ]
  },
  {
   "cell_type": "markdown",
   "id": "aed3f9a1",
   "metadata": {
    "id": "aed3f9a1"
   },
   "source": [
    "### 3.1.2 TF-IDF Feature"
   ]
  },
  {
   "cell_type": "code",
   "execution_count": 70,
   "id": "4f96aebb",
   "metadata": {
    "id": "4f96aebb"
   },
   "outputs": [],
   "source": [
    "# Fit into TF-IDF Feature\n",
    "tf_idf = TfidfVectorizer()\n",
    "# Transform both X-train and X-test into TF-IDF Feature\n",
    "X_train_tf = tf_idf.fit_transform(X_train)\n",
    "X_test_tf = tf_idf.transform(X_test)"
   ]
  },
  {
   "cell_type": "code",
   "execution_count": 71,
   "id": "bbc09e64",
   "metadata": {
    "colab": {
     "base_uri": "https://localhost:8080/"
    },
    "id": "bbc09e64",
    "outputId": "05747e28-911d-4d03-f160-ad466feeedef"
   },
   "outputs": [
    {
     "data": {
      "text/plain": [
       "(385273, 282047)"
      ]
     },
     "execution_count": 71,
     "metadata": {},
     "output_type": "execute_result"
    }
   ],
   "source": [
    "X_train_tf.shape"
   ]
  },
  {
   "cell_type": "code",
   "execution_count": 72,
   "id": "67017c50",
   "metadata": {
    "colab": {
     "base_uri": "https://localhost:8080/"
    },
    "id": "67017c50",
    "outputId": "ce9c32b6-4827-46d3-e8ce-a30e0903409e"
   },
   "outputs": [
    {
     "data": {
      "text/plain": [
       "(165118, 282047)"
      ]
     },
     "execution_count": 72,
     "metadata": {},
     "output_type": "execute_result"
    }
   ],
   "source": [
    "X_test_tf.shape"
   ]
  },
  {
   "cell_type": "code",
   "execution_count": 73,
   "id": "01d181af",
   "metadata": {
    "colab": {
     "base_uri": "https://localhost:8080/"
    },
    "id": "01d181af",
    "outputId": "9428c554-a6b0-4f66-92f3-1beeeb835266"
   },
   "outputs": [
    {
     "data": {
      "text/plain": [
       "(385273,)"
      ]
     },
     "execution_count": 73,
     "metadata": {},
     "output_type": "execute_result"
    }
   ],
   "source": [
    "y_train.shape"
   ]
  },
  {
   "cell_type": "code",
   "execution_count": 74,
   "id": "df23a2c1",
   "metadata": {
    "colab": {
     "base_uri": "https://localhost:8080/"
    },
    "id": "df23a2c1",
    "outputId": "c1b6202d-2abc-4975-89e3-c3746bd645e7"
   },
   "outputs": [
    {
     "data": {
      "text/plain": [
       "(165118,)"
      ]
     },
     "execution_count": 74,
     "metadata": {},
     "output_type": "execute_result"
    }
   ],
   "source": [
    "y_test.shape"
   ]
  },
  {
   "cell_type": "markdown",
   "id": "7e99a035",
   "metadata": {
    "id": "7e99a035"
   },
   "source": [
    "### 3.2.1 Logistic Regression\n",
    "\n",
    "#### --  Bag of word feature in Logistic Regression"
   ]
  },
  {
   "cell_type": "code",
   "execution_count": 75,
   "id": "db924716",
   "metadata": {
    "colab": {
     "base_uri": "https://localhost:8080/"
    },
    "id": "db924716",
    "outputId": "d304a75c-5f29-4990-c4af-f569a1ca9f09"
   },
   "outputs": [
    {
     "name": "stderr",
     "output_type": "stream",
     "text": [
      "/Users/ningcansun/opt/anaconda3/lib/python3.8/site-packages/sklearn/linear_model/_logistic.py:814: ConvergenceWarning: lbfgs failed to converge (status=1):\n",
      "STOP: TOTAL NO. of ITERATIONS REACHED LIMIT.\n",
      "\n",
      "Increase the number of iterations (max_iter) or scale the data as shown in:\n",
      "    https://scikit-learn.org/stable/modules/preprocessing.html\n",
      "Please also refer to the documentation for alternative solver options:\n",
      "    https://scikit-learn.org/stable/modules/linear_model.html#logistic-regression\n",
      "  n_iter_i = _check_optimize_result(\n"
     ]
    },
    {
     "data": {
      "text/plain": [
       "LogisticRegression()"
      ]
     },
     "execution_count": 75,
     "metadata": {},
     "output_type": "execute_result"
    }
   ],
   "source": [
    "#Applying bag of words to Logistic Regression \n",
    "logis= LogisticRegression()\n",
    "logis.fit(X_train_word,y_train)"
   ]
  },
  {
   "cell_type": "code",
   "execution_count": 76,
   "id": "db36f7a0",
   "metadata": {
    "id": "db36f7a0"
   },
   "outputs": [],
   "source": [
    "# fit the train & test data into logistic regression model\n",
    "train_prediction_word_logis = logis.predict(X_train_word)\n",
    "test_prediction_word_logis = logis.predict(X_test_word)"
   ]
  },
  {
   "cell_type": "code",
   "execution_count": 77,
   "id": "2acc2581",
   "metadata": {
    "colab": {
     "base_uri": "https://localhost:8080/"
    },
    "id": "2acc2581",
    "outputId": "9e010ceb-b99b-4509-a2cc-7f032abfcad0"
   },
   "outputs": [
    {
     "name": "stdout",
     "output_type": "stream",
     "text": [
      "Train Set Accuracy under Logistic Regression(bag of word): 98.74400749598337\n"
     ]
    }
   ],
   "source": [
    "# find the accuracy of the y-train and the x-train under bag of words\n",
    "ACC_train_word_logis = accuracy_score(y_train,train_prediction_word_logis)*100   \n",
    "ACC_train_word_logis\n",
    "print('Train Set Accuracy under Logistic Regression(bag of word):',ACC_train_word_logis)"
   ]
  },
  {
   "cell_type": "code",
   "execution_count": 78,
   "id": "a9af0b36",
   "metadata": {
    "colab": {
     "base_uri": "https://localhost:8080/"
    },
    "id": "a9af0b36",
    "outputId": "84ee6ffb-e6d9-4fb3-cf7f-f797359d994e"
   },
   "outputs": [
    {
     "name": "stdout",
     "output_type": "stream",
     "text": [
      "Test Set Accuracy under Logistic Regression(bag of word): 97.53449048559212\n"
     ]
    }
   ],
   "source": [
    "# find the accuracy of the y-test and the x-test under bag of words\n",
    "ACC_test_word_logis = accuracy_score(y_test,test_prediction_word_logis)*100   \n",
    "ACC_test_word_logis\n",
    "print('Test Set Accuracy under Logistic Regression(bag of word):',ACC_test_word_logis)"
   ]
  },
  {
   "cell_type": "markdown",
   "id": "b73c4826",
   "metadata": {
    "id": "b73c4826"
   },
   "source": [
    "#### --  TF-IDF feature in Logistic Regression"
   ]
  },
  {
   "cell_type": "code",
   "execution_count": 79,
   "id": "367a30b7",
   "metadata": {
    "colab": {
     "base_uri": "https://localhost:8080/"
    },
    "id": "367a30b7",
    "outputId": "6c19b808-f8d1-429e-8eda-db50a30bdc50"
   },
   "outputs": [
    {
     "name": "stderr",
     "output_type": "stream",
     "text": [
      "/Users/ningcansun/opt/anaconda3/lib/python3.8/site-packages/sklearn/linear_model/_logistic.py:814: ConvergenceWarning: lbfgs failed to converge (status=1):\n",
      "STOP: TOTAL NO. of ITERATIONS REACHED LIMIT.\n",
      "\n",
      "Increase the number of iterations (max_iter) or scale the data as shown in:\n",
      "    https://scikit-learn.org/stable/modules/preprocessing.html\n",
      "Please also refer to the documentation for alternative solver options:\n",
      "    https://scikit-learn.org/stable/modules/linear_model.html#logistic-regression\n",
      "  n_iter_i = _check_optimize_result(\n"
     ]
    },
    {
     "data": {
      "text/plain": [
       "LogisticRegression()"
      ]
     },
     "execution_count": 79,
     "metadata": {},
     "output_type": "execute_result"
    }
   ],
   "source": [
    "# Applying TF-IDF into Logistic Regression \n",
    "logis= LogisticRegression()\n",
    "logis.fit(X_train_tf,y_train)"
   ]
  },
  {
   "cell_type": "code",
   "execution_count": 80,
   "id": "71381949",
   "metadata": {
    "id": "71381949"
   },
   "outputs": [],
   "source": [
    "# fit the train & test data into logistic regression model\n",
    "train_prediction_tf_logis = logis.predict(X_train_tf)\n",
    "test_prediction_tf_logis = logis.predict(X_test_tf)"
   ]
  },
  {
   "cell_type": "code",
   "execution_count": 81,
   "id": "fae4c5f4",
   "metadata": {
    "colab": {
     "base_uri": "https://localhost:8080/"
    },
    "id": "fae4c5f4",
    "outputId": "5351e965-421a-46e3-db3b-abe015099fff"
   },
   "outputs": [
    {
     "name": "stdout",
     "output_type": "stream",
     "text": [
      "Train Set Accuracy under Logistic Regression(TF-IDF): 98.00297451417566\n"
     ]
    }
   ],
   "source": [
    "# find the accuracy of the y-train and the x-train under TF-IDF\n",
    "ACC_train_tf_logis = accuracy_score(y_train,train_prediction_tf_logis)*100 \n",
    "ACC_train_tf_logis\n",
    "print('Train Set Accuracy under Logistic Regression(TF-IDF):',ACC_train_tf_logis)"
   ]
  },
  {
   "cell_type": "code",
   "execution_count": 82,
   "id": "8cfb9f17",
   "metadata": {
    "colab": {
     "base_uri": "https://localhost:8080/"
    },
    "id": "8cfb9f17",
    "outputId": "dc377a1f-65b1-428b-eec8-37ac054e4805"
   },
   "outputs": [
    {
     "name": "stdout",
     "output_type": "stream",
     "text": [
      "Test Set Accuracy under Logistic Regression(TF-IDF): 97.28739446940976\n"
     ]
    }
   ],
   "source": [
    "# find the accuracy of the y-test and the x-test under TF_IDF\n",
    "ACC_test_tf_logis = accuracy_score(y_test,test_prediction_tf_logis)*100 \n",
    "ACC_test_tf_logis\n",
    "print('Test Set Accuracy under Logistic Regression(TF-IDF):',ACC_test_tf_logis)"
   ]
  },
  {
   "cell_type": "markdown",
   "id": "230f076c",
   "metadata": {
    "id": "230f076c"
   },
   "source": [
    "### 3.2.2 K-NN\n",
    "\n",
    "#### --  Bag of word feature in K-NN"
   ]
  },
  {
   "cell_type": "code",
   "execution_count": 83,
   "id": "45b8ce4b",
   "metadata": {
    "colab": {
     "base_uri": "https://localhost:8080/"
    },
    "id": "45b8ce4b",
    "outputId": "94906c06-bae3-4d8f-8a5e-677269deeae0"
   },
   "outputs": [
    {
     "data": {
      "text/plain": [
       "KNeighborsClassifier()"
      ]
     },
     "execution_count": 83,
     "metadata": {},
     "output_type": "execute_result"
    }
   ],
   "source": [
    "#Applying bag of words to KNN\n",
    "knn = KNeighborsClassifier()\n",
    "knn.fit(X_train_word, y_train)"
   ]
  },
  {
   "cell_type": "code",
   "execution_count": 84,
   "id": "d594f573",
   "metadata": {},
   "outputs": [],
   "source": [
    "# fit the train & test data into knn model\n",
    "train_prediction_word_knn = knn.predict(X_train_word)\n",
    "test_prediction_word_knn = knn.predict(X_test_word)"
   ]
  },
  {
   "cell_type": "code",
   "execution_count": 86,
   "id": "f6fddc4d",
   "metadata": {},
   "outputs": [
    {
     "name": "stdout",
     "output_type": "stream",
     "text": [
      "Test Set Accuracy under K-NN(bag of word): 92.31161956903549\n"
     ]
    }
   ],
   "source": [
    "# find the accuracy of the y-train and the x-train under bag of words\n",
    "ACC_train_word_knn = accuracy_score(y_train,train_prediction_word_knn)*100   \n",
    "ACC_train_word_knn\n",
    "print('Train Set Accuracy under K-NN(bag of word):',ACC_train_word_knn)"
   ]
  },
  {
   "cell_type": "code",
   "execution_count": 87,
   "id": "a233638f",
   "metadata": {},
   "outputs": [
    {
     "name": "stdout",
     "output_type": "stream",
     "text": [
      "Test Set Accuracy under K-NN(bag of word): 86.84429317215567\n"
     ]
    }
   ],
   "source": [
    "# find the accuracy of the y-test and the x-test under bag of words\n",
    "ACC_test_word_knn = accuracy_score(y_test,test_prediction_word_knn)*100   \n",
    "ACC_test_word_knn\n",
    "print('Test Set Accuracy under K-NN(bag of word):',ACC_test_word_knn)"
   ]
  },
  {
   "cell_type": "markdown",
   "id": "e616c49d",
   "metadata": {
    "id": "e616c49d"
   },
   "source": [
    "#### --  TF-IDF feature in K-NN\n"
   ]
  },
  {
   "cell_type": "code",
   "execution_count": 88,
   "id": "aee42423",
   "metadata": {
    "colab": {
     "background_save": true
    },
    "id": "aee42423",
    "outputId": "24051761-f2c3-441d-bfaf-0e7e8c6dc5a0"
   },
   "outputs": [
    {
     "data": {
      "text/plain": [
       "KNeighborsClassifier()"
      ]
     },
     "execution_count": 88,
     "metadata": {},
     "output_type": "execute_result"
    }
   ],
   "source": [
    "# Applying TF-IDF into K-NN\n",
    "knn = KNeighborsClassifier()\n",
    "knn.fit(X_train_tf, y_train)"
   ]
  },
  {
   "cell_type": "code",
   "execution_count": 89,
   "id": "e6586cba",
   "metadata": {},
   "outputs": [],
   "source": [
    "# fit the train & test data into K-NN model\n",
    "train_prediction_tf_knn = knn.predict(X_train_tf)\n",
    "test_prediction_tf_knn = knn.predict(X_test_tf)"
   ]
  },
  {
   "cell_type": "code",
   "execution_count": 90,
   "id": "9d2d0900",
   "metadata": {},
   "outputs": [
    {
     "name": "stdout",
     "output_type": "stream",
     "text": [
      "Train Set Accuracy under K-NN(TF-IDF): 98.00262891417566\n"
     ]
    }
   ],
   "source": [
    "# find the accuracy of the y-train and the x-train under TF-IDF\n",
    "ACC_train_tf_knn = accuracy_score(y_train,train_prediction_tf_knn)*100 \n",
    "ACC_train_tf_knn\n",
    "print('Train Set Accuracy under K-NN(TF-IDF):',ACC_train_tf_logis)"
   ]
  },
  {
   "cell_type": "code",
   "execution_count": 91,
   "id": "f2e13faa",
   "metadata": {},
   "outputs": [
    {
     "name": "stdout",
     "output_type": "stream",
     "text": [
      "Test Set Accuracy under K-NN(TF-IDF): 57.28739446940976\n"
     ]
    }
   ],
   "source": [
    "# find the accuracy of the y-test and the x-test under TF-IDF\n",
    "ACC_test_tf_knn = accuracy_score(y_test,test_prediction_tf_knn)*100 \n",
    "ACC_test_tf_knn\n",
    "print('Test Set Accuracy under K-NN(TF-IDF):',ACC_test_tf_knn)"
   ]
  },
  {
   "cell_type": "markdown",
   "id": "d58f7176",
   "metadata": {
    "id": "d58f7176"
   },
   "source": [
    "### 3.2.3 Naive Bayes\n",
    "\n",
    "#### --  Bag of word feature in Naive Bayes"
   ]
  },
  {
   "cell_type": "code",
   "execution_count": 92,
   "id": "f584e3ab",
   "metadata": {
    "colab": {
     "background_save": true
    },
    "id": "f584e3ab",
    "outputId": "ee0674e3-9f8f-4cb1-d487-564e6816eae6"
   },
   "outputs": [
    {
     "data": {
      "text/plain": [
       "MultinomialNB()"
      ]
     },
     "execution_count": 92,
     "metadata": {},
     "output_type": "execute_result"
    }
   ],
   "source": [
    "#Applying bag of words to Naive Bayes\n",
    "nb = MultinomialNB()\n",
    "nb.fit(X_train_word, y_train)"
   ]
  },
  {
   "cell_type": "code",
   "execution_count": 93,
   "id": "7a87bef4",
   "metadata": {
    "colab": {
     "background_save": true
    },
    "id": "7a87bef4"
   },
   "outputs": [],
   "source": [
    "# fit the train & test data into Naive Bayes model\n",
    "train_prediction_word_nb = nb.predict(X_train_word)\n",
    "test_prediction_word_nb = nb.predict(X_test_word)"
   ]
  },
  {
   "cell_type": "code",
   "execution_count": 94,
   "id": "b15e6428",
   "metadata": {
    "colab": {
     "background_save": true
    },
    "id": "b15e6428",
    "outputId": "7c63ef30-0e58-4472-e7b1-3526c0f98291"
   },
   "outputs": [
    {
     "name": "stdout",
     "output_type": "stream",
     "text": [
      "Train Set Accuracy under Naive Bayes(bag of word): 96.33143251668298\n"
     ]
    }
   ],
   "source": [
    "# find the accuracy of the y-train and the x-train under bag of words\n",
    "ACC_train_word_nb = accuracy_score(y_train,train_prediction_word_nb)*100   \n",
    "ACC_train_word_nb\n",
    "print('Train Set Accuracy under Naive Bayes(bag of word):',ACC_train_word_nb)"
   ]
  },
  {
   "cell_type": "code",
   "execution_count": 95,
   "id": "15cbc1a9",
   "metadata": {
    "colab": {
     "background_save": true
    },
    "id": "15cbc1a9",
    "outputId": "b09f24b9-31a0-4bfa-fb80-e0bfeadc97d8"
   },
   "outputs": [
    {
     "name": "stdout",
     "output_type": "stream",
     "text": [
      "Test Set Accuracy under Naive Bayes(bag of word): 94.9417991981492\n"
     ]
    }
   ],
   "source": [
    "# find the accuracy of the y-test and the x-test under bag of words\n",
    "ACC_test_word_nb = accuracy_score(y_test,test_prediction_word_nb)*100   \n",
    "ACC_test_word_nb\n",
    "print('Test Set Accuracy under Naive Bayes(bag of word):',ACC_test_word_nb)"
   ]
  },
  {
   "cell_type": "markdown",
   "id": "e68a3197",
   "metadata": {
    "id": "e68a3197"
   },
   "source": [
    "#### --  TF-IDF feature in Naive Bayes"
   ]
  },
  {
   "cell_type": "code",
   "execution_count": 96,
   "id": "c54b5fe7",
   "metadata": {
    "colab": {
     "background_save": true
    },
    "id": "c54b5fe7",
    "outputId": "9f1f8451-e886-442f-9ffe-05d71200861d"
   },
   "outputs": [
    {
     "data": {
      "text/plain": [
       "MultinomialNB()"
      ]
     },
     "execution_count": 96,
     "metadata": {},
     "output_type": "execute_result"
    }
   ],
   "source": [
    "#Applying TF-IDF to Naive Bayes\n",
    "nb = MultinomialNB()\n",
    "nb.fit(X_train_tf, y_train)"
   ]
  },
  {
   "cell_type": "code",
   "execution_count": 97,
   "id": "afd84633",
   "metadata": {
    "colab": {
     "background_save": true
    },
    "id": "afd84633"
   },
   "outputs": [],
   "source": [
    "# fit the train & test data into Naive Bayes model\n",
    "train_prediction_tf_nb = nb.predict(X_train_tf)\n",
    "test_prediction_tf_nb = nb.predict(X_test_tf)"
   ]
  },
  {
   "cell_type": "code",
   "execution_count": 98,
   "id": "2d7d3cb1",
   "metadata": {
    "colab": {
     "background_save": true
    },
    "id": "2d7d3cb1",
    "outputId": "a10086ba-c86c-4339-e819-fbf1ec9eb59a"
   },
   "outputs": [
    {
     "name": "stdout",
     "output_type": "stream",
     "text": [
      "Train Set Accuracy under Naive Bayes(TF-IDF): 93.7073192255881\n"
     ]
    }
   ],
   "source": [
    "# find the accuracy of the y-train and the x-train under TF-IDF\n",
    "ACC_train_tf_nb = accuracy_score(y_train,train_prediction_tf_nb)*100 \n",
    "ACC_train_tf_nb\n",
    "print('Train Set Accuracy under Naive Bayes(TF-IDF):',ACC_train_tf_nb)"
   ]
  },
  {
   "cell_type": "code",
   "execution_count": 99,
   "id": "8eca15e4",
   "metadata": {
    "colab": {
     "background_save": true
    },
    "id": "8eca15e4",
    "outputId": "a4b0eeb7-cc12-4615-f9f8-30b524346d27"
   },
   "outputs": [
    {
     "name": "stdout",
     "output_type": "stream",
     "text": [
      "Test Set Accuracy under Naive Bayes(TF-IDF): 91.41038530020955\n"
     ]
    }
   ],
   "source": [
    "# find the accuracy of the y-test and the x-test under TF-IDF\n",
    "ACC_test_tf_nb = accuracy_score(y_test,test_prediction_tf_nb)*100 \n",
    "ACC_test_tf_nb\n",
    "print('Test Set Accuracy under Naive Bayes(TF-IDF):',ACC_test_tf_nb)"
   ]
  },
  {
   "cell_type": "markdown",
   "id": "42b5d682",
   "metadata": {
    "id": "42b5d682"
   },
   "source": [
    "### 3.2.4 SVM\n",
    "\n",
    "#### -- Bag of word feature in SVM"
   ]
  },
  {
   "cell_type": "code",
   "execution_count": 100,
   "id": "ab46e680",
   "metadata": {
    "colab": {
     "background_save": true
    },
    "id": "ab46e680",
    "outputId": "3ffc97a0-a4ec-44e1-90a2-b850b22f8e20"
   },
   "outputs": [
    {
     "data": {
      "text/plain": [
       "LinearSVC()"
      ]
     },
     "execution_count": 100,
     "metadata": {},
     "output_type": "execute_result"
    }
   ],
   "source": [
    "#Applying Bag of words to SVM\n",
    "svm = LinearSVC()\n",
    "svm.fit(X_train_word, y_train)"
   ]
  },
  {
   "cell_type": "code",
   "execution_count": 101,
   "id": "1496a6fc",
   "metadata": {},
   "outputs": [],
   "source": [
    "# fit the train & test data into SVM model\n",
    "train_prediction_word_svm = svm.predict(X_train_word)\n",
    "test_prediction_word_svm = svm.predict(X_test_word)"
   ]
  },
  {
   "cell_type": "code",
   "execution_count": 102,
   "id": "cf422726",
   "metadata": {},
   "outputs": [
    {
     "name": "stdout",
     "output_type": "stream",
     "text": [
      "Train Set Accuracy under SVM(bag of word): 99.58341228168078\n"
     ]
    }
   ],
   "source": [
    "# find the accuracy of the y-train and the x-train under Bage of Word\n",
    "ACC_train_word_svm = accuracy_score(y_train,train_prediction_word_svm)*100   \n",
    "ACC_train_word_svm\n",
    "print('Train Set Accuracy under SVM(bag of word):',ACC_train_word_svm)"
   ]
  },
  {
   "cell_type": "code",
   "execution_count": 103,
   "id": "3eeb611d",
   "metadata": {},
   "outputs": [
    {
     "name": "stdout",
     "output_type": "stream",
     "text": [
      "Test Set Accuracy under SVM(bag of word): 97.26801438970918\n"
     ]
    }
   ],
   "source": [
    "# find the accuracy of the y-train and the x-train under Bag of word\n",
    "ACC_test_word_svm = accuracy_score(y_test,test_prediction_word_svm)*100   \n",
    "ACC_test_word_svm\n",
    "print('Test Set Accuracy under SVM(bag of word):',ACC_test_word_svm)"
   ]
  },
  {
   "cell_type": "markdown",
   "id": "618047ac",
   "metadata": {
    "id": "618047ac"
   },
   "source": [
    "#### --  TF-IDF feature in SVM"
   ]
  },
  {
   "cell_type": "code",
   "execution_count": 104,
   "id": "ec8bee16",
   "metadata": {
    "colab": {
     "background_save": true
    },
    "id": "ec8bee16",
    "outputId": "6cb5643d-d856-4a25-9de9-5ac9665a0b21"
   },
   "outputs": [
    {
     "data": {
      "text/plain": [
       "LinearSVC()"
      ]
     },
     "execution_count": 104,
     "metadata": {},
     "output_type": "execute_result"
    }
   ],
   "source": [
    "#Applying TF-IDF to SVM\n",
    "svm = LinearSVC()\n",
    "svm.fit(X_train_tf, y_train)"
   ]
  },
  {
   "cell_type": "code",
   "execution_count": 105,
   "id": "a8083eea",
   "metadata": {},
   "outputs": [],
   "source": [
    "# fit the train & test data into SVM model\n",
    "train_prediction_tf_svm = svm.predict(X_train_tf)\n",
    "test_prediction_tf_svm = svm.predict(X_test_tf)"
   ]
  },
  {
   "cell_type": "code",
   "execution_count": 106,
   "id": "6c9372b3",
   "metadata": {},
   "outputs": [
    {
     "name": "stdout",
     "output_type": "stream",
     "text": [
      "Train Set Accuracy under SVM(TF-IDF): 99.2701279352563\n"
     ]
    }
   ],
   "source": [
    "# find the accuracy of the y-train and the x-train under TF-IDF\n",
    "ACC_train_tf_svm = accuracy_score(y_train,train_prediction_tf_svm)*100 \n",
    "ACC_train_tf_svm\n",
    "print('Train Set Accuracy under SVM(TF-IDF):',ACC_train_tf_svm)"
   ]
  },
  {
   "cell_type": "code",
   "execution_count": 107,
   "id": "82948775",
   "metadata": {},
   "outputs": [
    {
     "name": "stdout",
     "output_type": "stream",
     "text": [
      "Test Set Accuracy under SVM(TF-IDF): 97.52237793577926\n"
     ]
    }
   ],
   "source": [
    "# find the accuracy of the y-test and the x-test under TF-IDF\n",
    "ACC_test_tf_svm = accuracy_score(y_test,test_prediction_tf_svm)*100 \n",
    "ACC_test_tf_svm\n",
    "print('Test Set Accuracy under SVM(TF-IDF):',ACC_test_tf_svm)"
   ]
  },
  {
   "cell_type": "markdown",
   "id": "6b534b15",
   "metadata": {
    "id": "6b534b15"
   },
   "source": [
    "### 3.2.5 Decision Trees\n",
    "\n",
    "#### -- Bag of word feature in Decision Trees"
   ]
  },
  {
   "cell_type": "code",
   "execution_count": 108,
   "id": "80fe9e6a",
   "metadata": {
    "colab": {
     "background_save": true
    },
    "id": "80fe9e6a",
    "outputId": "3f310755-f0c7-4aa9-a867-065df3fd57a9"
   },
   "outputs": [
    {
     "data": {
      "text/plain": [
       "DecisionTreeClassifier()"
      ]
     },
     "execution_count": 108,
     "metadata": {},
     "output_type": "execute_result"
    }
   ],
   "source": [
    "#Applying Bag of word to decision trees\n",
    "tree=DecisionTreeClassifier()\n",
    "tree.fit(X_train_word, y_train)"
   ]
  },
  {
   "cell_type": "code",
   "execution_count": 109,
   "id": "56a4f0a6",
   "metadata": {},
   "outputs": [
    {
     "name": "stdout",
     "output_type": "stream",
     "text": [
      "Train Set Accuracy under Decision Tree(bag of word): 99.988839082936\n"
     ]
    }
   ],
   "source": [
    "# fit the train & test data into decision tree model\n",
    "train_prediction_word_tree = tree.predict(X_train_word)\n",
    "test_prediction_word_tree = tree.predict(X_test_word)\n",
    "\n",
    "# find the accuracy of the y-train and the x-train under bag of words\n",
    "ACC_train_word_tree = accuracy_score(y_train,train_prediction_word_tree)*100   \n",
    "ACC_train_word_tree\n",
    "print('Train Set Accuracy under Decision Tree(bag of word):',ACC_train_word_tree)"
   ]
  },
  {
   "cell_type": "code",
   "execution_count": 110,
   "id": "a18b433d",
   "metadata": {},
   "outputs": [
    {
     "name": "stdout",
     "output_type": "stream",
     "text": [
      "Test Set Accuracy under Decision Tree(bag of word): 94.96360178781235\n"
     ]
    }
   ],
   "source": [
    "# find the accuracy of the y-test and the x-test under bag of words\n",
    "ACC_test_word_tree = accuracy_score(y_test,test_prediction_word_tree)*100   \n",
    "ACC_test_word_tree\n",
    "print('Test Set Accuracy under Decision Tree(bag of word):',ACC_test_word_tree)"
   ]
  },
  {
   "cell_type": "markdown",
   "id": "9f28c287",
   "metadata": {
    "id": "9f28c287"
   },
   "source": [
    "#### -- TF-IDF feature in Decision Trees"
   ]
  },
  {
   "cell_type": "code",
   "execution_count": 111,
   "id": "7ed1cc82",
   "metadata": {
    "colab": {
     "background_save": true
    },
    "id": "7ed1cc82",
    "outputId": "90052806-2b5f-40a6-90bf-60e853e1109c"
   },
   "outputs": [
    {
     "data": {
      "text/plain": [
       "DecisionTreeClassifier()"
      ]
     },
     "execution_count": 111,
     "metadata": {},
     "output_type": "execute_result"
    }
   ],
   "source": [
    "#Applying TF-IDF to decision trees\n",
    "tree = DecisionTreeClassifier()\n",
    "tree.fit(X_train_tf, y_train)"
   ]
  },
  {
   "cell_type": "code",
   "execution_count": 112,
   "id": "3f020900",
   "metadata": {},
   "outputs": [],
   "source": [
    "# fit the train & test data into decision tree model\n",
    "train_prediction_tf_tree = tree.predict(X_train_tf)\n",
    "test_prediction_tf_tree = tree.predict(X_test_tf)"
   ]
  },
  {
   "cell_type": "code",
   "execution_count": 113,
   "id": "5fc98cf0",
   "metadata": {
    "colab": {
     "background_save": true
    },
    "id": "5fc98cf0"
   },
   "outputs": [
    {
     "name": "stdout",
     "output_type": "stream",
     "text": [
      "Train Set Accuracy under Decision Tree(TF-IDF): 99.2701279352563\n"
     ]
    }
   ],
   "source": [
    "# find the accuracy of the y-train and the x-train under TF-IDF\n",
    "ACC_train_tf_tree = accuracy_score(y_train,train_prediction_tf_tree)*100 \n",
    "ACC_train_tf_tree\n",
    "print('Train Set Accuracy under Decision Tree(TF-IDF):',ACC_train_tf_tree)"
   ]
  },
  {
   "cell_type": "code",
   "execution_count": 114,
   "id": "117addd1",
   "metadata": {},
   "outputs": [
    {
     "name": "stdout",
     "output_type": "stream",
     "text": [
      "Test Set Accuracy under Decision Tree(TF-IDF): 97.52237793577926\n"
     ]
    }
   ],
   "source": [
    "# find the accuracy of the y-train and the x-train under TF-IDF\n",
    "ACC_test_tf_tree = accuracy_score(y_test,test_prediction_tf_tree)*100 \n",
    "ACC_test_tf_tree\n",
    "print('Test Set Accuracy under Decision Tree(TF-IDF):',ACC_test_tf_tree)"
   ]
  },
  {
   "cell_type": "markdown",
   "id": "7982cc9b",
   "metadata": {
    "id": "7982cc9b"
   },
   "source": [
    "### 3.2.6 Random Forest\n",
    "\n",
    "#### -- Bag of word feature in Random Forest"
   ]
  },
  {
   "cell_type": "code",
   "execution_count": 117,
   "id": "68a22d13",
   "metadata": {},
   "outputs": [
    {
     "name": "stdout",
     "output_type": "stream",
     "text": [
      "RandomForestClassifier()\n"
     ]
    }
   ],
   "source": [
    "#Applying Bag of words to random forest\n",
    "rf = RandomForestClassifier()\n",
    "rf.fit(X_train_word, y_train)"
   ]
  },
  {
   "cell_type": "code",
   "execution_count": 118,
   "id": "959be00d",
   "metadata": {
    "colab": {
     "base_uri": "https://localhost:8080/",
     "height": 188
    },
    "id": "959be00d",
    "outputId": "33d97680-2457-45e2-f3fd-73d08a6810e3"
   },
   "outputs": [],
   "source": [
    "# fit the train & test data into Rabdom Forest model\n",
    "train_prediction_word_rf = rf.predict(X_train_word)\n",
    "test_prediction_word_rf = rf.predict(X_test_word)"
   ]
  },
  {
   "cell_type": "code",
   "execution_count": 119,
   "id": "50be6a55",
   "metadata": {},
   "outputs": [
    {
     "name": "stdout",
     "output_type": "stream",
     "text": [
      "Train Set Accuracy under Random Forest(bag of word): 86.42267836357793\n"
     ]
    }
   ],
   "source": [
    "# find the accuracy of the y-train and the x-train under bag of words\n",
    "ACC_train_word_rf = accuracy_score(y_train,train_prediction_word_rf)*100   \n",
    "ACC_train_word_rf\n",
    "print('Train Set Accuracy under Random Forest(bag of word):',ACC_train_word_rf)"
   ]
  },
  {
   "cell_type": "code",
   "execution_count": 121,
   "id": "a7ee9018",
   "metadata": {},
   "outputs": [
    {
     "name": "stdout",
     "output_type": "stream",
     "text": [
      "Test Set Accuracy under Random Forest(bag of word) 83.35767888350992\n"
     ]
    }
   ],
   "source": [
    "# find the accuracy of the y-test and the x-test under bag of words\n",
    "ACC_test_word_rf = accuracy_score(y_test,test_prediction_word_rf)*100   \n",
    "ACC_test_word_rf\n",
    "print('Test Set Accuracy under Random Forest(bag of word)',ACC_test_word_rf)"
   ]
  },
  {
   "cell_type": "markdown",
   "id": "ff2abbf6",
   "metadata": {
    "id": "ff2abbf6"
   },
   "source": [
    "#### -- TF-IDF feature in Random Forest"
   ]
  },
  {
   "cell_type": "code",
   "execution_count": 122,
   "id": "586b3d6f",
   "metadata": {},
   "outputs": [
    {
     "name": "stdout",
     "output_type": "stream",
     "text": [
      "RandomForestClassifier()\n"
     ]
    }
   ],
   "source": [
    "#Applying TF-IDF to random forest\n",
    "rf = RandomForestClassifier()\n",
    "rf.fit(X_train_tf, y_train)"
   ]
  },
  {
   "cell_type": "code",
   "execution_count": 123,
   "id": "a9d2b215",
   "metadata": {
    "id": "a9d2b215"
   },
   "outputs": [],
   "source": [
    "# fit the train & test data into Rabdom Forest model\n",
    "train_prediction_tf_rf = rf.predict(X_train_tf)\n",
    "test_prediction_tf_rf = rf.predict(X_test_tf)"
   ]
  },
  {
   "cell_type": "code",
   "execution_count": 124,
   "id": "2041245c",
   "metadata": {
    "id": "2041245c"
   },
   "outputs": [
    {
     "name": "stdout",
     "output_type": "stream",
     "text": [
      "Train Set Accuracy under Random Forest(TF-IDF): 73.5101709358724\n"
     ]
    }
   ],
   "source": [
    "# find the accuracy of the y-train and the x-train under TF-IDF\n",
    "ACC_train_tf_rf = accuracy_score(y_train,train_prediction_tf_rf)*100 \n",
    "ACC_train_tf_rf\n",
    "print('Train Set Accuracy under Random Forest(TF-IDF):',ACC_train_tf_rf)"
   ]
  },
  {
   "cell_type": "code",
   "execution_count": 125,
   "id": "86389812",
   "metadata": {
    "id": "86389812"
   },
   "outputs": [
    {
     "name": "stdout",
     "output_type": "stream",
     "text": [
      "Test Set Accuracy under Random Forest(TF-IDF): 72.1876253655926\n"
     ]
    }
   ],
   "source": [
    "# find the accuracy of the y-train and the x-train under TF-IDF\n",
    "ACC_test_tf_rf = accuracy_score(y_test,test_prediction_tf_rf)*100 \n",
    "ACC_test_tf_rf\n",
    "print('Test Set Accuracy under Random Forest(TF-IDF):',ACC_test_tf_rf)"
   ]
  },
  {
   "cell_type": "markdown",
   "id": "255781f1",
   "metadata": {
    "id": "255781f1"
   },
   "source": [
    "### 3.2.7 XGBoost\n",
    "\n",
    "#### -- Bag of word feature in XGBoost"
   ]
  },
  {
   "cell_type": "code",
   "execution_count": 126,
   "id": "8be007c7",
   "metadata": {
    "id": "8be007c7"
   },
   "outputs": [
    {
     "name": "stderr",
     "output_type": "stream",
     "text": [
      "/Users/ningcansun/opt/anaconda3/lib/python3.8/site-packages/xgboost/sklearn.py:888: UserWarning: The use of label encoder in XGBClassifier is deprecated and will be removed in a future release. To remove this warning, do the following: 1) Pass option use_label_encoder=False when constructing XGBClassifier object; and 2) Encode your labels (y) as integers starting with 0, i.e. 0, 1, 2, ..., [num_class - 1].\n",
      "  warnings.warn(label_encoder_deprecation_msg, UserWarning)\n"
     ]
    },
    {
     "name": "stdout",
     "output_type": "stream",
     "text": [
      "[13:15:02] WARNING: /opt/concourse/worker/volumes/live/7a2b9f41-3287-451b-6691-43e9a6c0910f/volume/xgboost-split_1619728204606/work/src/learner.cc:1061: Starting in XGBoost 1.3.0, the default evaluation metric used with the objective 'binary:logistic' was changed from 'error' to 'logloss'. Explicitly set eval_metric if you'd like to restore the old behavior.\n"
     ]
    },
    {
     "data": {
      "text/plain": [
       "XGBClassifier(base_score=0.5, booster='gbtree', colsample_bylevel=1,\n",
       "              colsample_bynode=1, colsample_bytree=1, gamma=0, gpu_id=-1,\n",
       "              importance_type='gain', interaction_constraints='',\n",
       "              learning_rate=0.300000012, max_delta_step=0, max_depth=6,\n",
       "              min_child_weight=1, missing=nan, monotone_constraints='()',\n",
       "              n_estimators=100, n_jobs=8, num_parallel_tree=1, random_state=0,\n",
       "              reg_alpha=0, reg_lambda=1, scale_pos_weight=1, subsample=1,\n",
       "              tree_method='exact', validate_parameters=1, verbosity=None)"
      ]
     },
     "execution_count": 126,
     "metadata": {},
     "output_type": "execute_result"
    }
   ],
   "source": [
    "xgb = XGBClassifier()\n",
    "xgb.fit(X_train_word, y_train)"
   ]
  },
  {
   "cell_type": "code",
   "execution_count": 127,
   "id": "36276ba8",
   "metadata": {
    "id": "36276ba8"
   },
   "outputs": [],
   "source": [
    "# fit the train & test data into XGBoost\n",
    "train_prediction_word_xgb = xgb.predict(X_train_word)\n",
    "test_prediction_word_xgb = xgb.predict(X_test_word)"
   ]
  },
  {
   "cell_type": "code",
   "execution_count": 128,
   "id": "f3be6ce1",
   "metadata": {
    "id": "f3be6ce1"
   },
   "outputs": [
    {
     "name": "stdout",
     "output_type": "stream",
     "text": [
      "Train Set Accuracy under XGBoost(bag of word): 92.78018444064338\n"
     ]
    }
   ],
   "source": [
    "# find the accuracy of the y-train and the x-train under Bag of word\n",
    "ACC_train_word_xgb = accuracy_score(y_train,train_prediction_word_xgb)*100   \n",
    "ACC_train_word_xgb\n",
    "print('Train Set Accuracy under XGBoost(bag of word):',ACC_train_word_xgb)"
   ]
  },
  {
   "cell_type": "code",
   "execution_count": 129,
   "id": "1edfc9d9",
   "metadata": {
    "id": "1edfc9d9"
   },
   "outputs": [
    {
     "name": "stdout",
     "output_type": "stream",
     "text": [
      "Test Set Accuracy under XGBoost(bag of word): 92.74639954456812\n"
     ]
    }
   ],
   "source": [
    "# find the accuracy of the y-test and the x-test under Bag of word\n",
    "ACC_test_word_xgb = accuracy_score(y_test,test_prediction_word_xgb)*100   \n",
    "ACC_test_word_xgb\n",
    "print('Test Set Accuracy under XGBoost(bag of word):',ACC_test_word_xgb)"
   ]
  },
  {
   "cell_type": "markdown",
   "id": "d8b9ef30",
   "metadata": {
    "id": "d8b9ef30"
   },
   "source": [
    "#### -- TF-IDF feature in XGBoost"
   ]
  },
  {
   "cell_type": "code",
   "execution_count": 130,
   "id": "e142e3d7",
   "metadata": {
    "id": "e142e3d7"
   },
   "outputs": [
    {
     "name": "stderr",
     "output_type": "stream",
     "text": [
      "/Users/ningcansun/opt/anaconda3/lib/python3.8/site-packages/xgboost/sklearn.py:888: UserWarning: The use of label encoder in XGBClassifier is deprecated and will be removed in a future release. To remove this warning, do the following: 1) Pass option use_label_encoder=False when constructing XGBClassifier object; and 2) Encode your labels (y) as integers starting with 0, i.e. 0, 1, 2, ..., [num_class - 1].\n",
      "  warnings.warn(label_encoder_deprecation_msg, UserWarning)\n"
     ]
    },
    {
     "name": "stdout",
     "output_type": "stream",
     "text": [
      "[13:15:43] WARNING: /opt/concourse/worker/volumes/live/7a2b9f41-3287-451b-6691-43e9a6c0910f/volume/xgboost-split_1619728204606/work/src/learner.cc:1061: Starting in XGBoost 1.3.0, the default evaluation metric used with the objective 'binary:logistic' was changed from 'error' to 'logloss'. Explicitly set eval_metric if you'd like to restore the old behavior.\n"
     ]
    },
    {
     "data": {
      "text/plain": [
       "XGBClassifier(base_score=0.5, booster='gbtree', colsample_bylevel=1,\n",
       "              colsample_bynode=1, colsample_bytree=1, gamma=0, gpu_id=-1,\n",
       "              importance_type='gain', interaction_constraints='',\n",
       "              learning_rate=0.300000012, max_delta_step=0, max_depth=6,\n",
       "              min_child_weight=1, missing=nan, monotone_constraints='()',\n",
       "              n_estimators=100, n_jobs=8, num_parallel_tree=1, random_state=0,\n",
       "              reg_alpha=0, reg_lambda=1, scale_pos_weight=1, subsample=1,\n",
       "              tree_method='exact', validate_parameters=1, verbosity=None)"
      ]
     },
     "execution_count": 130,
     "metadata": {},
     "output_type": "execute_result"
    }
   ],
   "source": [
    "xgb = XGBClassifier()\n",
    "xgb.fit(X_train_tf, y_train)"
   ]
  },
  {
   "cell_type": "code",
   "execution_count": 133,
   "id": "c3b08190",
   "metadata": {
    "id": "c3b08190"
   },
   "outputs": [],
   "source": [
    "# fit the train & test data into XGBoost\n",
    "train_prediction_tf_xgb = xgb.predict(X_train_tf)\n",
    "test_prediction_tf_xgb = xgb.predict(X_test_tf)"
   ]
  },
  {
   "cell_type": "code",
   "execution_count": 134,
   "id": "cedcc6be",
   "metadata": {
    "id": "cedcc6be"
   },
   "outputs": [
    {
     "name": "stdout",
     "output_type": "stream",
     "text": [
      "Train Set Accuracy under XGBoost(TF-IDF): 92.7884902393887\n"
     ]
    }
   ],
   "source": [
    "# find the accuracy of the y-train and the x-train under TF-IDF\n",
    "ACC_train_tf_xgb = accuracy_score(y_train,train_prediction_tf_xgb)*100 \n",
    "ACC_train_tf_xgb\n",
    "print('Train Set Accuracy under XGBoost(TF-IDF):',ACC_train_tf_xgb)"
   ]
  },
  {
   "cell_type": "code",
   "execution_count": 135,
   "id": "f63e567d",
   "metadata": {
    "id": "f63e567d"
   },
   "outputs": [
    {
     "name": "stdout",
     "output_type": "stream",
     "text": [
      "Test Set Accuracy under XGBoost(TF-IDF): 92.66463983333132\n"
     ]
    }
   ],
   "source": [
    "# find the accuracy of the y-test and the x-test under TF-IDF\n",
    "ACC_test_tf_xgb = accuracy_score(y_test,test_prediction_tf_xgb)*100 \n",
    "ACC_test_tf_xgb\n",
    "print('Test Set Accuracy under XGBoost(TF-IDF):',ACC_test_tf_xgb)"
   ]
  },
  {
   "cell_type": "markdown",
   "id": "98847eab",
   "metadata": {},
   "source": [
    "#### <div style='color:blue'> - Model Preparation : Discuss my finding\n",
    "    \n",
    "<div style='color:Tomato'> I found that the logistic regression the accuracy overall is higher."
   ]
  },
  {
   "cell_type": "markdown",
   "id": "8fde2594",
   "metadata": {
    "id": "8fde2594"
   },
   "source": [
    "### 4. Model implementation and tuning (60 marks):\n",
    "\n",
    "a) Using both types of features (Bag of Words and TF-IDF), train models on the training data from generic tweets and apply the model to the test data to obtain an accuracy value. (40 marks)\n",
    "\n",
    "--- a. Evaluate the trained model with the best performance on the Canadian Elections data. How well do your predictions match the sentiment labelled in the Canadian elections data?\n",
    "\n",
    "--- b. Propose two other metrics you could use to evaluate the models. In one to two sentences, provide reasoning for each metric.\n",
    "\n",
    "--- c. Choose the model that has the best performance and visualize the sentiment prediction results and the true sentiment for each of the 4 parties. From this model, discuss your findings and whether NLP analytics based on tweets is useful for political parties during election campaigns. Explain how each party is viewed in the public eye based on the sentiment value. Suggest one way you can improve the accuracy of this model.\n",
    "\n",
    "b) Split the negative Canadian elections tweets into training data (70%) and test data (30%). Use the true sentiment labels in the Canadian elections data instead of your predictions from the previous part. Choose one algorithms from classification algorithms (choose any model from logistic regression, k-NN, Naive Bayes, SVM, decision trees, RF, XGBoost), train multi-class classification models to predict the reason for the negative tweets. Tune the hyperparameters and chose the model with best score to test your prediction reason for negative sentiment tweets. (15 marks)\n",
    "\n",
    "--- a. Provide a few reasons why your model may fail to predict the correct negative reasons. Back up your reasoning with examples from the test sets.\n",
    "\n",
    "--- b. Suggest one way you can improve the accuracy of your selected model.\n",
    "\n",
    "--- c. Feel free to combine similar reasons into fewer categories as long as you justify your reasoning. You are free to define input features of your model using word frequency analysis or other techniques.\n",
    "\n",
    "c) Use the frequency of the words (Bag of Words) for (i) positive and (ii) negative tweets using the ground truth sentiment to rank the top-50 most frequent non-stop- words in the Canadian elections dataset. Use the true sentiment labels in the Canadian elections data. Discuss your findings. (5 marks)\n"
   ]
  },
  {
   "cell_type": "markdown",
   "id": "9d8ca308",
   "metadata": {
    "id": "9d8ca308"
   },
   "source": [
    "### 4.a.a"
   ]
  },
  {
   "cell_type": "code",
   "execution_count": 136,
   "id": "3d77a6cb",
   "metadata": {
    "id": "3d77a6cb"
   },
   "outputs": [
    {
     "data": {
      "text/html": [
       "<div>\n",
       "<style scoped>\n",
       "    .dataframe tbody tr th:only-of-type {\n",
       "        vertical-align: middle;\n",
       "    }\n",
       "\n",
       "    .dataframe tbody tr th {\n",
       "        vertical-align: top;\n",
       "    }\n",
       "\n",
       "    .dataframe thead th {\n",
       "        text-align: right;\n",
       "    }\n",
       "</style>\n",
       "<table border=\"1\" class=\"dataframe\">\n",
       "  <thead>\n",
       "    <tr style=\"text-align: right;\">\n",
       "      <th></th>\n",
       "      <th>text</th>\n",
       "      <th>sentiment</th>\n",
       "      <th>negative_reason</th>\n",
       "    </tr>\n",
       "  </thead>\n",
       "  <tbody>\n",
       "    <tr>\n",
       "      <th>0</th>\n",
       "      <td>canadian election power grab pm trudeau, yes -- take away opposition leaders chosen obstruction (20 non-confidence motions) disinformation middle worldwide pandemic. yes, one wanted vote; opposition antics forced it.</td>\n",
       "      <td>negative</td>\n",
       "      <td>calling election early</td>\n",
       "    </tr>\n",
       "    <tr>\n",
       "      <th>1</th>\n",
       "      <td>hope trudeau loses canadian election tomorrow , called snap one thinking he’d romp it.. seems people don’t like black face hypocrite, super wokist &amp; covid restriction groupie.. let’s hope polls right, might make government think again.</td>\n",
       "      <td>negative</td>\n",
       "      <td>covid</td>\n",
       "    </tr>\n",
       "    <tr>\n",
       "      <th>2</th>\n",
       "      <td>dear canadians, election test progressive are. whether stand science, women’s bipoc rights, equality, public healthcare &amp; education, environment. whether stand hate. much lose. don’t let us fall back. #cdnpoli #elxn44</td>\n",
       "      <td>positive</td>\n",
       "      <td>NaN</td>\n",
       "    </tr>\n",
       "    <tr>\n",
       "      <th>3</th>\n",
       "      <td>canadian friends: never forget trudeau 2 years mandate + called completely unnecessary election right vaccine mandates rolled - moment extreme political volatility. gambled country could less accountable. #elxn44</td>\n",
       "      <td>negative</td>\n",
       "      <td>calling election early</td>\n",
       "    </tr>\n",
       "    <tr>\n",
       "      <th>4</th>\n",
       "      <td>sorry @thejagmeetsingh voted #ndp life election fighting freedoms canadian. voted last saturday @maxinebernier @peoplespca #ppc #voteppc2021 #voteforhumanrights #voteforfreedom #maximebernier #purplereign #freedom</td>\n",
       "      <td>positive</td>\n",
       "      <td>NaN</td>\n",
       "    </tr>\n",
       "  </tbody>\n",
       "</table>\n",
       "</div>"
      ],
      "text/plain": [
       "                                                                                                                                                                                                                                          text  \\\n",
       "0  canadian election power grab pm trudeau, yes -- take away opposition leaders chosen obstruction (20 non-confidence motions) disinformation middle worldwide pandemic. yes, one wanted vote; opposition antics forced it.                      \n",
       "1  hope trudeau loses canadian election tomorrow , called snap one thinking he’d romp it.. seems people don’t like black face hypocrite, super wokist & covid restriction groupie.. let’s hope polls right, might make government think again.   \n",
       "2  dear canadians, election test progressive are. whether stand science, women’s bipoc rights, equality, public healthcare & education, environment. whether stand hate. much lose. don’t let us fall back. #cdnpoli #elxn44                     \n",
       "3  canadian friends: never forget trudeau 2 years mandate + called completely unnecessary election right vaccine mandates rolled - moment extreme political volatility. gambled country could less accountable. #elxn44                          \n",
       "4  sorry @thejagmeetsingh voted #ndp life election fighting freedoms canadian. voted last saturday @maxinebernier @peoplespca #ppc #voteppc2021 #voteforhumanrights #voteforfreedom #maximebernier #purplereign #freedom                         \n",
       "\n",
       "  sentiment         negative_reason  \n",
       "0  negative  calling election early  \n",
       "1  negative  covid                   \n",
       "2  positive  NaN                     \n",
       "3  negative  calling election early  \n",
       "4  positive  NaN                     "
      ]
     },
     "execution_count": 136,
     "metadata": {},
     "output_type": "execute_result"
    }
   ],
   "source": [
    "election.head()"
   ]
  },
  {
   "cell_type": "code",
   "execution_count": 137,
   "id": "1740556c",
   "metadata": {
    "id": "1740556c"
   },
   "outputs": [],
   "source": [
    "# Encode the election dataframe's sentiment column, negative become 0, positive become 1\n",
    "encode = LabelEncoder()\n",
    "election.sentiment = encode.fit_transform(election.sentiment) "
   ]
  },
  {
   "cell_type": "code",
   "execution_count": 138,
   "id": "9ed7c316",
   "metadata": {
    "id": "9ed7c316"
   },
   "outputs": [
    {
     "data": {
      "text/html": [
       "<div>\n",
       "<style scoped>\n",
       "    .dataframe tbody tr th:only-of-type {\n",
       "        vertical-align: middle;\n",
       "    }\n",
       "\n",
       "    .dataframe tbody tr th {\n",
       "        vertical-align: top;\n",
       "    }\n",
       "\n",
       "    .dataframe thead th {\n",
       "        text-align: right;\n",
       "    }\n",
       "</style>\n",
       "<table border=\"1\" class=\"dataframe\">\n",
       "  <thead>\n",
       "    <tr style=\"text-align: right;\">\n",
       "      <th></th>\n",
       "      <th>text</th>\n",
       "      <th>sentiment</th>\n",
       "      <th>negative_reason</th>\n",
       "    </tr>\n",
       "  </thead>\n",
       "  <tbody>\n",
       "    <tr>\n",
       "      <th>0</th>\n",
       "      <td>canadian election power grab pm trudeau, yes -- take away opposition leaders chosen obstruction (20 non-confidence motions) disinformation middle worldwide pandemic. yes, one wanted vote; opposition antics forced it.</td>\n",
       "      <td>0</td>\n",
       "      <td>calling election early</td>\n",
       "    </tr>\n",
       "    <tr>\n",
       "      <th>1</th>\n",
       "      <td>hope trudeau loses canadian election tomorrow , called snap one thinking he’d romp it.. seems people don’t like black face hypocrite, super wokist &amp; covid restriction groupie.. let’s hope polls right, might make government think again.</td>\n",
       "      <td>0</td>\n",
       "      <td>covid</td>\n",
       "    </tr>\n",
       "    <tr>\n",
       "      <th>2</th>\n",
       "      <td>dear canadians, election test progressive are. whether stand science, women’s bipoc rights, equality, public healthcare &amp; education, environment. whether stand hate. much lose. don’t let us fall back. #cdnpoli #elxn44</td>\n",
       "      <td>1</td>\n",
       "      <td>NaN</td>\n",
       "    </tr>\n",
       "    <tr>\n",
       "      <th>3</th>\n",
       "      <td>canadian friends: never forget trudeau 2 years mandate + called completely unnecessary election right vaccine mandates rolled - moment extreme political volatility. gambled country could less accountable. #elxn44</td>\n",
       "      <td>0</td>\n",
       "      <td>calling election early</td>\n",
       "    </tr>\n",
       "    <tr>\n",
       "      <th>4</th>\n",
       "      <td>sorry @thejagmeetsingh voted #ndp life election fighting freedoms canadian. voted last saturday @maxinebernier @peoplespca #ppc #voteppc2021 #voteforhumanrights #voteforfreedom #maximebernier #purplereign #freedom</td>\n",
       "      <td>1</td>\n",
       "      <td>NaN</td>\n",
       "    </tr>\n",
       "  </tbody>\n",
       "</table>\n",
       "</div>"
      ],
      "text/plain": [
       "                                                                                                                                                                                                                                          text  \\\n",
       "0  canadian election power grab pm trudeau, yes -- take away opposition leaders chosen obstruction (20 non-confidence motions) disinformation middle worldwide pandemic. yes, one wanted vote; opposition antics forced it.                      \n",
       "1  hope trudeau loses canadian election tomorrow , called snap one thinking he’d romp it.. seems people don’t like black face hypocrite, super wokist & covid restriction groupie.. let’s hope polls right, might make government think again.   \n",
       "2  dear canadians, election test progressive are. whether stand science, women’s bipoc rights, equality, public healthcare & education, environment. whether stand hate. much lose. don’t let us fall back. #cdnpoli #elxn44                     \n",
       "3  canadian friends: never forget trudeau 2 years mandate + called completely unnecessary election right vaccine mandates rolled - moment extreme political volatility. gambled country could less accountable. #elxn44                          \n",
       "4  sorry @thejagmeetsingh voted #ndp life election fighting freedoms canadian. voted last saturday @maxinebernier @peoplespca #ppc #voteppc2021 #voteforhumanrights #voteforfreedom #maximebernier #purplereign #freedom                         \n",
       "\n",
       "   sentiment         negative_reason  \n",
       "0  0          calling election early  \n",
       "1  0          covid                   \n",
       "2  1          NaN                     \n",
       "3  0          calling election early  \n",
       "4  1          NaN                     "
      ]
     },
     "execution_count": 138,
     "metadata": {},
     "output_type": "execute_result"
    }
   ],
   "source": [
    "election.head()"
   ]
  },
  {
   "cell_type": "code",
   "execution_count": 139,
   "id": "a829472b",
   "metadata": {
    "id": "a829472b"
   },
   "outputs": [],
   "source": [
    "# Let the election's text column become the X_test_election\n",
    "X_test_election = election['text']"
   ]
  },
  {
   "cell_type": "code",
   "execution_count": 140,
   "id": "68a95c93",
   "metadata": {
    "id": "68a95c93"
   },
   "outputs": [
    {
     "data": {
      "text/plain": [
       "(1002, 282047)"
      ]
     },
     "execution_count": 140,
     "metadata": {},
     "output_type": "execute_result"
    }
   ],
   "source": [
    "X_test_word_election = bag_of_words.transform(X_test_election)\n",
    "X_test_word_election.shape"
   ]
  },
  {
   "cell_type": "code",
   "execution_count": 141,
   "id": "202d3169",
   "metadata": {
    "id": "202d3169"
   },
   "outputs": [
    {
     "name": "stdout",
     "output_type": "stream",
     "text": [
      "Accuracy under Logistic Regression(bag of word): 73.05389221556887\n"
     ]
    }
   ],
   "source": [
    "# I select the logistic regression model, because the accuracy is the highest in part 3\n",
    "y_predict_election=logis.predict(X_test_word_election)\n",
    "ACC_train_word_logis_election = accuracy_score(election['sentiment'],y_predict_election)*100 \n",
    "print('Accuracy under Logistic Regression(bag of word):',ACC_train_word_logis_election)\n"
   ]
  },
  {
   "cell_type": "markdown",
   "id": "878b9e3a",
   "metadata": {
    "id": "878b9e3a"
   },
   "source": [
    "### 4.a.b"
   ]
  },
  {
   "cell_type": "code",
   "execution_count": 142,
   "id": "98470d81",
   "metadata": {
    "id": "98470d81"
   },
   "outputs": [
    {
     "name": "stdout",
     "output_type": "stream",
     "text": [
      "f1 score under logistic regression: 0.7471910112359551\n"
     ]
    }
   ],
   "source": [
    "# Use the f1 score to test\n",
    "f1_score=f1_score(election['sentiment'], y_predict_election)\n",
    "print(\"f1 score under logistic regression:\", f1_score)"
   ]
  },
  {
   "cell_type": "code",
   "execution_count": 143,
   "id": "d1fa7a8b",
   "metadata": {
    "id": "d1fa7a8b"
   },
   "outputs": [
    {
     "name": "stdout",
     "output_type": "stream",
     "text": [
      "precision score under logistic regression: 0.8807947019867549\n"
     ]
    }
   ],
   "source": [
    "# Use the precision score to test\n",
    "precision=precision_score(election['sentiment'], y_predict_election)\n",
    "print(\"precision score under logistic regression:\", precision)"
   ]
  },
  {
   "cell_type": "markdown",
   "id": "b411935f",
   "metadata": {
    "id": "b411935f"
   },
   "source": [
    "-  <div style='color:blue'> Reasoning for f1 score: \n",
    "    \n",
    " <div style='color:tomato'>I use f1 score because the f1 score is measure of the incorrectly cases, and the class is not balanced. so I use the f1 score."
   ]
  },
  {
   "cell_type": "markdown",
   "id": "3b72da64",
   "metadata": {
    "id": "3b72da64"
   },
   "source": [
    "-  <div style='color:blue'>Reasoning for precision score: \n",
    "    \n",
    " <div style='color:tomato'>I use precision score because the precision score is measure of the True Positive divided by the sum of True Negative and False Positive. I use it because I guess the dataset's False Positives is high, so I use the precision score."
   ]
  },
  {
   "cell_type": "markdown",
   "id": "aa034e62",
   "metadata": {
    "id": "aa034e62"
   },
   "source": [
    "### 4.a.c"
   ]
  },
  {
   "cell_type": "code",
   "execution_count": 144,
   "id": "e693038d",
   "metadata": {
    "id": "e693038d"
   },
   "outputs": [
    {
     "data": {
      "text/plain": [
       "array([[0., 1.],\n",
       "       [1., 0.],\n",
       "       [1., 0.],\n",
       "       ...,\n",
       "       [1., 0.],\n",
       "       [1., 0.],\n",
       "       [1., 0.]])"
      ]
     },
     "execution_count": 144,
     "metadata": {},
     "output_type": "execute_result"
    }
   ],
   "source": [
    "# First we encode the sentiment column, let it become into 2 columns\n",
    "one_hot_enc = prep.OneHotEncoder(sparse=False)\n",
    "predict_election_df = one_hot_enc.fit_transform(pd.DataFrame(y_predict_election))\n",
    "predict_election_df"
   ]
  },
  {
   "cell_type": "code",
   "execution_count": 145,
   "id": "b433737f",
   "metadata": {
    "id": "b433737f"
   },
   "outputs": [
    {
     "data": {
      "text/html": [
       "<div>\n",
       "<style scoped>\n",
       "    .dataframe tbody tr th:only-of-type {\n",
       "        vertical-align: middle;\n",
       "    }\n",
       "\n",
       "    .dataframe tbody tr th {\n",
       "        vertical-align: top;\n",
       "    }\n",
       "\n",
       "    .dataframe thead th {\n",
       "        text-align: right;\n",
       "    }\n",
       "</style>\n",
       "<table border=\"1\" class=\"dataframe\">\n",
       "  <thead>\n",
       "    <tr style=\"text-align: right;\">\n",
       "      <th></th>\n",
       "      <th>Negative</th>\n",
       "      <th>Positive</th>\n",
       "    </tr>\n",
       "  </thead>\n",
       "  <tbody>\n",
       "    <tr>\n",
       "      <th>0</th>\n",
       "      <td>0.0</td>\n",
       "      <td>1.0</td>\n",
       "    </tr>\n",
       "    <tr>\n",
       "      <th>1</th>\n",
       "      <td>1.0</td>\n",
       "      <td>0.0</td>\n",
       "    </tr>\n",
       "    <tr>\n",
       "      <th>2</th>\n",
       "      <td>1.0</td>\n",
       "      <td>0.0</td>\n",
       "    </tr>\n",
       "    <tr>\n",
       "      <th>3</th>\n",
       "      <td>1.0</td>\n",
       "      <td>0.0</td>\n",
       "    </tr>\n",
       "    <tr>\n",
       "      <th>4</th>\n",
       "      <td>1.0</td>\n",
       "      <td>0.0</td>\n",
       "    </tr>\n",
       "  </tbody>\n",
       "</table>\n",
       "</div>"
      ],
      "text/plain": [
       "   Negative  Positive\n",
       "0  0.0       1.0     \n",
       "1  1.0       0.0     \n",
       "2  1.0       0.0     \n",
       "3  1.0       0.0     \n",
       "4  1.0       0.0     "
      ]
     },
     "execution_count": 145,
     "metadata": {},
     "output_type": "execute_result"
    }
   ],
   "source": [
    "# print the prediction election sentiment tabel\n",
    "predict_election_df=pd.DataFrame(predict_election_df)\n",
    "predict_election_df.columns = \"Negative Positive\".split(\" \")\n",
    "predict_election_df.head()"
   ]
  },
  {
   "cell_type": "code",
   "execution_count": 146,
   "id": "96536a45",
   "metadata": {
    "id": "96536a45"
   },
   "outputs": [
    {
     "data": {
      "text/html": [
       "<div>\n",
       "<style scoped>\n",
       "    .dataframe tbody tr th:only-of-type {\n",
       "        vertical-align: middle;\n",
       "    }\n",
       "\n",
       "    .dataframe tbody tr th {\n",
       "        vertical-align: top;\n",
       "    }\n",
       "\n",
       "    .dataframe thead th {\n",
       "        text-align: right;\n",
       "    }\n",
       "</style>\n",
       "<table border=\"1\" class=\"dataframe\">\n",
       "  <thead>\n",
       "    <tr style=\"text-align: right;\">\n",
       "      <th></th>\n",
       "      <th>Prediction Sentiment</th>\n",
       "    </tr>\n",
       "  </thead>\n",
       "  <tbody>\n",
       "    <tr>\n",
       "      <th>0</th>\n",
       "      <td>1</td>\n",
       "    </tr>\n",
       "    <tr>\n",
       "      <th>1</th>\n",
       "      <td>0</td>\n",
       "    </tr>\n",
       "    <tr>\n",
       "      <th>2</th>\n",
       "      <td>0</td>\n",
       "    </tr>\n",
       "    <tr>\n",
       "      <th>3</th>\n",
       "      <td>0</td>\n",
       "    </tr>\n",
       "    <tr>\n",
       "      <th>4</th>\n",
       "      <td>0</td>\n",
       "    </tr>\n",
       "  </tbody>\n",
       "</table>\n",
       "</div>"
      ],
      "text/plain": [
       "   Prediction Sentiment\n",
       "0  1                   \n",
       "1  0                   \n",
       "2  0                   \n",
       "3  0                   \n",
       "4  0                   "
      ]
     },
     "execution_count": 146,
     "metadata": {},
     "output_type": "execute_result"
    }
   ],
   "source": [
    "# print out the prediction sentiment\n",
    "y_predict_election=pd.DataFrame(y_predict_election)\n",
    "y_predict_election.columns = ['Prediction Sentiment']\n",
    "y_predict_election.head()\n"
   ]
  },
  {
   "cell_type": "code",
   "execution_count": 147,
   "id": "9205b5b8",
   "metadata": {
    "id": "9205b5b8"
   },
   "outputs": [
    {
     "data": {
      "text/html": [
       "<div>\n",
       "<style scoped>\n",
       "    .dataframe tbody tr th:only-of-type {\n",
       "        vertical-align: middle;\n",
       "    }\n",
       "\n",
       "    .dataframe tbody tr th {\n",
       "        vertical-align: top;\n",
       "    }\n",
       "\n",
       "    .dataframe thead th {\n",
       "        text-align: right;\n",
       "    }\n",
       "</style>\n",
       "<table border=\"1\" class=\"dataframe\">\n",
       "  <thead>\n",
       "    <tr style=\"text-align: right;\">\n",
       "      <th></th>\n",
       "      <th>True Sentiment</th>\n",
       "    </tr>\n",
       "  </thead>\n",
       "  <tbody>\n",
       "    <tr>\n",
       "      <th>0</th>\n",
       "      <td>0</td>\n",
       "    </tr>\n",
       "    <tr>\n",
       "      <th>1</th>\n",
       "      <td>0</td>\n",
       "    </tr>\n",
       "    <tr>\n",
       "      <th>2</th>\n",
       "      <td>1</td>\n",
       "    </tr>\n",
       "    <tr>\n",
       "      <th>3</th>\n",
       "      <td>0</td>\n",
       "    </tr>\n",
       "    <tr>\n",
       "      <th>4</th>\n",
       "      <td>1</td>\n",
       "    </tr>\n",
       "  </tbody>\n",
       "</table>\n",
       "</div>"
      ],
      "text/plain": [
       "   True Sentiment\n",
       "0  0             \n",
       "1  0             \n",
       "2  1             \n",
       "3  0             \n",
       "4  1             "
      ]
     },
     "execution_count": 147,
     "metadata": {},
     "output_type": "execute_result"
    }
   ],
   "source": [
    "# print out the true sentiment\n",
    "election.head()\n",
    "only_sentiment_election=election.drop(columns=['text','negative_reason'])\n",
    "only_sentiment_election.columns = ['True Sentiment']\n",
    "only_sentiment_election.head()"
   ]
  },
  {
   "cell_type": "code",
   "execution_count": 148,
   "id": "a0e7a716",
   "metadata": {
    "id": "a0e7a716"
   },
   "outputs": [
    {
     "data": {
      "text/html": [
       "<div>\n",
       "<style scoped>\n",
       "    .dataframe tbody tr th:only-of-type {\n",
       "        vertical-align: middle;\n",
       "    }\n",
       "\n",
       "    .dataframe tbody tr th {\n",
       "        vertical-align: top;\n",
       "    }\n",
       "\n",
       "    .dataframe thead th {\n",
       "        text-align: right;\n",
       "    }\n",
       "</style>\n",
       "<table border=\"1\" class=\"dataframe\">\n",
       "  <thead>\n",
       "    <tr style=\"text-align: right;\">\n",
       "      <th></th>\n",
       "      <th>political_party</th>\n",
       "    </tr>\n",
       "  </thead>\n",
       "  <tbody>\n",
       "    <tr>\n",
       "      <th>0</th>\n",
       "      <td>not sure</td>\n",
       "    </tr>\n",
       "    <tr>\n",
       "      <th>1</th>\n",
       "      <td>liberal party</td>\n",
       "    </tr>\n",
       "    <tr>\n",
       "      <th>2</th>\n",
       "      <td>not sure</td>\n",
       "    </tr>\n",
       "    <tr>\n",
       "      <th>3</th>\n",
       "      <td>liberal party</td>\n",
       "    </tr>\n",
       "    <tr>\n",
       "      <th>4</th>\n",
       "      <td>not sure</td>\n",
       "    </tr>\n",
       "  </tbody>\n",
       "</table>\n",
       "</div>"
      ],
      "text/plain": [
       "  political_party\n",
       "0  not sure      \n",
       "1  liberal party \n",
       "2  not sure      \n",
       "3  liberal party \n",
       "4  not sure      "
      ]
     },
     "execution_count": 148,
     "metadata": {},
     "output_type": "execute_result"
    }
   ],
   "source": [
    "political=pd.DataFrame(election_temp.iloc[:,3])\n",
    "political.head()"
   ]
  },
  {
   "cell_type": "code",
   "execution_count": 149,
   "id": "14da286b",
   "metadata": {
    "id": "14da286b"
   },
   "outputs": [
    {
     "data": {
      "text/html": [
       "<div>\n",
       "<style scoped>\n",
       "    .dataframe tbody tr th:only-of-type {\n",
       "        vertical-align: middle;\n",
       "    }\n",
       "\n",
       "    .dataframe tbody tr th {\n",
       "        vertical-align: top;\n",
       "    }\n",
       "\n",
       "    .dataframe thead th {\n",
       "        text-align: right;\n",
       "    }\n",
       "</style>\n",
       "<table border=\"1\" class=\"dataframe\">\n",
       "  <thead>\n",
       "    <tr style=\"text-align: right;\">\n",
       "      <th></th>\n",
       "      <th>True Sentiment</th>\n",
       "      <th>political_party</th>\n",
       "      <th>Prediction Sentiment</th>\n",
       "    </tr>\n",
       "  </thead>\n",
       "  <tbody>\n",
       "    <tr>\n",
       "      <th>0</th>\n",
       "      <td>0</td>\n",
       "      <td>not sure</td>\n",
       "      <td>1</td>\n",
       "    </tr>\n",
       "    <tr>\n",
       "      <th>1</th>\n",
       "      <td>0</td>\n",
       "      <td>liberal party</td>\n",
       "      <td>0</td>\n",
       "    </tr>\n",
       "    <tr>\n",
       "      <th>2</th>\n",
       "      <td>1</td>\n",
       "      <td>not sure</td>\n",
       "      <td>0</td>\n",
       "    </tr>\n",
       "    <tr>\n",
       "      <th>3</th>\n",
       "      <td>0</td>\n",
       "      <td>liberal party</td>\n",
       "      <td>0</td>\n",
       "    </tr>\n",
       "    <tr>\n",
       "      <th>4</th>\n",
       "      <td>1</td>\n",
       "      <td>not sure</td>\n",
       "      <td>0</td>\n",
       "    </tr>\n",
       "  </tbody>\n",
       "</table>\n",
       "</div>"
      ],
      "text/plain": [
       "   True Sentiment political_party  Prediction Sentiment\n",
       "0  0               not sure        1                   \n",
       "1  0               liberal party   0                   \n",
       "2  1               not sure        0                   \n",
       "3  0               liberal party   0                   \n",
       "4  1               not sure        0                   "
      ]
     },
     "execution_count": 149,
     "metadata": {},
     "output_type": "execute_result"
    }
   ],
   "source": [
    "# Combine the true sentiment and the predict sentiment into one dataframe\n",
    "true_predict_sentiment=pd.concat([only_sentiment_election,political,y_predict_election], axis=1)\n",
    "true_predict_sentiment.head()"
   ]
  },
  {
   "cell_type": "code",
   "execution_count": 150,
   "id": "e372249a",
   "metadata": {
    "id": "e372249a"
   },
   "outputs": [
    {
     "data": {
      "text/plain": [
       "(1002, 3)"
      ]
     },
     "execution_count": 150,
     "metadata": {},
     "output_type": "execute_result"
    }
   ],
   "source": [
    "true_predict_sentiment.shape"
   ]
  },
  {
   "cell_type": "markdown",
   "id": "99b802cb",
   "metadata": {
    "id": "99b802cb"
   },
   "source": [
    "### Liberal Party plot"
   ]
  },
  {
   "cell_type": "code",
   "execution_count": 151,
   "id": "ef7d9f05",
   "metadata": {
    "id": "ef7d9f05"
   },
   "outputs": [
    {
     "data": {
      "text/plain": [
       "(252, 3)"
      ]
     },
     "execution_count": 151,
     "metadata": {},
     "output_type": "execute_result"
    }
   ],
   "source": [
    "# Get the data which only belonging the liberal\n",
    "liberal_true_predict = true_predict_sentiment[true_predict_sentiment['political_party']=='liberal party']\n",
    "liberal_true_predict.shape"
   ]
  },
  {
   "cell_type": "code",
   "execution_count": 152,
   "id": "c9900823",
   "metadata": {
    "id": "c9900823"
   },
   "outputs": [
    {
     "data": {
      "text/plain": [
       "Text(0.5, 1.1, '0: Negative Sentiment, 1: Positive Sentiment')"
      ]
     },
     "execution_count": 152,
     "metadata": {},
     "output_type": "execute_result"
    },
    {
     "data": {
      "image/png": "[encoded data removed]",
      "text/plain": [
       "<Figure size 2160x720 with 2 Axes>"
      ]
     },
     "metadata": {
      "needs_background": "light"
     },
     "output_type": "display_data"
    }
   ],
   "source": [
    "# plot the liberal's True sentiment & Predict Sentiment\n",
    "fig,(axtrue, axpredict) = plt.subplots(1,2)\n",
    "sns.countplot(x='True Sentiment',data=liberal_true_predict, palette = \"Blues\", ax=axtrue).tick_params(labelsize=20)\n",
    "sns.countplot(x='Prediction Sentiment', data=liberal_true_predict, palette = \"Blues\",ax=axpredict).tick_params(labelsize=20)\n",
    "fig.suptitle('Liberal Party - True Sentiment VS Predict Sentiment', fontsize=30,weight='bold')\n",
    "\n",
    "axtrue.text(x=0.5, y=1.1, s='0: Negative Sentiment, 1: Positive Sentiment', fontsize=16, weight='bold', ha='center', va='bottom')\n",
    "axpredict.text(x=0.5, y=1.1, s='0: Negative Sentiment, 1: Positive Sentiment', fontsize=16, weight='bold', ha='center', va='bottom')"
   ]
  },
  {
   "cell_type": "markdown",
   "id": "4fda5ff3",
   "metadata": {
    "id": "4fda5ff3"
   },
   "source": [
    "### Conservative Party plot"
   ]
  },
  {
   "cell_type": "code",
   "execution_count": 153,
   "id": "04921a8a",
   "metadata": {
    "id": "04921a8a"
   },
   "outputs": [
    {
     "data": {
      "text/plain": [
       "(69, 3)"
      ]
     },
     "execution_count": 153,
     "metadata": {},
     "output_type": "execute_result"
    }
   ],
   "source": [
    "# Get the data which only belonging the conservative party\n",
    "conservative_true_predict = true_predict_sentiment[true_predict_sentiment['political_party']=='conservative party']\n",
    "conservative_true_predict.shape"
   ]
  },
  {
   "cell_type": "code",
   "execution_count": 154,
   "id": "4c49b697",
   "metadata": {
    "id": "4c49b697"
   },
   "outputs": [
    {
     "data": {
      "text/plain": [
       "Text(0.5, 1.1, '0: Negative Sentiment, 1: Positive Sentiment')"
      ]
     },
     "execution_count": 154,
     "metadata": {},
     "output_type": "execute_result"
    },
    {
     "data": {
      "image/png": "[encoded data removed]",
      "text/plain": [
       "<Figure size 2160x720 with 2 Axes>"
      ]
     },
     "metadata": {
      "needs_background": "light"
     },
     "output_type": "display_data"
    }
   ],
   "source": [
    "# plot the conservative's True sentiment & Predict Sentiment\n",
    "fig,(axtrue, axpredict) = plt.subplots(1,2)\n",
    "sns.countplot(x='True Sentiment',data=conservative_true_predict, palette = \"Blues\", ax=axtrue).tick_params(labelsize=20)\n",
    "sns.countplot(x='Prediction Sentiment', data=conservative_true_predict, palette = \"Blues\",ax=axpredict).tick_params(labelsize=20)\n",
    "fig.suptitle('Conservative Party - True Sentiment VS Predict Sentiment', fontsize=30,weight='bold')\n",
    "\n",
    "axtrue.text(x=0.5, y=1.1, s='0: Negative Sentiment, 1: Positive Sentiment', fontsize=16, weight='bold', ha='center', va='bottom')\n",
    "axpredict.text(x=0.5, y=1.1, s='0: Negative Sentiment, 1: Positive Sentiment', fontsize=16, weight='bold', ha='center', va='bottom')"
   ]
  },
  {
   "cell_type": "markdown",
   "id": "64216940",
   "metadata": {
    "id": "64216940"
   },
   "source": [
    "### People's Party of Canada (PPC) plot"
   ]
  },
  {
   "cell_type": "code",
   "execution_count": 155,
   "id": "bbfaf5da",
   "metadata": {
    "id": "bbfaf5da"
   },
   "outputs": [
    {
     "data": {
      "text/plain": [
       "(60, 3)"
      ]
     },
     "execution_count": 155,
     "metadata": {},
     "output_type": "execute_result"
    }
   ],
   "source": [
    "# Get the data which only belonging the People's Party of Canada party\n",
    "ppc_true_predict = true_predict_sentiment[true_predict_sentiment['political_party']=='ppc party']\n",
    "ppc_true_predict.shape"
   ]
  },
  {
   "cell_type": "code",
   "execution_count": 156,
   "id": "c8205be0",
   "metadata": {
    "id": "c8205be0"
   },
   "outputs": [
    {
     "data": {
      "text/plain": [
       "Text(0.5, 1.1, '0: Negative Sentiment, 1: Positive Sentiment')"
      ]
     },
     "execution_count": 156,
     "metadata": {},
     "output_type": "execute_result"
    },
    {
     "data": {
      "image/png": "[encoded data removed]",
      "text/plain": [
       "<Figure size 2160x720 with 2 Axes>"
      ]
     },
     "metadata": {
      "needs_background": "light"
     },
     "output_type": "display_data"
    }
   ],
   "source": [
    "# plot the People's Party of Canada's True sentiment & Predict Sentiment\n",
    "fig,(axtrue, axpredict) = plt.subplots(1,2)\n",
    "sns.countplot(x='True Sentiment',data=ppc_true_predict, palette = \"Blues\", ax=axtrue).tick_params(labelsize=20)\n",
    "sns.countplot(x='Prediction Sentiment', data=ppc_true_predict, palette = \"Blues\",ax=axpredict).tick_params(labelsize=20)\n",
    "fig.suptitle('People Party of Canada Party - True Sentiment VS Predict Sentiment', fontsize=30,weight='bold')\n",
    "\n",
    "axtrue.text(x=0.5, y=1.1, s='0: Negative Sentiment, 1: Positive Sentiment', fontsize=16, weight='bold', ha='center', va='bottom')\n",
    "axpredict.text(x=0.5, y=1.1, s='0: Negative Sentiment, 1: Positive Sentiment', fontsize=16, weight='bold', ha='center', va='bottom')"
   ]
  },
  {
   "cell_type": "markdown",
   "id": "6b85da2a",
   "metadata": {
    "id": "6b85da2a"
   },
   "source": [
    "### New Democratic Party plot"
   ]
  },
  {
   "cell_type": "code",
   "execution_count": 157,
   "id": "e68412df",
   "metadata": {
    "id": "e68412df"
   },
   "outputs": [
    {
     "data": {
      "text/plain": [
       "(26, 3)"
      ]
     },
     "execution_count": 157,
     "metadata": {},
     "output_type": "execute_result"
    }
   ],
   "source": [
    "# Get the data which only belonging the People's Party of Canada party\n",
    "ndp_true_predict = true_predict_sentiment[true_predict_sentiment['political_party']=='new democratic party']\n",
    "ndp_true_predict.shape"
   ]
  },
  {
   "cell_type": "code",
   "execution_count": 158,
   "id": "a60720db",
   "metadata": {
    "id": "a60720db",
    "scrolled": false
   },
   "outputs": [
    {
     "data": {
      "text/plain": [
       "Text(0.5, 1.1, '0: Negative Sentiment, 1: Positive Sentiment')"
      ]
     },
     "execution_count": 158,
     "metadata": {},
     "output_type": "execute_result"
    },
    {
     "data": {
      "image/png": "[encoded data removed]",
      "text/plain": [
       "<Figure size 2160x720 with 2 Axes>"
      ]
     },
     "metadata": {
      "needs_background": "light"
     },
     "output_type": "display_data"
    }
   ],
   "source": [
    "# plot the New Democratic Party's True sentiment & Predict Sentiment\n",
    "fig,(axtrue, axpredict) = plt.subplots(1,2)\n",
    "sns.countplot(x='True Sentiment',data=ndp_true_predict, palette = \"Blues\", ax=axtrue).tick_params(labelsize=20)\n",
    "sns.countplot(x='Prediction Sentiment', data=ndp_true_predict, palette = \"Blues\",ax=axpredict).tick_params(labelsize=20)\n",
    "fig.suptitle('New Democratic Party - True Sentiment VS Predict Sentiment', fontsize=30,weight='bold')\n",
    "\n",
    "axtrue.text(x=0.5, y=1.1, s='0: Negative Sentiment, 1: Positive Sentiment', fontsize=16, weight='bold', ha='center', va='bottom')\n",
    "axpredict.text(x=0.5, y=1.1, s='0: Negative Sentiment, 1: Positive Sentiment', fontsize=16, weight='bold', ha='center', va='bottom')"
   ]
  },
  {
   "cell_type": "markdown",
   "id": "ee2b3f93",
   "metadata": {},
   "source": [
    "#### <div style='color:blue'> - Model Implementation: From this model, discuss your findings?\n",
    "    \n",
    " <div style='color:Tomato'> The finding is that for the liberaty party and PPC party, I noticed that they are really similar, but for the conservative party and new democratic party, my prediction and the true model are have a big difference.\n",
    "    \n",
    "#### <div style='color:blue'> - Model Implementation: whether NLP analytics based on tweets is useful for political parties during election campaigns?\n",
    "    \n",
    "<div style='color:Tomato'>  I think the NLP analytics based on tweets is useful because it may have some bias, may be because the hyperparameter's issue, but overall, the estimate is fairly accurate. For the PPC party, it almost looks the same, so the NLP is really useful.\n",
    "    \n",
    "#### <div style='color:blue'> - Model Implementation: Explain how each party is viewed in the public eye based on the sentiment value. \n",
    " \n",
    "<div style='color:Tomato'>  I noticed that although that lots of people support liberaty party, but the negative sentiment also really high compare to the other political party. However the New Democratic has the smallest number of negative sentiment. In these 4 parties, the more people pay attention, the more negative emotions, everyone’s thinking is completely different.\n",
    "    \n",
    "#### <div style='color:blue'> - Model Implementation: Suggest one way you can improve the accuracy of this model. \n",
    "    \n",
    "<div style='color:Tomato'> Hyper tuning, change some of the hyper parameters."
   ]
  },
  {
   "cell_type": "markdown",
   "id": "c0913eb1",
   "metadata": {
    "id": "c0913eb1"
   },
   "source": [
    "### 4.b.a"
   ]
  },
  {
   "cell_type": "code",
   "execution_count": 225,
   "id": "04feaac0",
   "metadata": {
    "id": "04feaac0"
   },
   "outputs": [
    {
     "data": {
      "text/html": [
       "<div>\n",
       "<style scoped>\n",
       "    .dataframe tbody tr th:only-of-type {\n",
       "        vertical-align: middle;\n",
       "    }\n",
       "\n",
       "    .dataframe tbody tr th {\n",
       "        vertical-align: top;\n",
       "    }\n",
       "\n",
       "    .dataframe thead th {\n",
       "        text-align: right;\n",
       "    }\n",
       "</style>\n",
       "<table border=\"1\" class=\"dataframe\">\n",
       "  <thead>\n",
       "    <tr style=\"text-align: right;\">\n",
       "      <th></th>\n",
       "      <th>text</th>\n",
       "      <th>sentiment</th>\n",
       "      <th>negative_reason</th>\n",
       "    </tr>\n",
       "  </thead>\n",
       "  <tbody>\n",
       "    <tr>\n",
       "      <th>0</th>\n",
       "      <td>canadian election power grab pm trudeau, yes -- take away opposition leaders chosen obstruction (20 non-confidence motions) disinformation middle worldwide pandemic. yes, one wanted vote; opposition antics forced it.</td>\n",
       "      <td>0</td>\n",
       "      <td>calling election early</td>\n",
       "    </tr>\n",
       "    <tr>\n",
       "      <th>1</th>\n",
       "      <td>hope trudeau loses canadian election tomorrow , called snap one thinking he’d romp it.. seems people don’t like black face hypocrite, super wokist &amp; covid restriction groupie.. let’s hope polls right, might make government think again.</td>\n",
       "      <td>0</td>\n",
       "      <td>covid</td>\n",
       "    </tr>\n",
       "    <tr>\n",
       "      <th>3</th>\n",
       "      <td>canadian friends: never forget trudeau 2 years mandate + called completely unnecessary election right vaccine mandates rolled - moment extreme political volatility. gambled country could less accountable. #elxn44</td>\n",
       "      <td>0</td>\n",
       "      <td>calling election early</td>\n",
       "    </tr>\n",
       "    <tr>\n",
       "      <th>5</th>\n",
       "      <td>vaccines &amp; guns key election o'toole serious plan get canadians vaccinated (he can't even get candidates vaccinated) &amp; playing games guns deliver fun lobby. many canadians (and me), climate issue. so...</td>\n",
       "      <td>0</td>\n",
       "      <td>covid</td>\n",
       "    </tr>\n",
       "    <tr>\n",
       "      <th>6</th>\n",
       "      <td>i’m sorry, moderators respond leadership candidates can’t? debate farce frankly disservice canadians, awful 2019 formats hope next election see new moderation format. they’ve two goes, that’s enough. #elxn44 #cdnpoli</td>\n",
       "      <td>0</td>\n",
       "      <td>others</td>\n",
       "    </tr>\n",
       "  </tbody>\n",
       "</table>\n",
       "</div>"
      ],
      "text/plain": [
       "                                                                                                                                                                                                                                          text  \\\n",
       "0  canadian election power grab pm trudeau, yes -- take away opposition leaders chosen obstruction (20 non-confidence motions) disinformation middle worldwide pandemic. yes, one wanted vote; opposition antics forced it.                      \n",
       "1  hope trudeau loses canadian election tomorrow , called snap one thinking he’d romp it.. seems people don’t like black face hypocrite, super wokist & covid restriction groupie.. let’s hope polls right, might make government think again.   \n",
       "3  canadian friends: never forget trudeau 2 years mandate + called completely unnecessary election right vaccine mandates rolled - moment extreme political volatility. gambled country could less accountable. #elxn44                          \n",
       "5  vaccines & guns key election o'toole serious plan get canadians vaccinated (he can't even get candidates vaccinated) & playing games guns deliver fun lobby. many canadians (and me), climate issue. so...                                    \n",
       "6  i’m sorry, moderators respond leadership candidates can’t? debate farce frankly disservice canadians, awful 2019 formats hope next election see new moderation format. they’ve two goes, that’s enough. #elxn44 #cdnpoli                      \n",
       "\n",
       "   sentiment         negative_reason  \n",
       "0  0          calling election early  \n",
       "1  0          covid                   \n",
       "3  0          calling election early  \n",
       "5  0          covid                   \n",
       "6  0          others                  "
      ]
     },
     "execution_count": 225,
     "metadata": {},
     "output_type": "execute_result"
    }
   ],
   "source": [
    "# extract the sentiment is negative\n",
    "negative_sentiment_election=election[election['sentiment']==0]\n",
    "negative_sentiment_election.head()"
   ]
  },
  {
   "cell_type": "code",
   "execution_count": 207,
   "id": "a03d4ddd",
   "metadata": {
    "id": "a03d4ddd"
   },
   "outputs": [],
   "source": [
    "#negative_sentiment_election[negative_sentiment_election['negative_reason']=='covid ']"
   ]
  },
  {
   "cell_type": "code",
   "execution_count": 208,
   "id": "c2a04f40",
   "metadata": {
    "id": "c2a04f40"
   },
   "outputs": [
    {
     "data": {
      "text/html": [
       "<div>\n",
       "<style scoped>\n",
       "    .dataframe tbody tr th:only-of-type {\n",
       "        vertical-align: middle;\n",
       "    }\n",
       "\n",
       "    .dataframe tbody tr th {\n",
       "        vertical-align: top;\n",
       "    }\n",
       "\n",
       "    .dataframe thead th {\n",
       "        text-align: right;\n",
       "    }\n",
       "</style>\n",
       "<table border=\"1\" class=\"dataframe\">\n",
       "  <thead>\n",
       "    <tr style=\"text-align: right;\">\n",
       "      <th></th>\n",
       "      <th>text</th>\n",
       "      <th>sentiment</th>\n",
       "      <th>negative_reason</th>\n",
       "    </tr>\n",
       "  </thead>\n",
       "  <tbody>\n",
       "    <tr>\n",
       "      <th>0</th>\n",
       "      <td>canadian election power grab pm trudeau, yes -- take away opposition leaders chosen obstruction (20 non-confidence motions) disinformation middle worldwide pandemic. yes, one wanted vote; opposition antics forced it.</td>\n",
       "      <td>0</td>\n",
       "      <td>calling election early</td>\n",
       "    </tr>\n",
       "    <tr>\n",
       "      <th>1</th>\n",
       "      <td>hope trudeau loses canadian election tomorrow , called snap one thinking he’d romp it.. seems people don’t like black face hypocrite, super wokist &amp; covid restriction groupie.. let’s hope polls right, might make government think again.</td>\n",
       "      <td>0</td>\n",
       "      <td>covid</td>\n",
       "    </tr>\n",
       "    <tr>\n",
       "      <th>2</th>\n",
       "      <td>canadian friends: never forget trudeau 2 years mandate + called completely unnecessary election right vaccine mandates rolled - moment extreme political volatility. gambled country could less accountable. #elxn44</td>\n",
       "      <td>0</td>\n",
       "      <td>calling election early</td>\n",
       "    </tr>\n",
       "    <tr>\n",
       "      <th>3</th>\n",
       "      <td>vaccines &amp; guns key election o'toole serious plan get canadians vaccinated (he can't even get candidates vaccinated) &amp; playing games guns deliver fun lobby. many canadians (and me), climate issue. so...</td>\n",
       "      <td>0</td>\n",
       "      <td>covid</td>\n",
       "    </tr>\n",
       "    <tr>\n",
       "      <th>4</th>\n",
       "      <td>i’m sorry, moderators respond leadership candidates can’t? debate farce frankly disservice canadians, awful 2019 formats hope next election see new moderation format. they’ve two goes, that’s enough. #elxn44 #cdnpoli</td>\n",
       "      <td>0</td>\n",
       "      <td>others</td>\n",
       "    </tr>\n",
       "  </tbody>\n",
       "</table>\n",
       "</div>"
      ],
      "text/plain": [
       "                                                                                                                                                                                                                                          text  \\\n",
       "0  canadian election power grab pm trudeau, yes -- take away opposition leaders chosen obstruction (20 non-confidence motions) disinformation middle worldwide pandemic. yes, one wanted vote; opposition antics forced it.                      \n",
       "1  hope trudeau loses canadian election tomorrow , called snap one thinking he’d romp it.. seems people don’t like black face hypocrite, super wokist & covid restriction groupie.. let’s hope polls right, might make government think again.   \n",
       "2  canadian friends: never forget trudeau 2 years mandate + called completely unnecessary election right vaccine mandates rolled - moment extreme political volatility. gambled country could less accountable. #elxn44                          \n",
       "3  vaccines & guns key election o'toole serious plan get canadians vaccinated (he can't even get candidates vaccinated) & playing games guns deliver fun lobby. many canadians (and me), climate issue. so...                                    \n",
       "4  i’m sorry, moderators respond leadership candidates can’t? debate farce frankly disservice canadians, awful 2019 formats hope next election see new moderation format. they’ve two goes, that’s enough. #elxn44 #cdnpoli                      \n",
       "\n",
       "   sentiment         negative_reason  \n",
       "0  0          calling election early  \n",
       "1  0          covid                   \n",
       "2  0          calling election early  \n",
       "3  0          covid                   \n",
       "4  0          others                  "
      ]
     },
     "execution_count": 208,
     "metadata": {},
     "output_type": "execute_result"
    }
   ],
   "source": [
    "# Due to the index is not in order, so we reset the index\n",
    "negative_sentiment_election = negative_sentiment_election.reset_index(drop=True)\n",
    "negative_sentiment_election.head()"
   ]
  },
  {
   "cell_type": "code",
   "execution_count": 209,
   "id": "76ce27a1",
   "metadata": {
    "id": "76ce27a1"
   },
   "outputs": [
    {
     "data": {
      "text/plain": [
       "11"
      ]
     },
     "execution_count": 209,
     "metadata": {},
     "output_type": "execute_result"
    }
   ],
   "source": [
    "negative_sentiment_election['negative_reason'].nunique()"
   ]
  },
  {
   "cell_type": "markdown",
   "id": "eb1f9a27",
   "metadata": {
    "id": "eb1f9a27"
   },
   "source": [
    "It has 11 distict negative reason, so we need to encode and conbine some of the reasons."
   ]
  },
  {
   "cell_type": "code",
   "execution_count": 210,
   "id": "f5e20048",
   "metadata": {
    "id": "f5e20048"
   },
   "outputs": [
    {
     "data": {
      "text/plain": [
       "others                                 149\n",
       "calling election early                 73 \n",
       "tell lies                              61 \n",
       "covid                                  25 \n",
       "economy                                20 \n",
       "gun control                            16 \n",
       "climate problem                        15 \n",
       "scandal                                14 \n",
       "healthcare and marijuana               7  \n",
       "women reproductive right and racism    4  \n",
       "segregation                            3  \n",
       "Name: negative_reason, dtype: int64"
      ]
     },
     "execution_count": 210,
     "metadata": {},
     "output_type": "execute_result"
    }
   ],
   "source": [
    "# Negative reason is the target, but it is str, we need the numeric\n",
    "# Prepare for the target encodeing\n",
    "# Check the unique value for the negative reason\n",
    "\n",
    "negative_sentiment_election['negative_reason'].value_counts()"
   ]
  },
  {
   "cell_type": "markdown",
   "id": "54ab1975",
   "metadata": {
    "id": "54ab1975"
   },
   "source": [
    "I would like to seperate the negative reason in to different groups "
   ]
  },
  {
   "cell_type": "code",
   "execution_count": 226,
   "id": "b95a36d4",
   "metadata": {
    "id": "b95a36d4"
   },
   "outputs": [
    {
     "data": {
      "text/plain": [
       "negative_reason    0\n",
       "dtype: int64"
      ]
     },
     "execution_count": 226,
     "metadata": {},
     "output_type": "execute_result"
    }
   ],
   "source": [
    "#Prepare for one-vs-all transformation, check the number of null values\n",
    "check_nagative=pd.DataFrame(negative_sentiment_election['negative_reason'])\n",
    "check_nagative.isna().sum()"
   ]
  },
  {
   "cell_type": "code",
   "execution_count": 227,
   "id": "c74b9ffa",
   "metadata": {
    "id": "c74b9ffa"
   },
   "outputs": [],
   "source": [
    "# government_reason: it means it caused by the government themselves\n",
    "# other\n",
    "# Election reason: which is called by electors\n",
    "# Society Reason: it means it is influence not only canada, this reasob is influence lots of people\n",
    "# Gender Reason: it means there are some issues related to the gender.\n",
    "# Econony reason: economy issue\n",
    "government_reason=['segregation','gun control','calling election early']\n",
    "other=['others']\n",
    "elector_reason=['tell lies','scandal']\n",
    "society_reason=['covid ','climate problem','healthcare and marijuana']\n",
    "gender_reason=['women reproductive right and racism']\n",
    "economy_reason=['economy']"
   ]
  },
  {
   "cell_type": "code",
   "execution_count": 228,
   "id": "f87b89f6",
   "metadata": {
    "id": "f87b89f6"
   },
   "outputs": [
    {
     "name": "stderr",
     "output_type": "stream",
     "text": [
      "/var/folders/k8/5mxt7tx502x182rpcwd55p080000gn/T/ipykernel_43198/759902188.py:1: SettingWithCopyWarning: \n",
      "A value is trying to be set on a copy of a slice from a DataFrame.\n",
      "Try using .loc[row_indexer,col_indexer] = value instead\n",
      "\n",
      "See the caveats in the documentation: https://pandas.pydata.org/pandas-docs/stable/user_guide/indexing.html#returning-a-view-versus-a-copy\n",
      "  negative_sentiment_election['negative_reason_encode']=negative_sentiment_election['negative_reason'].replace(['segregation','gun control','calling election early','others','tell lies','scandal','covid ','climate problem','healthcare and marijuana','women reproductive right and racism','economy']\n"
     ]
    }
   ],
   "source": [
    "negative_sentiment_election['negative_reason_encode']=negative_sentiment_election['negative_reason'].replace(['segregation','gun control','calling election early','others','tell lies','scandal','covid ','climate problem','healthcare and marijuana','women reproductive right and racism','economy'] ,[0,0,0,1,2,2,3,3,3,4,5])"
   ]
  },
  {
   "cell_type": "code",
   "execution_count": 229,
   "id": "a9ddd24e",
   "metadata": {
    "id": "a9ddd24e"
   },
   "outputs": [
    {
     "data": {
      "text/html": [
       "<div>\n",
       "<style scoped>\n",
       "    .dataframe tbody tr th:only-of-type {\n",
       "        vertical-align: middle;\n",
       "    }\n",
       "\n",
       "    .dataframe tbody tr th {\n",
       "        vertical-align: top;\n",
       "    }\n",
       "\n",
       "    .dataframe thead th {\n",
       "        text-align: right;\n",
       "    }\n",
       "</style>\n",
       "<table border=\"1\" class=\"dataframe\">\n",
       "  <thead>\n",
       "    <tr style=\"text-align: right;\">\n",
       "      <th></th>\n",
       "      <th>text</th>\n",
       "      <th>sentiment</th>\n",
       "      <th>negative_reason</th>\n",
       "      <th>negative_reason_encode</th>\n",
       "    </tr>\n",
       "  </thead>\n",
       "  <tbody>\n",
       "    <tr>\n",
       "      <th>0</th>\n",
       "      <td>canadian election power grab pm trudeau, yes -- take away opposition leaders chosen obstruction (20 non-confidence motions) disinformation middle worldwide pandemic. yes, one wanted vote; opposition antics forced it.</td>\n",
       "      <td>0</td>\n",
       "      <td>calling election early</td>\n",
       "      <td>0</td>\n",
       "    </tr>\n",
       "    <tr>\n",
       "      <th>1</th>\n",
       "      <td>hope trudeau loses canadian election tomorrow , called snap one thinking he’d romp it.. seems people don’t like black face hypocrite, super wokist &amp; covid restriction groupie.. let’s hope polls right, might make government think again.</td>\n",
       "      <td>0</td>\n",
       "      <td>covid</td>\n",
       "      <td>3</td>\n",
       "    </tr>\n",
       "    <tr>\n",
       "      <th>3</th>\n",
       "      <td>canadian friends: never forget trudeau 2 years mandate + called completely unnecessary election right vaccine mandates rolled - moment extreme political volatility. gambled country could less accountable. #elxn44</td>\n",
       "      <td>0</td>\n",
       "      <td>calling election early</td>\n",
       "      <td>0</td>\n",
       "    </tr>\n",
       "    <tr>\n",
       "      <th>5</th>\n",
       "      <td>vaccines &amp; guns key election o'toole serious plan get canadians vaccinated (he can't even get candidates vaccinated) &amp; playing games guns deliver fun lobby. many canadians (and me), climate issue. so...</td>\n",
       "      <td>0</td>\n",
       "      <td>covid</td>\n",
       "      <td>3</td>\n",
       "    </tr>\n",
       "    <tr>\n",
       "      <th>6</th>\n",
       "      <td>i’m sorry, moderators respond leadership candidates can’t? debate farce frankly disservice canadians, awful 2019 formats hope next election see new moderation format. they’ve two goes, that’s enough. #elxn44 #cdnpoli</td>\n",
       "      <td>0</td>\n",
       "      <td>others</td>\n",
       "      <td>1</td>\n",
       "    </tr>\n",
       "  </tbody>\n",
       "</table>\n",
       "</div>"
      ],
      "text/plain": [
       "                                                                                                                                                                                                                                          text  \\\n",
       "0  canadian election power grab pm trudeau, yes -- take away opposition leaders chosen obstruction (20 non-confidence motions) disinformation middle worldwide pandemic. yes, one wanted vote; opposition antics forced it.                      \n",
       "1  hope trudeau loses canadian election tomorrow , called snap one thinking he’d romp it.. seems people don’t like black face hypocrite, super wokist & covid restriction groupie.. let’s hope polls right, might make government think again.   \n",
       "3  canadian friends: never forget trudeau 2 years mandate + called completely unnecessary election right vaccine mandates rolled - moment extreme political volatility. gambled country could less accountable. #elxn44                          \n",
       "5  vaccines & guns key election o'toole serious plan get canadians vaccinated (he can't even get candidates vaccinated) & playing games guns deliver fun lobby. many canadians (and me), climate issue. so...                                    \n",
       "6  i’m sorry, moderators respond leadership candidates can’t? debate farce frankly disservice canadians, awful 2019 formats hope next election see new moderation format. they’ve two goes, that’s enough. #elxn44 #cdnpoli                      \n",
       "\n",
       "   sentiment         negative_reason  negative_reason_encode  \n",
       "0  0          calling election early  0                       \n",
       "1  0          covid                   3                       \n",
       "3  0          calling election early  0                       \n",
       "5  0          covid                   3                       \n",
       "6  0          others                  1                       "
      ]
     },
     "execution_count": 229,
     "metadata": {},
     "output_type": "execute_result"
    }
   ],
   "source": [
    "negative_sentiment_election=pd.DataFrame(negative_sentiment_election)\n",
    "negative_sentiment_election.head()"
   ]
  },
  {
   "cell_type": "code",
   "execution_count": 230,
   "id": "7e2ce2bd",
   "metadata": {
    "id": "7e2ce2bd"
   },
   "outputs": [],
   "source": [
    "# let x only include the columns with the independent variable 'text', but let y only include the target\n",
    "X = negative_sentiment_election['text'].copy()\n",
    "y = negative_sentiment_election['negative_reason_encode'].copy()"
   ]
  },
  {
   "cell_type": "code",
   "execution_count": 231,
   "id": "1c3aaa5e",
   "metadata": {
    "id": "1c3aaa5e"
   },
   "outputs": [],
   "source": [
    "# Separate the data into 70% training data, 30% test data\n",
    "X_train, X_test, y_train, y_test = train_test_split(X, y,train_size=0.7,test_size=0.3)"
   ]
  },
  {
   "cell_type": "code",
   "execution_count": 232,
   "id": "742f29f8",
   "metadata": {
    "id": "742f29f8"
   },
   "outputs": [
    {
     "data": {
      "text/plain": [
       "(270,)"
      ]
     },
     "execution_count": 232,
     "metadata": {},
     "output_type": "execute_result"
    }
   ],
   "source": [
    "X_train.shape"
   ]
  },
  {
   "cell_type": "code",
   "execution_count": 233,
   "id": "27ba4f95",
   "metadata": {
    "id": "27ba4f95"
   },
   "outputs": [
    {
     "data": {
      "text/plain": [
       "(117,)"
      ]
     },
     "execution_count": 233,
     "metadata": {},
     "output_type": "execute_result"
    }
   ],
   "source": [
    "X_test.shape"
   ]
  },
  {
   "cell_type": "code",
   "execution_count": 234,
   "id": "c97dead5",
   "metadata": {
    "id": "c97dead5"
   },
   "outputs": [],
   "source": [
    "# Bag of words to transform x_train\n",
    "X_train_word_negative = bag_of_words.fit_transform(X_train)\n",
    "X_test_word_negative = bag_of_words.transform(X_test)"
   ]
  },
  {
   "cell_type": "code",
   "execution_count": 235,
   "id": "2107eadb",
   "metadata": {
    "id": "2107eadb"
   },
   "outputs": [
    {
     "data": {
      "text/plain": [
       "(270, 2071)"
      ]
     },
     "execution_count": 235,
     "metadata": {},
     "output_type": "execute_result"
    }
   ],
   "source": [
    "X_train_word_negative.shape"
   ]
  },
  {
   "cell_type": "code",
   "execution_count": 236,
   "id": "cf6f879c",
   "metadata": {
    "id": "cf6f879c"
   },
   "outputs": [
    {
     "data": {
      "text/plain": [
       "(117, 2071)"
      ]
     },
     "execution_count": 236,
     "metadata": {},
     "output_type": "execute_result"
    }
   ],
   "source": [
    "X_test_word_negative.shape"
   ]
  },
  {
   "cell_type": "code",
   "execution_count": 237,
   "id": "be2faadd",
   "metadata": {
    "id": "be2faadd"
   },
   "outputs": [
    {
     "data": {
      "text/plain": [
       "LogisticRegression()"
      ]
     },
     "execution_count": 237,
     "metadata": {},
     "output_type": "execute_result"
    }
   ],
   "source": [
    "#Applying CountVectorizer to Logistic Regression \n",
    "logis= LogisticRegression()\n",
    "logis.fit(X_train_word_negative,y_train)"
   ]
  },
  {
   "cell_type": "code",
   "execution_count": 239,
   "id": "7ea87875",
   "metadata": {
    "id": "7ea87875"
   },
   "outputs": [],
   "source": [
    "# Put the X-train into logistic regression model\n",
    "y_predict_election_negative_train=logis.predict(X_train_word_negative)\n",
    "y_predict_election_negative_test=logis.predict(X_test_word_negative)"
   ]
  },
  {
   "cell_type": "code",
   "execution_count": 240,
   "id": "6919dfa3",
   "metadata": {
    "id": "6919dfa3"
   },
   "outputs": [
    {
     "data": {
      "text/plain": [
       "(270,)"
      ]
     },
     "execution_count": 240,
     "metadata": {},
     "output_type": "execute_result"
    }
   ],
   "source": [
    "y_predict_election_negative_train.shape"
   ]
  },
  {
   "cell_type": "code",
   "execution_count": 241,
   "id": "29d327a9",
   "metadata": {
    "id": "29d327a9"
   },
   "outputs": [
    {
     "data": {
      "text/plain": [
       "(270,)"
      ]
     },
     "execution_count": 241,
     "metadata": {},
     "output_type": "execute_result"
    }
   ],
   "source": [
    "y_train.shape"
   ]
  },
  {
   "cell_type": "code",
   "execution_count": 242,
   "id": "5ef510a8",
   "metadata": {
    "id": "5ef510a8"
   },
   "outputs": [
    {
     "data": {
      "text/plain": [
       "(117,)"
      ]
     },
     "execution_count": 242,
     "metadata": {},
     "output_type": "execute_result"
    }
   ],
   "source": [
    "y_predict_election_negative_test.shape"
   ]
  },
  {
   "cell_type": "code",
   "execution_count": 243,
   "id": "5ebb6aaa",
   "metadata": {
    "id": "5ebb6aaa"
   },
   "outputs": [
    {
     "data": {
      "text/plain": [
       "(117,)"
      ]
     },
     "execution_count": 243,
     "metadata": {},
     "output_type": "execute_result"
    }
   ],
   "source": [
    "y_test.shape"
   ]
  },
  {
   "cell_type": "code",
   "execution_count": 271,
   "id": "62e7f84d",
   "metadata": {},
   "outputs": [
    {
     "data": {
      "text/html": [
       "<div>\n",
       "<style scoped>\n",
       "    .dataframe tbody tr th:only-of-type {\n",
       "        vertical-align: middle;\n",
       "    }\n",
       "\n",
       "    .dataframe tbody tr th {\n",
       "        vertical-align: top;\n",
       "    }\n",
       "\n",
       "    .dataframe thead th {\n",
       "        text-align: right;\n",
       "    }\n",
       "</style>\n",
       "<table border=\"1\" class=\"dataframe\">\n",
       "  <thead>\n",
       "    <tr style=\"text-align: right;\">\n",
       "      <th></th>\n",
       "      <th>Predict negative reason</th>\n",
       "    </tr>\n",
       "  </thead>\n",
       "  <tbody>\n",
       "    <tr>\n",
       "      <th>0</th>\n",
       "      <td>1</td>\n",
       "    </tr>\n",
       "    <tr>\n",
       "      <th>1</th>\n",
       "      <td>0</td>\n",
       "    </tr>\n",
       "    <tr>\n",
       "      <th>2</th>\n",
       "      <td>1</td>\n",
       "    </tr>\n",
       "    <tr>\n",
       "      <th>3</th>\n",
       "      <td>3</td>\n",
       "    </tr>\n",
       "    <tr>\n",
       "      <th>4</th>\n",
       "      <td>2</td>\n",
       "    </tr>\n",
       "  </tbody>\n",
       "</table>\n",
       "</div>"
      ],
      "text/plain": [
       "   Predict negative reason\n",
       "0  1                      \n",
       "1  0                      \n",
       "2  1                      \n",
       "3  3                      \n",
       "4  2                      "
      ]
     },
     "execution_count": 271,
     "metadata": {},
     "output_type": "execute_result"
    }
   ],
   "source": [
    "y_predict_election_negative_train=pd.DataFrame(y_predict_election_negative_train)\n",
    "y_predict_election_negative_train.columns = ['Predict negative reason']\n",
    "y_predict_election_negative_train.head()"
   ]
  },
  {
   "cell_type": "code",
   "execution_count": 248,
   "id": "eaf51789",
   "metadata": {
    "id": "eaf51789"
   },
   "outputs": [
    {
     "name": "stderr",
     "output_type": "stream",
     "text": [
      "/var/folders/k8/5mxt7tx502x182rpcwd55p080000gn/T/ipykernel_43198/1048369727.py:3: UserWarning: DelftStack\n",
      "  warnings.warn('DelftStack')\n"
     ]
    }
   ],
   "source": [
    "# Ignore warning message\n",
    "import warnings\n",
    "warnings.filterwarnings('ignore', '.*do not.*', )\n",
    "warnings.warn('DelftStack')\n",
    "warnings.filterwarnings('ignore')\n",
    "\n",
    "# Model tuning, with change the solver, penalty, c.\n",
    "model = LogisticRegression()\n",
    "scaler = StandardScaler()\n",
    "solver = ['newton-cg', 'lbfgs', 'liblinear']\n",
    "penalty = ['l2','none']\n",
    "c_values = [0.1,1,10,100,200]\n",
    "grid = dict(solver=solver,penalty=penalty,C=c_values)\n",
    "cv = RepeatedStratifiedKFold(n_splits=10, n_repeats=3, random_state=1)\n",
    "grid = GridSearchCV(estimator=model, param_grid=grid, cv=cv, scoring='accuracy')\n",
    "result = grid.fit(X_train_word_negative, y_train)\n",
    "\n"
   ]
  },
  {
   "cell_type": "code",
   "execution_count": 249,
   "id": "34062a41",
   "metadata": {
    "id": "34062a41"
   },
   "outputs": [
    {
     "name": "stdout",
     "output_type": "stream",
     "text": [
      "Best model prediction percentage: 0.535802 using {'C': 1, 'penalty': 'l2', 'solver': 'liblinear'}\n"
     ]
    }
   ],
   "source": [
    "print(\"Best model prediction percentage: %f using %s\" % (result.best_score_, result.best_params_))"
   ]
  },
  {
   "cell_type": "markdown",
   "id": "7f75deac",
   "metadata": {},
   "source": [
    "#### <div style='color:blue'> - Model Implementation: Provide a few reasons why your model may fail to predict the correct negative reasons?\n",
    "  \n",
    "<div style='color:Tomato'> The reason why my model fail to predict is that there may have some bias, also the data is not balance data, which may also influence the result. Also the model may not good, maybe we can try the other models, such as decision tree. Our hyperparameter may not tuning good."
   ]
  },
  {
   "cell_type": "markdown",
   "id": "4752880c",
   "metadata": {},
   "source": [
    "### 4.b.b"
   ]
  },
  {
   "cell_type": "markdown",
   "id": "138f7ddb",
   "metadata": {},
   "source": [
    "#### <div style='color:blue'> - Model Implementation: Suggest one way you can improve the accuracy of your selected model.\n",
    "    \n",
    "<div style='color:Tomato'> Change the hyperparameter. Also, the data is not enough, there is only 300 variables has the negative reason, if we have more dataset, it will increase the accuracy of my model."
   ]
  },
  {
   "cell_type": "markdown",
   "id": "9e1691c9",
   "metadata": {},
   "source": [
    "### 4.b.c"
   ]
  },
  {
   "cell_type": "code",
   "execution_count": 272,
   "id": "ee806f17",
   "metadata": {},
   "outputs": [],
   "source": [
    "# government_reason: it means it caused by the government themselves\n",
    "# other\n",
    "# Election reason: which is called by electors\n",
    "# Society Reason: it means it is influence not only canada, this reasob is influence lots of people\n",
    "# Gender Reason: it means there are some issues related to the gender.\n",
    "# Econony reason: economy issue\n",
    "government_reason=['segregation','gun control','calling election early']\n",
    "other=['others']\n",
    "elector_reason=['tell lies','scandal']\n",
    "society_reason=['covid ','climate problem','healthcare and marijuana']\n",
    "gender_reason=['women reproductive right and racism']\n",
    "economy_reason=['economy']"
   ]
  },
  {
   "cell_type": "code",
   "execution_count": 273,
   "id": "0537174f",
   "metadata": {},
   "outputs": [],
   "source": [
    "negative_sentiment_election['negative_reason_encode']=negative_sentiment_election['negative_reason'].replace(['segregation','gun control','calling election early','others','tell lies','scandal','covid ','climate problem','healthcare and marijuana','women reproductive right and racism','economy'] ,[0,0,0,1,2,2,3,3,3,4,5])"
   ]
  },
  {
   "cell_type": "markdown",
   "id": "67928e60",
   "metadata": {},
   "source": [
    "#### <div style='color:blue'> - Model Implementation: Feel free to combine similar reasons into fewer categories as long as you justify your reasoning.\n",
    "    \n",
    "<div style='color:Tomato'> I divided into 6 groups, which are the 1. government_reason: it means it caused by the government themselves; 2. other; 3. Election reason: which is called by electors; 4. Society Reason: it means it is influence not only canada, this reasob is influence lots of people; 5. Gender Reason: it means there are some issues related to the gender; 6. Econony reason: economy issue."
   ]
  },
  {
   "cell_type": "markdown",
   "id": "6f1e93c9",
   "metadata": {
    "id": "6f1e93c9"
   },
   "source": [
    "### 4.c"
   ]
  },
  {
   "cell_type": "markdown",
   "id": "2d7022ad",
   "metadata": {
    "id": "2d7022ad"
   },
   "source": [
    "#### Negative text word frequency"
   ]
  },
  {
   "cell_type": "code",
   "execution_count": 250,
   "id": "39ab2a28",
   "metadata": {
    "id": "39ab2a28"
   },
   "outputs": [],
   "source": [
    "# Select the column 'text' in the negative sentiment election true table\n",
    "negative_text=negative_sentiment_election['text']"
   ]
  },
  {
   "cell_type": "code",
   "execution_count": 251,
   "id": "8858e7b9",
   "metadata": {
    "id": "8858e7b9"
   },
   "outputs": [],
   "source": [
    "# Transform the text into bag of words \n",
    "negative_text_words=bag_of_words.fit_transform(negative_text)"
   ]
  },
  {
   "cell_type": "code",
   "execution_count": 253,
   "id": "fe6c48ba",
   "metadata": {
    "id": "fe6c48ba"
   },
   "outputs": [
    {
     "data": {
      "text/html": [
       "<div>\n",
       "<style scoped>\n",
       "    .dataframe tbody tr th:only-of-type {\n",
       "        vertical-align: middle;\n",
       "    }\n",
       "\n",
       "    .dataframe tbody tr th {\n",
       "        vertical-align: top;\n",
       "    }\n",
       "\n",
       "    .dataframe thead th {\n",
       "        text-align: right;\n",
       "    }\n",
       "</style>\n",
       "<table border=\"1\" class=\"dataframe\">\n",
       "  <thead>\n",
       "    <tr style=\"text-align: right;\">\n",
       "      <th></th>\n",
       "      <th>Word</th>\n",
       "      <th>Frequency</th>\n",
       "    </tr>\n",
       "  </thead>\n",
       "  <tbody>\n",
       "    <tr>\n",
       "      <th>723</th>\n",
       "      <td>election</td>\n",
       "      <td>265</td>\n",
       "    </tr>\n",
       "    <tr>\n",
       "      <th>2321</th>\n",
       "      <td>trudeau</td>\n",
       "      <td>159</td>\n",
       "    </tr>\n",
       "    <tr>\n",
       "      <th>369</th>\n",
       "      <td>canadians</td>\n",
       "      <td>146</td>\n",
       "    </tr>\n",
       "    <tr>\n",
       "      <th>1619</th>\n",
       "      <td>otoole</td>\n",
       "      <td>88</td>\n",
       "    </tr>\n",
       "    <tr>\n",
       "      <th>362</th>\n",
       "      <td>canada</td>\n",
       "      <td>78</td>\n",
       "    </tr>\n",
       "    <tr>\n",
       "      <th>365</th>\n",
       "      <td>canadian</td>\n",
       "      <td>65</td>\n",
       "    </tr>\n",
       "    <tr>\n",
       "      <th>1638</th>\n",
       "      <td>pandemic</td>\n",
       "      <td>51</td>\n",
       "    </tr>\n",
       "    <tr>\n",
       "      <th>1230</th>\n",
       "      <td>justintrudeau</td>\n",
       "      <td>47</td>\n",
       "    </tr>\n",
       "    <tr>\n",
       "      <th>733</th>\n",
       "      <td>elxn44</td>\n",
       "      <td>45</td>\n",
       "    </tr>\n",
       "    <tr>\n",
       "      <th>1323</th>\n",
       "      <td>like</td>\n",
       "      <td>43</td>\n",
       "    </tr>\n",
       "    <tr>\n",
       "      <th>2416</th>\n",
       "      <td>vote</td>\n",
       "      <td>41</td>\n",
       "    </tr>\n",
       "    <tr>\n",
       "      <th>2295</th>\n",
       "      <td>toole</td>\n",
       "      <td>37</td>\n",
       "    </tr>\n",
       "    <tr>\n",
       "      <th>401</th>\n",
       "      <td>cdnpoli</td>\n",
       "      <td>36</td>\n",
       "    </tr>\n",
       "    <tr>\n",
       "      <th>1552</th>\n",
       "      <td>nevervoteconservative</td>\n",
       "      <td>30</td>\n",
       "    </tr>\n",
       "    <tr>\n",
       "      <th>352</th>\n",
       "      <td>called</td>\n",
       "      <td>29</td>\n",
       "    </tr>\n",
       "    <tr>\n",
       "      <th>1650</th>\n",
       "      <td>party</td>\n",
       "      <td>28</td>\n",
       "    </tr>\n",
       "    <tr>\n",
       "      <th>765</th>\n",
       "      <td>erinotoole</td>\n",
       "      <td>28</td>\n",
       "    </tr>\n",
       "    <tr>\n",
       "      <th>1709</th>\n",
       "      <td>pm</td>\n",
       "      <td>26</td>\n",
       "    </tr>\n",
       "    <tr>\n",
       "      <th>1669</th>\n",
       "      <td>people</td>\n",
       "      <td>25</td>\n",
       "    </tr>\n",
       "    <tr>\n",
       "      <th>2553</th>\n",
       "      <td>years</td>\n",
       "      <td>24</td>\n",
       "    </tr>\n",
       "    <tr>\n",
       "      <th>1042</th>\n",
       "      <td>he</td>\n",
       "      <td>24</td>\n",
       "    </tr>\n",
       "    <tr>\n",
       "      <th>1599</th>\n",
       "      <td>one</td>\n",
       "      <td>23</td>\n",
       "    </tr>\n",
       "    <tr>\n",
       "      <th>1229</th>\n",
       "      <td>justin</td>\n",
       "      <td>23</td>\n",
       "    </tr>\n",
       "    <tr>\n",
       "      <th>489</th>\n",
       "      <td>conservatives</td>\n",
       "      <td>23</td>\n",
       "    </tr>\n",
       "    <tr>\n",
       "      <th>1550</th>\n",
       "      <td>never</td>\n",
       "      <td>23</td>\n",
       "    </tr>\n",
       "    <tr>\n",
       "      <th>946</th>\n",
       "      <td>get</td>\n",
       "      <td>23</td>\n",
       "    </tr>\n",
       "    <tr>\n",
       "      <th>2380</th>\n",
       "      <td>us</td>\n",
       "      <td>22</td>\n",
       "    </tr>\n",
       "    <tr>\n",
       "      <th>1190</th>\n",
       "      <td>it</td>\n",
       "      <td>22</td>\n",
       "    </tr>\n",
       "    <tr>\n",
       "      <th>1006</th>\n",
       "      <td>gun</td>\n",
       "      <td>22</td>\n",
       "    </tr>\n",
       "    <tr>\n",
       "      <th>351</th>\n",
       "      <td>call</td>\n",
       "      <td>22</td>\n",
       "    </tr>\n",
       "    <tr>\n",
       "      <th>353</th>\n",
       "      <td>calling</td>\n",
       "      <td>21</td>\n",
       "    </tr>\n",
       "    <tr>\n",
       "      <th>2538</th>\n",
       "      <td>would</td>\n",
       "      <td>21</td>\n",
       "    </tr>\n",
       "    <tr>\n",
       "      <th>384</th>\n",
       "      <td>care</td>\n",
       "      <td>20</td>\n",
       "    </tr>\n",
       "    <tr>\n",
       "      <th>764</th>\n",
       "      <td>erin</td>\n",
       "      <td>20</td>\n",
       "    </tr>\n",
       "    <tr>\n",
       "      <th>361</th>\n",
       "      <td>can</td>\n",
       "      <td>19</td>\n",
       "    </tr>\n",
       "    <tr>\n",
       "      <th>1285</th>\n",
       "      <td>leader</td>\n",
       "      <td>19</td>\n",
       "    </tr>\n",
       "    <tr>\n",
       "      <th>518</th>\n",
       "      <td>country</td>\n",
       "      <td>19</td>\n",
       "    </tr>\n",
       "    <tr>\n",
       "      <th>973</th>\n",
       "      <td>good</td>\n",
       "      <td>19</td>\n",
       "    </tr>\n",
       "    <tr>\n",
       "      <th>1396</th>\n",
       "      <td>many</td>\n",
       "      <td>19</td>\n",
       "    </tr>\n",
       "    <tr>\n",
       "      <th>488</th>\n",
       "      <td>conservative</td>\n",
       "      <td>19</td>\n",
       "    </tr>\n",
       "    <tr>\n",
       "      <th>1261</th>\n",
       "      <td>know</td>\n",
       "      <td>18</td>\n",
       "    </tr>\n",
       "    <tr>\n",
       "      <th>971</th>\n",
       "      <td>going</td>\n",
       "      <td>18</td>\n",
       "    </tr>\n",
       "    <tr>\n",
       "      <th>222</th>\n",
       "      <td>bad</td>\n",
       "      <td>17</td>\n",
       "    </tr>\n",
       "    <tr>\n",
       "      <th>2257</th>\n",
       "      <td>think</td>\n",
       "      <td>17</td>\n",
       "    </tr>\n",
       "    <tr>\n",
       "      <th>1449</th>\n",
       "      <td>million</td>\n",
       "      <td>17</td>\n",
       "    </tr>\n",
       "    <tr>\n",
       "      <th>1313</th>\n",
       "      <td>liberals</td>\n",
       "      <td>17</td>\n",
       "    </tr>\n",
       "    <tr>\n",
       "      <th>2372</th>\n",
       "      <td>unnecessary</td>\n",
       "      <td>17</td>\n",
       "    </tr>\n",
       "    <tr>\n",
       "      <th>1983</th>\n",
       "      <td>say</td>\n",
       "      <td>17</td>\n",
       "    </tr>\n",
       "    <tr>\n",
       "      <th>525</th>\n",
       "      <td>covid</td>\n",
       "      <td>17</td>\n",
       "    </tr>\n",
       "    <tr>\n",
       "      <th>2456</th>\n",
       "      <td>way</td>\n",
       "      <td>16</td>\n",
       "    </tr>\n",
       "  </tbody>\n",
       "</table>\n",
       "</div>"
      ],
      "text/plain": [
       "                       Word  Frequency\n",
       "723   election               265      \n",
       "2321  trudeau                159      \n",
       "369   canadians              146      \n",
       "1619  otoole                 88       \n",
       "362   canada                 78       \n",
       "365   canadian               65       \n",
       "1638  pandemic               51       \n",
       "1230  justintrudeau          47       \n",
       "733   elxn44                 45       \n",
       "1323  like                   43       \n",
       "2416  vote                   41       \n",
       "2295  toole                  37       \n",
       "401   cdnpoli                36       \n",
       "1552  nevervoteconservative  30       \n",
       "352   called                 29       \n",
       "1650  party                  28       \n",
       "765   erinotoole             28       \n",
       "1709  pm                     26       \n",
       "1669  people                 25       \n",
       "2553  years                  24       \n",
       "1042  he                     24       \n",
       "1599  one                    23       \n",
       "1229  justin                 23       \n",
       "489   conservatives          23       \n",
       "1550  never                  23       \n",
       "946   get                    23       \n",
       "2380  us                     22       \n",
       "1190  it                     22       \n",
       "1006  gun                    22       \n",
       "351   call                   22       \n",
       "353   calling                21       \n",
       "2538  would                  21       \n",
       "384   care                   20       \n",
       "764   erin                   20       \n",
       "361   can                    19       \n",
       "1285  leader                 19       \n",
       "518   country                19       \n",
       "973   good                   19       \n",
       "1396  many                   19       \n",
       "488   conservative           19       \n",
       "1261  know                   18       \n",
       "971   going                  18       \n",
       "222   bad                    17       \n",
       "2257  think                  17       \n",
       "1449  million                17       \n",
       "1313  liberals               17       \n",
       "2372  unnecessary            17       \n",
       "1983  say                    17       \n",
       "525   covid                  17       \n",
       "2456  way                    16       "
      ]
     },
     "execution_count": 253,
     "metadata": {},
     "output_type": "execute_result"
    }
   ],
   "source": [
    "# Find the top50 frequency\n",
    "word = bag_of_words.get_feature_names()  \n",
    "count_list = negative_text_words.toarray().sum(axis=0)   \n",
    "neg=list(dict(zip(word,count_list)).items())\n",
    "negative_word_rank = pd.DataFrame(neg)\n",
    "negative_word_rank = negative_word_rank.sort_values([1], ascending=False)\n",
    "negative_word_rank.columns=['Word','Frequency']\n",
    "negative_word_rank.head(50)"
   ]
  },
  {
   "cell_type": "markdown",
   "id": "860a554d",
   "metadata": {
    "id": "860a554d"
   },
   "source": [
    "#### Positive text word frequency"
   ]
  },
  {
   "cell_type": "code",
   "execution_count": 254,
   "id": "c415e408",
   "metadata": {
    "id": "c415e408"
   },
   "outputs": [],
   "source": [
    "# Select the column 'sentiment' is positive\n",
    "positive_sentiment_election=election[election['sentiment']==1]"
   ]
  },
  {
   "cell_type": "code",
   "execution_count": 255,
   "id": "4bb6fd3a",
   "metadata": {
    "id": "4bb6fd3a"
   },
   "outputs": [
    {
     "data": {
      "text/html": [
       "<div>\n",
       "<style scoped>\n",
       "    .dataframe tbody tr th:only-of-type {\n",
       "        vertical-align: middle;\n",
       "    }\n",
       "\n",
       "    .dataframe tbody tr th {\n",
       "        vertical-align: top;\n",
       "    }\n",
       "\n",
       "    .dataframe thead th {\n",
       "        text-align: right;\n",
       "    }\n",
       "</style>\n",
       "<table border=\"1\" class=\"dataframe\">\n",
       "  <thead>\n",
       "    <tr style=\"text-align: right;\">\n",
       "      <th></th>\n",
       "      <th>text</th>\n",
       "      <th>sentiment</th>\n",
       "      <th>negative_reason</th>\n",
       "    </tr>\n",
       "  </thead>\n",
       "  <tbody>\n",
       "    <tr>\n",
       "      <th>0</th>\n",
       "      <td>dear canadians, election test progressive are. whether stand science, women’s bipoc rights, equality, public healthcare &amp; education, environment. whether stand hate. much lose. don’t let us fall back. #cdnpoli #elxn44</td>\n",
       "      <td>1</td>\n",
       "      <td>NaN</td>\n",
       "    </tr>\n",
       "    <tr>\n",
       "      <th>1</th>\n",
       "      <td>sorry @thejagmeetsingh voted #ndp life election fighting freedoms canadian. voted last saturday @maxinebernier @peoplespca #ppc #voteppc2021 #voteforhumanrights #voteforfreedom #maximebernier #purplereign #freedom</td>\n",
       "      <td>1</td>\n",
       "      <td>NaN</td>\n",
       "    </tr>\n",
       "    <tr>\n",
       "      <th>2</th>\n",
       "      <td>canadians #voteppc support @maximebernier would blow un globalists great reset agenda 2030! could also catalyst freedom countries around world (including us) would respond too! election important!</td>\n",
       "      <td>1</td>\n",
       "      <td>NaN</td>\n",
       "    </tr>\n",
       "    <tr>\n",
       "      <th>3</th>\n",
       "      <td>justin trudeau literally rocks thrown yet continued showing &amp; answered questions election campaign. erin o’toole? hiding media day election doesn’t want answer legitimate concerns canadians have. #elxn44</td>\n",
       "      <td>1</td>\n",
       "      <td>NaN</td>\n",
       "    </tr>\n",
       "    <tr>\n",
       "      <th>4</th>\n",
       "      <td>#throwbackthursday federal election debate night 2019, ready tie 🤗 happens #election2021 debate night tonight - i'm ready jump anyone talks taxing cookies!  #vote #canada #cdnpoli</td>\n",
       "      <td>1</td>\n",
       "      <td>NaN</td>\n",
       "    </tr>\n",
       "  </tbody>\n",
       "</table>\n",
       "</div>"
      ],
      "text/plain": [
       "                                                                                                                                                                                                                        text  \\\n",
       "0  dear canadians, election test progressive are. whether stand science, women’s bipoc rights, equality, public healthcare & education, environment. whether stand hate. much lose. don’t let us fall back. #cdnpoli #elxn44   \n",
       "1  sorry @thejagmeetsingh voted #ndp life election fighting freedoms canadian. voted last saturday @maxinebernier @peoplespca #ppc #voteppc2021 #voteforhumanrights #voteforfreedom #maximebernier #purplereign #freedom       \n",
       "2  canadians #voteppc support @maximebernier would blow un globalists great reset agenda 2030! could also catalyst freedom countries around world (including us) would respond too! election important!                        \n",
       "3  justin trudeau literally rocks thrown yet continued showing & answered questions election campaign. erin o’toole? hiding media day election doesn’t want answer legitimate concerns canadians have. #elxn44                 \n",
       "4  #throwbackthursday federal election debate night 2019, ready tie 🤗 happens #election2021 debate night tonight - i'm ready jump anyone talks taxing cookies!  #vote #canada #cdnpoli                                         \n",
       "\n",
       "   sentiment negative_reason  \n",
       "0  1          NaN             \n",
       "1  1          NaN             \n",
       "2  1          NaN             \n",
       "3  1          NaN             \n",
       "4  1          NaN             "
      ]
     },
     "execution_count": 255,
     "metadata": {},
     "output_type": "execute_result"
    }
   ],
   "source": [
    "# Reset the index\n",
    "positive_sentiment_election = positive_sentiment_election.reset_index(drop=True)\n",
    "positive_sentiment_election.head()"
   ]
  },
  {
   "cell_type": "code",
   "execution_count": 256,
   "id": "e76941a1",
   "metadata": {
    "id": "e76941a1"
   },
   "outputs": [],
   "source": [
    "# Select the column 'text' in the positive sentiment election true table\n",
    "positive_text=positive_sentiment_election['text']"
   ]
  },
  {
   "cell_type": "code",
   "execution_count": 257,
   "id": "1ac4400e",
   "metadata": {
    "id": "1ac4400e"
   },
   "outputs": [],
   "source": [
    "# Transform the text into bag of words \n",
    "positive_text_words=bag_of_words.fit_transform(positive_text)"
   ]
  },
  {
   "cell_type": "code",
   "execution_count": 258,
   "id": "1623a9ee",
   "metadata": {
    "id": "1623a9ee"
   },
   "outputs": [
    {
     "data": {
      "text/html": [
       "<div>\n",
       "<style scoped>\n",
       "    .dataframe tbody tr th:only-of-type {\n",
       "        vertical-align: middle;\n",
       "    }\n",
       "\n",
       "    .dataframe tbody tr th {\n",
       "        vertical-align: top;\n",
       "    }\n",
       "\n",
       "    .dataframe thead th {\n",
       "        text-align: right;\n",
       "    }\n",
       "</style>\n",
       "<table border=\"1\" class=\"dataframe\">\n",
       "  <thead>\n",
       "    <tr style=\"text-align: right;\">\n",
       "      <th></th>\n",
       "      <th>Word</th>\n",
       "      <th>Frequency</th>\n",
       "    </tr>\n",
       "  </thead>\n",
       "  <tbody>\n",
       "    <tr>\n",
       "      <th>856</th>\n",
       "      <td>election</td>\n",
       "      <td>399</td>\n",
       "    </tr>\n",
       "    <tr>\n",
       "      <th>2841</th>\n",
       "      <td>vote</td>\n",
       "      <td>190</td>\n",
       "    </tr>\n",
       "    <tr>\n",
       "      <th>2713</th>\n",
       "      <td>trudeau</td>\n",
       "      <td>178</td>\n",
       "    </tr>\n",
       "    <tr>\n",
       "      <th>421</th>\n",
       "      <td>canadian</td>\n",
       "      <td>178</td>\n",
       "    </tr>\n",
       "    <tr>\n",
       "      <th>427</th>\n",
       "      <td>canadians</td>\n",
       "      <td>140</td>\n",
       "    </tr>\n",
       "    <tr>\n",
       "      <th>411</th>\n",
       "      <td>canada</td>\n",
       "      <td>138</td>\n",
       "    </tr>\n",
       "    <tr>\n",
       "      <th>1907</th>\n",
       "      <td>otoole</td>\n",
       "      <td>124</td>\n",
       "    </tr>\n",
       "    <tr>\n",
       "      <th>1149</th>\n",
       "      <td>good</td>\n",
       "      <td>74</td>\n",
       "    </tr>\n",
       "    <tr>\n",
       "      <th>873</th>\n",
       "      <td>elxn44</td>\n",
       "      <td>71</td>\n",
       "    </tr>\n",
       "    <tr>\n",
       "      <th>2924</th>\n",
       "      <td>win</td>\n",
       "      <td>62</td>\n",
       "    </tr>\n",
       "    <tr>\n",
       "      <th>1940</th>\n",
       "      <td>party</td>\n",
       "      <td>61</td>\n",
       "    </tr>\n",
       "    <tr>\n",
       "      <th>1114</th>\n",
       "      <td>get</td>\n",
       "      <td>59</td>\n",
       "    </tr>\n",
       "    <tr>\n",
       "      <th>996</th>\n",
       "      <td>federal</td>\n",
       "      <td>59</td>\n",
       "    </tr>\n",
       "    <tr>\n",
       "      <th>1542</th>\n",
       "      <td>like</td>\n",
       "      <td>54</td>\n",
       "    </tr>\n",
       "    <tr>\n",
       "      <th>464</th>\n",
       "      <td>cdnpoli</td>\n",
       "      <td>50</td>\n",
       "    </tr>\n",
       "    <tr>\n",
       "      <th>2053</th>\n",
       "      <td>ppc</td>\n",
       "      <td>48</td>\n",
       "    </tr>\n",
       "    <tr>\n",
       "      <th>1073</th>\n",
       "      <td>freedom</td>\n",
       "      <td>47</td>\n",
       "    </tr>\n",
       "    <tr>\n",
       "      <th>684</th>\n",
       "      <td>day</td>\n",
       "      <td>45</td>\n",
       "    </tr>\n",
       "    <tr>\n",
       "      <th>285</th>\n",
       "      <td>best</td>\n",
       "      <td>44</td>\n",
       "    </tr>\n",
       "    <tr>\n",
       "      <th>1440</th>\n",
       "      <td>justintrudeau</td>\n",
       "      <td>43</td>\n",
       "    </tr>\n",
       "    <tr>\n",
       "      <th>1969</th>\n",
       "      <td>people</td>\n",
       "      <td>41</td>\n",
       "    </tr>\n",
       "    <tr>\n",
       "      <th>915</th>\n",
       "      <td>erinotoole</td>\n",
       "      <td>41</td>\n",
       "    </tr>\n",
       "    <tr>\n",
       "      <th>1792</th>\n",
       "      <td>ndp</td>\n",
       "      <td>40</td>\n",
       "    </tr>\n",
       "    <tr>\n",
       "      <th>1393</th>\n",
       "      <td>it</td>\n",
       "      <td>40</td>\n",
       "    </tr>\n",
       "    <tr>\n",
       "      <th>2797</th>\n",
       "      <td>us</td>\n",
       "      <td>39</td>\n",
       "    </tr>\n",
       "    <tr>\n",
       "      <th>2855</th>\n",
       "      <td>voteppc</td>\n",
       "      <td>39</td>\n",
       "    </tr>\n",
       "    <tr>\n",
       "      <th>2960</th>\n",
       "      <td>would</td>\n",
       "      <td>38</td>\n",
       "    </tr>\n",
       "    <tr>\n",
       "      <th>286</th>\n",
       "      <td>better</td>\n",
       "      <td>38</td>\n",
       "    </tr>\n",
       "    <tr>\n",
       "      <th>1526</th>\n",
       "      <td>liberal</td>\n",
       "      <td>37</td>\n",
       "    </tr>\n",
       "    <tr>\n",
       "      <th>2866</th>\n",
       "      <td>voting</td>\n",
       "      <td>36</td>\n",
       "    </tr>\n",
       "    <tr>\n",
       "      <th>2289</th>\n",
       "      <td>right</td>\n",
       "      <td>36</td>\n",
       "    </tr>\n",
       "    <tr>\n",
       "      <th>1170</th>\n",
       "      <td>great</td>\n",
       "      <td>36</td>\n",
       "    </tr>\n",
       "    <tr>\n",
       "      <th>1286</th>\n",
       "      <td>hope</td>\n",
       "      <td>36</td>\n",
       "    </tr>\n",
       "    <tr>\n",
       "      <th>2874</th>\n",
       "      <td>want</td>\n",
       "      <td>35</td>\n",
       "    </tr>\n",
       "    <tr>\n",
       "      <th>1439</th>\n",
       "      <td>justin</td>\n",
       "      <td>35</td>\n",
       "    </tr>\n",
       "    <tr>\n",
       "      <th>2570</th>\n",
       "      <td>support</td>\n",
       "      <td>35</td>\n",
       "    </tr>\n",
       "    <tr>\n",
       "      <th>1800</th>\n",
       "      <td>need</td>\n",
       "      <td>34</td>\n",
       "    </tr>\n",
       "    <tr>\n",
       "      <th>2671</th>\n",
       "      <td>time</td>\n",
       "      <td>34</td>\n",
       "    </tr>\n",
       "    <tr>\n",
       "      <th>1585</th>\n",
       "      <td>love</td>\n",
       "      <td>32</td>\n",
       "    </tr>\n",
       "    <tr>\n",
       "      <th>1519</th>\n",
       "      <td>let</td>\n",
       "      <td>31</td>\n",
       "    </tr>\n",
       "    <tr>\n",
       "      <th>2690</th>\n",
       "      <td>toole</td>\n",
       "      <td>31</td>\n",
       "    </tr>\n",
       "    <tr>\n",
       "      <th>589</th>\n",
       "      <td>conservatives</td>\n",
       "      <td>31</td>\n",
       "    </tr>\n",
       "    <tr>\n",
       "      <th>2625</th>\n",
       "      <td>that</td>\n",
       "      <td>31</td>\n",
       "    </tr>\n",
       "    <tr>\n",
       "      <th>2847</th>\n",
       "      <td>voted</td>\n",
       "      <td>30</td>\n",
       "    </tr>\n",
       "    <tr>\n",
       "      <th>1889</th>\n",
       "      <td>one</td>\n",
       "      <td>30</td>\n",
       "    </tr>\n",
       "    <tr>\n",
       "      <th>2648</th>\n",
       "      <td>think</td>\n",
       "      <td>30</td>\n",
       "    </tr>\n",
       "    <tr>\n",
       "      <th>588</th>\n",
       "      <td>conservative</td>\n",
       "      <td>29</td>\n",
       "    </tr>\n",
       "    <tr>\n",
       "      <th>2851</th>\n",
       "      <td>voteliberal</td>\n",
       "      <td>29</td>\n",
       "    </tr>\n",
       "    <tr>\n",
       "      <th>643</th>\n",
       "      <td>cpc</td>\n",
       "      <td>28</td>\n",
       "    </tr>\n",
       "    <tr>\n",
       "      <th>1139</th>\n",
       "      <td>go</td>\n",
       "      <td>28</td>\n",
       "    </tr>\n",
       "  </tbody>\n",
       "</table>\n",
       "</div>"
      ],
      "text/plain": [
       "               Word  Frequency\n",
       "856   election       399      \n",
       "2841  vote           190      \n",
       "2713  trudeau        178      \n",
       "421   canadian       178      \n",
       "427   canadians      140      \n",
       "411   canada         138      \n",
       "1907  otoole         124      \n",
       "1149  good           74       \n",
       "873   elxn44         71       \n",
       "2924  win            62       \n",
       "1940  party          61       \n",
       "1114  get            59       \n",
       "996   federal        59       \n",
       "1542  like           54       \n",
       "464   cdnpoli        50       \n",
       "2053  ppc            48       \n",
       "1073  freedom        47       \n",
       "684   day            45       \n",
       "285   best           44       \n",
       "1440  justintrudeau  43       \n",
       "1969  people         41       \n",
       "915   erinotoole     41       \n",
       "1792  ndp            40       \n",
       "1393  it             40       \n",
       "2797  us             39       \n",
       "2855  voteppc        39       \n",
       "2960  would          38       \n",
       "286   better         38       \n",
       "1526  liberal        37       \n",
       "2866  voting         36       \n",
       "2289  right          36       \n",
       "1170  great          36       \n",
       "1286  hope           36       \n",
       "2874  want           35       \n",
       "1439  justin         35       \n",
       "2570  support        35       \n",
       "1800  need           34       \n",
       "2671  time           34       \n",
       "1585  love           32       \n",
       "1519  let            31       \n",
       "2690  toole          31       \n",
       "589   conservatives  31       \n",
       "2625  that           31       \n",
       "2847  voted          30       \n",
       "1889  one            30       \n",
       "2648  think          30       \n",
       "588   conservative   29       \n",
       "2851  voteliberal    29       \n",
       "643   cpc            28       \n",
       "1139  go             28       "
      ]
     },
     "execution_count": 258,
     "metadata": {},
     "output_type": "execute_result"
    }
   ],
   "source": [
    "# Find the top50 frequency\n",
    "word = bag_of_words.get_feature_names()  \n",
    "count_list = positive_text_words.toarray().sum(axis=0)   \n",
    "neg=list(dict(zip(word,count_list)).items())\n",
    "positive_word_rank = pd.DataFrame(neg)\n",
    "positive_word_rank = positive_word_rank.sort_values([1], ascending=False)\n",
    "positive_word_rank.columns=['Word','Frequency']\n",
    "positive_word_rank.head(50)"
   ]
  },
  {
   "cell_type": "code",
   "execution_count": null,
   "id": "b2b1f9f4",
   "metadata": {
    "id": "b2b1f9f4"
   },
   "outputs": [],
   "source": []
  }
 ],
 "metadata": {
  "colab": {
   "collapsed_sections": [],
   "name": "MIE1624_A3_Ningcan_Sun.ipynb",
   "provenance": []
  },
  "kernelspec": {
   "display_name": "Python 3 (ipykernel)",
   "language": "python",
   "name": "python3"
  },
  "language_info": {
   "codemirror_mode": {
    "name": "ipython",
    "version": 3
   },
   "file_extension": ".py",
   "mimetype": "text/x-python",
   "name": "python",
   "nbconvert_exporter": "python",
   "pygments_lexer": "ipython3",
   "version": "3.8.8"
  }
 },
 "nbformat": 4,
 "nbformat_minor": 5
}
